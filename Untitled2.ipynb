{
 "cells": [
  {
   "cell_type": "markdown",
   "id": "2e92a564-60e5-426e-a032-624f8cdc13d6",
   "metadata": {},
   "source": [
    "# Lecture - 2\n",
    "\n",
    "# Variables & Data Types in Python\n",
    "\n",
    "# Creating a variable"
   ]
  },
  {
   "cell_type": "code",
   "execution_count": 1,
   "id": "0cd91e12-b96f-4a09-a38a-6c40783a60af",
   "metadata": {},
   "outputs": [
    {
     "name": "stdout",
     "output_type": "stream",
     "text": [
      "5\n"
     ]
    }
   ],
   "source": [
    "x = 5\n",
    "print(x)"
   ]
  },
  {
   "cell_type": "code",
   "execution_count": 2,
   "id": "d7d0d714-7f60-4a6d-8a77-e24102f95515",
   "metadata": {},
   "outputs": [
    {
     "name": "stdout",
     "output_type": "stream",
     "text": [
      "10 2.5 Shubham Kumar\n"
     ]
    }
   ],
   "source": [
    "a = 10\n",
    "b = 2.5\n",
    "c = \"Shubham Kumar\"\n",
    "print(a, b, c)"
   ]
  },
  {
   "cell_type": "code",
   "execution_count": 3,
   "id": "174c4042-03ac-400a-8911-8f745a12ce88",
   "metadata": {},
   "outputs": [
    {
     "name": "stdout",
     "output_type": "stream",
     "text": [
      "Variable   Type     Data/Info\n",
      "-----------------------------\n",
      "a          int      10\n",
      "b          float    2.5\n",
      "c          str      Shubham Kumar\n",
      "x          int      5\n"
     ]
    }
   ],
   "source": [
    "%whos"
   ]
  },
  {
   "cell_type": "markdown",
   "id": "59f98e0a-6385-44e5-b7a5-dfd751403fb6",
   "metadata": {},
   "source": [
    "# A variable name must start with a letter or the underscore character"
   ]
  },
  {
   "cell_type": "code",
   "execution_count": 4,
   "id": "9a4fa52b-d79a-4cfa-91b2-13e7e1ff0633",
   "metadata": {},
   "outputs": [
    {
     "name": "stdout",
     "output_type": "stream",
     "text": [
      "23\n"
     ]
    }
   ],
   "source": [
    "apple = 23\n",
    "print(apple)"
   ]
  },
  {
   "cell_type": "code",
   "execution_count": 5,
   "id": "c8b26eaa-9a3b-40e0-a100-d625c5c1681a",
   "metadata": {},
   "outputs": [
    {
     "name": "stdout",
     "output_type": "stream",
     "text": [
      "2.5\n"
     ]
    }
   ],
   "source": [
    "apple_box = 2.5\n",
    "print(apple_box)"
   ]
  },
  {
   "cell_type": "code",
   "execution_count": 6,
   "id": "835ae7fe-4559-4efa-9211-697947648333",
   "metadata": {},
   "outputs": [
    {
     "name": "stdout",
     "output_type": "stream",
     "text": [
      "7\n"
     ]
    }
   ],
   "source": [
    "_ = 7\n",
    "print(_)"
   ]
  },
  {
   "cell_type": "code",
   "execution_count": 7,
   "id": "4933ef6d-847c-4f59-8b9b-f31bd52e25fe",
   "metadata": {},
   "outputs": [
    {
     "name": "stdout",
     "output_type": "stream",
     "text": [
      "7.5\n"
     ]
    }
   ],
   "source": [
    "_z = 7.5\n",
    "print(_z)"
   ]
  },
  {
   "cell_type": "code",
   "execution_count": 8,
   "id": "850c9c98-f1b3-412c-b06b-f4e5c40ba0ca",
   "metadata": {},
   "outputs": [
    {
     "name": "stdout",
     "output_type": "stream",
     "text": [
      "5\n"
     ]
    }
   ],
   "source": [
    "mnp_ = 5\n",
    "print(mnp_)"
   ]
  },
  {
   "cell_type": "markdown",
   "id": "f3e53f51-1cf1-46ba-b207-95daa0ee6c5d",
   "metadata": {},
   "source": [
    "# A variable name cannot start with a number"
   ]
  },
  {
   "cell_type": "code",
   "execution_count": 9,
   "id": "ad7ab92c-6564-4871-8ad5-d43bf24a1062",
   "metadata": {},
   "outputs": [
    {
     "ename": "SyntaxError",
     "evalue": "cannot assign to literal here. Maybe you meant '==' instead of '='? (1533801151.py, line 1)",
     "output_type": "error",
     "traceback": [
      "\u001b[1;36m  Cell \u001b[1;32mIn[9], line 1\u001b[1;36m\u001b[0m\n\u001b[1;33m    1 = 25\u001b[0m\n\u001b[1;37m    ^\u001b[0m\n\u001b[1;31mSyntaxError\u001b[0m\u001b[1;31m:\u001b[0m cannot assign to literal here. Maybe you meant '==' instead of '='?\n"
     ]
    }
   ],
   "source": [
    "1 = 25\n",
    "print(1)"
   ]
  },
  {
   "cell_type": "code",
   "execution_count": 10,
   "id": "6c974a03-61a4-407d-a823-ee74ec5b4f19",
   "metadata": {},
   "outputs": [
    {
     "name": "stdout",
     "output_type": "stream",
     "text": [
      "1\n"
     ]
    }
   ],
   "source": [
    "1 == 25\n",
    "print(1)"
   ]
  },
  {
   "cell_type": "code",
   "execution_count": 11,
   "id": "75671e69-841b-4b02-a519-3b9f9a37a895",
   "metadata": {},
   "outputs": [
    {
     "ename": "SyntaxError",
     "evalue": "invalid decimal literal (2758414843.py, line 1)",
     "output_type": "error",
     "traceback": [
      "\u001b[1;36m  Cell \u001b[1;32mIn[11], line 1\u001b[1;36m\u001b[0m\n\u001b[1;33m    1_apple = 215\u001b[0m\n\u001b[1;37m     ^\u001b[0m\n\u001b[1;31mSyntaxError\u001b[0m\u001b[1;31m:\u001b[0m invalid decimal literal\n"
     ]
    }
   ],
   "source": [
    "1_apple = 215\n",
    "print(1_apple)"
   ]
  },
  {
   "cell_type": "code",
   "execution_count": 12,
   "id": "a10fa50b-f294-4ec2-94fa-7c9603cf3222",
   "metadata": {},
   "outputs": [
    {
     "name": "stdout",
     "output_type": "stream",
     "text": [
      "15\n"
     ]
    }
   ],
   "source": [
    "apple_1 = 15\n",
    "print(apple_1)"
   ]
  },
  {
   "cell_type": "markdown",
   "id": "b8e81b70-bf64-469d-83ad-2455fc160193",
   "metadata": {},
   "source": [
    "# A variable name can only contain alpha-numeric characters \n",
    "# and underscores (A-z, 0-9,and_)"
   ]
  },
  {
   "cell_type": "code",
   "execution_count": 13,
   "id": "186cc534-fceb-4280-b11c-9c800c65fc7e",
   "metadata": {},
   "outputs": [
    {
     "name": "stdout",
     "output_type": "stream",
     "text": [
      "25\n"
     ]
    }
   ],
   "source": [
    "abc1234mnp = 25\n",
    "print(abc1234mnp)"
   ]
  },
  {
   "cell_type": "code",
   "execution_count": 14,
   "id": "cddc9dfd-4322-4a88-85b2-c258e5ffba6a",
   "metadata": {},
   "outputs": [
    {
     "name": "stdout",
     "output_type": "stream",
     "text": [
      "2\n"
     ]
    }
   ],
   "source": [
    "abc123456789 = 2\n",
    "print(abc123456789)"
   ]
  },
  {
   "cell_type": "code",
   "execution_count": 15,
   "id": "0fefab18-438c-4585-8221-1821bdb16783",
   "metadata": {},
   "outputs": [
    {
     "ename": "SyntaxError",
     "evalue": "invalid syntax (3761456393.py, line 1)",
     "output_type": "error",
     "traceback": [
      "\u001b[1;36m  Cell \u001b[1;32mIn[15], line 1\u001b[1;36m\u001b[0m\n\u001b[1;33m    $&@ = 25\u001b[0m\n\u001b[1;37m    ^\u001b[0m\n\u001b[1;31mSyntaxError\u001b[0m\u001b[1;31m:\u001b[0m invalid syntax\n"
     ]
    }
   ],
   "source": [
    "$&@ = 25\n",
    "print($&@)"
   ]
  },
  {
   "cell_type": "markdown",
   "id": "cbcd64a9-6fd7-4ccd-a747-feb86bb4b1e2",
   "metadata": {},
   "source": [
    "# Variable names case-sensitive (age, Age, AGE are three\n",
    "# different variables)"
   ]
  },
  {
   "cell_type": "code",
   "execution_count": 16,
   "id": "c824a4bd-e458-4634-bb8f-d355501e2a90",
   "metadata": {},
   "outputs": [
    {
     "name": "stdout",
     "output_type": "stream",
     "text": [
      "21\n",
      "24\n",
      "26\n",
      "35\n"
     ]
    }
   ],
   "source": [
    "age = 21\n",
    "Age = 24\n",
    "AGE = 26\n",
    "aGE = 35\n",
    "print(age)\n",
    "print(Age)\n",
    "print(AGE)\n",
    "print(aGE)"
   ]
  },
  {
   "cell_type": "markdown",
   "id": "cd739d72-a296-4348-a530-c84ecf9e2843",
   "metadata": {},
   "source": [
    "# Data Types in Python"
   ]
  },
  {
   "cell_type": "code",
   "execution_count": 18,
   "id": "738b882b-6ba7-48d5-afaf-4c1faa1d6cfb",
   "metadata": {},
   "outputs": [
    {
     "name": "stdout",
     "output_type": "stream",
     "text": [
      "5\n",
      "<class 'int'>\n",
      "1.5\n",
      "<class 'float'>\n",
      " my name is Shubham Kumar\n"
     ]
    },
    {
     "data": {
      "text/plain": [
       "str"
      ]
     },
     "execution_count": 18,
     "metadata": {},
     "output_type": "execute_result"
    }
   ],
   "source": [
    "a = 5\n",
    "b = 1.5\n",
    "c = \" my name is Shubham Kumar\"\n",
    "print(a)\n",
    "print(type(a))\n",
    "print(b)\n",
    "print(type(b))\n",
    "print(c)\n",
    "type(c)"
   ]
  },
  {
   "cell_type": "code",
   "execution_count": 20,
   "id": "1c34f47c-c6f4-41b8-9528-2c9a971189fd",
   "metadata": {},
   "outputs": [
    {
     "name": "stdout",
     "output_type": "stream",
     "text": [
      "(7+2j)\n",
      "<class 'complex'>\n"
     ]
    }
   ],
   "source": [
    "v = 7+2j\n",
    "print(v)\n",
    "print(type(v))"
   ]
  },
  {
   "cell_type": "code",
   "execution_count": 21,
   "id": "6385182c-3d37-4a6c-a2d4-c913b61f2a85",
   "metadata": {},
   "outputs": [
    {
     "name": "stdout",
     "output_type": "stream",
     "text": [
      "[23, 25, 27, 29]\n",
      "<class 'list'>\n"
     ]
    }
   ],
   "source": [
    "num = [23, 25, 27, 29]\n",
    "print(num)\n",
    "print(type(num))"
   ]
  },
  {
   "cell_type": "code",
   "execution_count": 23,
   "id": "2b412779-295c-4bd2-b808-0c4d7ebaa7ae",
   "metadata": {},
   "outputs": [
    {
     "name": "stdout",
     "output_type": "stream",
     "text": [
      "<class 'bool'>\n"
     ]
    }
   ],
   "source": [
    "num1 = True\n",
    "print(type(num1))"
   ]
  },
  {
   "cell_type": "code",
   "execution_count": 24,
   "id": "03fff89f-c322-4fcc-85c2-89a769253d93",
   "metadata": {},
   "outputs": [
    {
     "name": "stdout",
     "output_type": "stream",
     "text": [
      "<class 'bool'>\n"
     ]
    }
   ],
   "source": [
    "nu1 = False\n",
    "print(type(nu1))"
   ]
  },
  {
   "cell_type": "markdown",
   "id": "77737075-ada5-4dd5-8055-f1cdc396a10e",
   "metadata": {},
   "source": [
    "# A varible name cannot be any of the Python keywords"
   ]
  },
  {
   "cell_type": "code",
   "execution_count": 25,
   "id": "d6c8e20f-e109-41b0-b3b1-ab5ea50ccf36",
   "metadata": {},
   "outputs": [
    {
     "ename": "TypeError",
     "evalue": "'int' object is not callable",
     "output_type": "error",
     "traceback": [
      "\u001b[1;31m---------------------------------------------------------------------------\u001b[0m",
      "\u001b[1;31mTypeError\u001b[0m                                 Traceback (most recent call last)",
      "Cell \u001b[1;32mIn[25], line 2\u001b[0m\n\u001b[0;32m      1\u001b[0m \u001b[38;5;28mprint\u001b[39m \u001b[38;5;241m=\u001b[39m \u001b[38;5;241m15\u001b[39m\n\u001b[1;32m----> 2\u001b[0m \u001b[38;5;28mprint\u001b[39m(\u001b[38;5;28mprint\u001b[39m)\n",
      "\u001b[1;31mTypeError\u001b[0m: 'int' object is not callable"
     ]
    }
   ],
   "source": [
    "print = 15\n",
    "print(print)"
   ]
  },
  {
   "cell_type": "code",
   "execution_count": 26,
   "id": "6a2f2402-0706-41f4-801a-48f12d683d6e",
   "metadata": {},
   "outputs": [
    {
     "ename": "TypeError",
     "evalue": "'int' object is not callable",
     "output_type": "error",
     "traceback": [
      "\u001b[1;31m---------------------------------------------------------------------------\u001b[0m",
      "\u001b[1;31mTypeError\u001b[0m                                 Traceback (most recent call last)",
      "Cell \u001b[1;32mIn[26], line 2\u001b[0m\n\u001b[0;32m      1\u001b[0m \u001b[38;5;28mint\u001b[39m \u001b[38;5;241m=\u001b[39m \u001b[38;5;241m5\u001b[39m\n\u001b[1;32m----> 2\u001b[0m \u001b[38;5;28mprint\u001b[39m(\u001b[38;5;28mint\u001b[39m)\n",
      "\u001b[1;31mTypeError\u001b[0m: 'int' object is not callable"
     ]
    }
   ],
   "source": [
    "int = 5\n",
    "print(int)"
   ]
  },
  {
   "cell_type": "code",
   "execution_count": null,
   "id": "388757f4-761e-4f09-9312-1009f151caa5",
   "metadata": {},
   "outputs": [],
   "source": []
  },
  {
   "cell_type": "code",
   "execution_count": null,
   "id": "2449e691-80df-4d92-9790-e10a13971aa8",
   "metadata": {},
   "outputs": [],
   "source": []
  },
  {
   "cell_type": "code",
   "execution_count": null,
   "id": "84cede5a-e310-40d2-b1bf-ba2a90bce8f3",
   "metadata": {},
   "outputs": [],
   "source": []
  }
 ],
 "metadata": {
  "kernelspec": {
   "display_name": "Python 3 (ipykernel)",
   "language": "python",
   "name": "python3"
  },
  "language_info": {
   "codemirror_mode": {
    "name": "ipython",
    "version": 3
   },
   "file_extension": ".py",
   "mimetype": "text/x-python",
   "name": "python",
   "nbconvert_exporter": "python",
   "pygments_lexer": "ipython3",
   "version": "3.12.7"
  }
 },
 "nbformat": 4,
 "nbformat_minor": 5
}
