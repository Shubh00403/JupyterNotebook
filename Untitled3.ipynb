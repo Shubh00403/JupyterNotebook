{
 "cells": [
  {
   "cell_type": "markdown",
   "id": "cfde0cdc-d0f3-4eec-88a1-328e00d8139d",
   "metadata": {},
   "source": [
    "# Lecture 3"
   ]
  },
  {
   "cell_type": "markdown",
   "id": "830ccd95-97b7-4f5a-b0e1-2fa4a04c7933",
   "metadata": {},
   "source": [
    "# Arithmetic operater"
   ]
  },
  {
   "cell_type": "markdown",
   "id": "099544b3-c53e-4aeb-952f-c2b171e434ad",
   "metadata": {},
   "source": [
    "# Addition"
   ]
  },
  {
   "cell_type": "code",
   "execution_count": 1,
   "id": "8a1c50f3-86f8-487f-99ed-cad159cc1e9e",
   "metadata": {},
   "outputs": [
    {
     "name": "stdout",
     "output_type": "stream",
     "text": [
      "7\n"
     ]
    }
   ],
   "source": [
    "a = 2\n",
    "b = 5\n",
    "print(a+b)"
   ]
  },
  {
   "cell_type": "code",
   "execution_count": 2,
   "id": "fd5b60fc-bd02-4eb6-982f-a0a57707b4f3",
   "metadata": {},
   "outputs": [
    {
     "name": "stdout",
     "output_type": "stream",
     "text": [
      "7.0\n"
     ]
    }
   ],
   "source": [
    "x = 1.8\n",
    "y = 5.2\n",
    "print(x+y)"
   ]
  },
  {
   "cell_type": "code",
   "execution_count": 3,
   "id": "cc4fa4a5-8a19-4e7c-92e7-3731011033ad",
   "metadata": {},
   "outputs": [
    {
     "name": "stdout",
     "output_type": "stream",
     "text": [
      "Hello Students\n"
     ]
    }
   ],
   "source": [
    "a1 = \"Hello\"\n",
    "b1 = \"Students\"\n",
    "print(a1+\" \"+b1)"
   ]
  },
  {
   "cell_type": "code",
   "execution_count": 4,
   "id": "51963d43-612f-41c4-a1df-3fc6a24b7f24",
   "metadata": {},
   "outputs": [
    {
     "name": "stdout",
     "output_type": "stream",
     "text": [
      "(8+6j)\n"
     ]
    }
   ],
   "source": [
    "x1 = 3+2j\n",
    "y1 = 5+4j\n",
    "print(x1+y1)"
   ]
  },
  {
   "cell_type": "code",
   "execution_count": 5,
   "id": "10d6779f-bb23-45f2-987a-4a3bc562b500",
   "metadata": {},
   "outputs": [
    {
     "name": "stdout",
     "output_type": "stream",
     "text": [
      "-3\n"
     ]
    }
   ],
   "source": [
    "w1 = -7\n",
    "w2 = 4\n",
    "print(w1+w2)"
   ]
  },
  {
   "cell_type": "markdown",
   "id": "eb17b1a5-192d-4274-83df-1b82c1ee91b8",
   "metadata": {},
   "source": [
    "# Subtraction operater"
   ]
  },
  {
   "cell_type": "code",
   "execution_count": 6,
   "id": "9496fa02-b337-44ee-9246-4d0e2c0be75c",
   "metadata": {},
   "outputs": [
    {
     "name": "stdout",
     "output_type": "stream",
     "text": [
      "5\n"
     ]
    }
   ],
   "source": [
    "num1 = 7\n",
    "num2 = 2\n",
    "print(num1-num2)"
   ]
  },
  {
   "cell_type": "code",
   "execution_count": 7,
   "id": "57e12359-ccc7-43f5-921a-96e2a6ba8e14",
   "metadata": {},
   "outputs": [
    {
     "name": "stdout",
     "output_type": "stream",
     "text": [
      "10.89\n"
     ]
    }
   ],
   "source": [
    "a4 = 6.57\n",
    "b4 = 4.32\n",
    "print(a4+b4)"
   ]
  },
  {
   "cell_type": "code",
   "execution_count": 8,
   "id": "c5c868c1-3a31-48f5-b6e2-3d757fd19613",
   "metadata": {},
   "outputs": [
    {
     "name": "stdout",
     "output_type": "stream",
     "text": [
      "(4+2j)\n"
     ]
    }
   ],
   "source": [
    "a5 = 9+5j\n",
    "b6 = 5+3j\n",
    "print(a5-b6)"
   ]
  },
  {
   "cell_type": "markdown",
   "id": "cbcdf462-8f46-42a2-8fb6-2412724aab36",
   "metadata": {},
   "source": [
    "# Multiplication"
   ]
  },
  {
   "cell_type": "code",
   "execution_count": 9,
   "id": "c65ab055-f890-4fd4-b16c-1fc747b1d0fb",
   "metadata": {},
   "outputs": [
    {
     "name": "stdout",
     "output_type": "stream",
     "text": [
      "35\n"
     ]
    }
   ],
   "source": [
    "n = 5\n",
    "b = 7\n",
    "print(n*b)"
   ]
  },
  {
   "cell_type": "code",
   "execution_count": 10,
   "id": "65d7b07c-fb01-450d-8d70-a4597f0cc43b",
   "metadata": {},
   "outputs": [
    {
     "name": "stdout",
     "output_type": "stream",
     "text": [
      "25.813663052988534\n"
     ]
    }
   ],
   "source": [
    "n1 = 3.5678932\n",
    "b1 = 7.234987598\n",
    "print(n1*b1)"
   ]
  },
  {
   "cell_type": "code",
   "execution_count": 11,
   "id": "825e22fa-e485-4864-8cad-a1eab2b68850",
   "metadata": {},
   "outputs": [
    {
     "name": "stdout",
     "output_type": "stream",
     "text": [
      "hellohellohellohello\n"
     ]
    }
   ],
   "source": [
    "str = \"hello\"\n",
    "print(str*4)"
   ]
  },
  {
   "cell_type": "code",
   "execution_count": 12,
   "id": "af820f44-576a-4777-aa9c-2d9d4d24ca39",
   "metadata": {},
   "outputs": [
    {
     "name": "stdout",
     "output_type": "stream",
     "text": [
      "(23+41j)\n"
     ]
    }
   ],
   "source": [
    "a1 = 5+3j\n",
    "b1 = 7+4j\n",
    "print(a1*b1)"
   ]
  },
  {
   "cell_type": "markdown",
   "id": "9a96da9d-4fa6-4342-a6e9-8318993595a6",
   "metadata": {},
   "source": [
    "# Divison"
   ]
  },
  {
   "cell_type": "code",
   "execution_count": 13,
   "id": "efec77cd-9215-452f-a01a-a0c1f63c9b17",
   "metadata": {},
   "outputs": [
    {
     "name": "stdout",
     "output_type": "stream",
     "text": [
      "3.4\n"
     ]
    }
   ],
   "source": [
    "a = 17\n",
    "b = 5\n",
    "print(a/b)"
   ]
  },
  {
   "cell_type": "code",
   "execution_count": 14,
   "id": "6679941b-1b0a-42c2-bfd1-5a570c0b5bdf",
   "metadata": {},
   "outputs": [
    {
     "name": "stdout",
     "output_type": "stream",
     "text": [
      "27.30219746208604\n"
     ]
    }
   ],
   "source": [
    "a1 = 1234.9876\n",
    "b1 = 45.234\n",
    "print(a1/b1)"
   ]
  },
  {
   "cell_type": "code",
   "execution_count": 16,
   "id": "9337105d-b4f5-4716-959b-6a267cc73b63",
   "metadata": {},
   "outputs": [
    {
     "name": "stdout",
     "output_type": "stream",
     "text": [
      "(1.6-0.2j)\n"
     ]
    }
   ],
   "source": [
    "com1 = 2+3j\n",
    "com2 = 1+2j\n",
    "print(com1/com2)"
   ]
  },
  {
   "cell_type": "markdown",
   "id": "30480e94-bea6-4eb4-87ae-576eebfbc104",
   "metadata": {},
   "source": [
    "# Modulous"
   ]
  },
  {
   "cell_type": "code",
   "execution_count": 17,
   "id": "33cede7a-91d4-415a-8a3d-df3bb2e90862",
   "metadata": {},
   "outputs": [
    {
     "name": "stdout",
     "output_type": "stream",
     "text": [
      "1\n"
     ]
    }
   ],
   "source": [
    "print(13%2)"
   ]
  },
  {
   "cell_type": "code",
   "execution_count": 18,
   "id": "8074c663-d778-47f2-ac1d-aeb9711292c7",
   "metadata": {},
   "outputs": [
    {
     "name": "stdout",
     "output_type": "stream",
     "text": [
      "0\n"
     ]
    }
   ],
   "source": [
    "print(12%4)"
   ]
  },
  {
   "cell_type": "code",
   "execution_count": 19,
   "id": "ed8091ad-e59f-4671-847e-2f157c113bb9",
   "metadata": {},
   "outputs": [
    {
     "name": "stdout",
     "output_type": "stream",
     "text": [
      "81\n"
     ]
    }
   ],
   "source": [
    "print(123456%987)"
   ]
  },
  {
   "cell_type": "code",
   "execution_count": 23,
   "id": "de0e60a0-c952-404a-9426-dcf0213276d5",
   "metadata": {},
   "outputs": [
    {
     "name": "stdout",
     "output_type": "stream",
     "text": [
      "1.7892340999999874\n"
     ]
    }
   ],
   "source": [
    "a1 = 456.7892341\n",
    "b1 = 2.5\n",
    "print(a1%b1)"
   ]
  },
  {
   "cell_type": "code",
   "execution_count": 1,
   "id": "f36f473d-271c-4c81-8db7-5d1856e749e9",
   "metadata": {},
   "outputs": [
    {
     "ename": "TypeError",
     "evalue": "unsupported operand type(s) for %: 'complex' and 'complex'",
     "output_type": "error",
     "traceback": [
      "\u001b[31m---------------------------------------------------------------------------\u001b[39m",
      "\u001b[31mTypeError\u001b[39m                                 Traceback (most recent call last)",
      "\u001b[36mCell\u001b[39m\u001b[36m \u001b[39m\u001b[32mIn[1]\u001b[39m\u001b[32m, line 3\u001b[39m\n\u001b[32m      1\u001b[39m a1 = \u001b[32m3\u001b[39m+\u001b[32m5\u001b[39mj\n\u001b[32m      2\u001b[39m b1 = \u001b[32m4\u001b[39m+\u001b[32m2\u001b[39mj\n\u001b[32m----> \u001b[39m\u001b[32m3\u001b[39m \u001b[38;5;28mprint\u001b[39m(\u001b[43ma1\u001b[49m\u001b[43m%\u001b[49m\u001b[43mb1\u001b[49m)\n",
      "\u001b[31mTypeError\u001b[39m: unsupported operand type(s) for %: 'complex' and 'complex'"
     ]
    }
   ],
   "source": [
    "a1 = 3+5j\n",
    "b1 = 4+2j\n",
    "print(a1%b1)"
   ]
  },
  {
   "cell_type": "code",
   "execution_count": 25,
   "id": "a1f29a2c-7aed-4fa5-b985-35e2fc274ebf",
   "metadata": {},
   "outputs": [
    {
     "name": "stdout",
     "output_type": "stream",
     "text": [
      "3\n"
     ]
    }
   ],
   "source": [
    "print(12//4)"
   ]
  },
  {
   "cell_type": "code",
   "execution_count": 26,
   "id": "cf46f5fd-12c5-42b5-aa32-77c87d518ac8",
   "metadata": {},
   "outputs": [
    {
     "name": "stdout",
     "output_type": "stream",
     "text": [
      "864\n"
     ]
    }
   ],
   "source": [
    "print(4321//5)"
   ]
  },
  {
   "cell_type": "code",
   "execution_count": 27,
   "id": "24f1aa08-5932-4085-9333-44c76eda2c52",
   "metadata": {},
   "outputs": [
    {
     "name": "stdout",
     "output_type": "stream",
     "text": [
      "41.0\n"
     ]
    }
   ],
   "source": [
    "print(123.987//3)"
   ]
  },
  {
   "cell_type": "markdown",
   "id": "7ad38382-2ace-4b9f-b0d8-304b46f9ced2",
   "metadata": {},
   "source": [
    "# Exponent"
   ]
  },
  {
   "cell_type": "code",
   "execution_count": 28,
   "id": "8fa363ea-3f06-49d8-9df0-c171670f20f9",
   "metadata": {},
   "outputs": [
    {
     "name": "stdout",
     "output_type": "stream",
     "text": [
      "9\n"
     ]
    }
   ],
   "source": [
    "a = 3\n",
    "b = 2\n",
    "print(a**b)"
   ]
  },
  {
   "cell_type": "code",
   "execution_count": 29,
   "id": "6396fbcb-e56e-49e5-a855-76dd615eb27a",
   "metadata": {},
   "outputs": [
    {
     "name": "stdout",
     "output_type": "stream",
     "text": [
      "1881675960266558605752\n"
     ]
    }
   ],
   "source": [
    "print(12345678**3)"
   ]
  },
  {
   "cell_type": "code",
   "execution_count": 30,
   "id": "9a2b38e1-1b12-4445-b002-8265ee0881e1",
   "metadata": {},
   "outputs": [
    {
     "name": "stdout",
     "output_type": "stream",
     "text": [
      "2.8\n"
     ]
    }
   ],
   "source": [
    "w = 70\n",
    "h = 5\n",
    "v = h**2\n",
    "print(w/v)"
   ]
  },
  {
   "cell_type": "code",
   "execution_count": 31,
   "id": "604a3f20-5d4b-43ee-aa06-07d5cf1dd32f",
   "metadata": {},
   "outputs": [
    {
     "name": "stdout",
     "output_type": "stream",
     "text": [
      "361.470089264575\n"
     ]
    }
   ],
   "source": [
    "print(7.1234567**3)"
   ]
  },
  {
   "cell_type": "markdown",
   "id": "68e2d08e-4c53-447a-9885-dc9d92bb01de",
   "metadata": {},
   "source": [
    "# Boolean Operator"
   ]
  },
  {
   "cell_type": "code",
   "execution_count": 32,
   "id": "a9efd575-0b30-492a-afd3-c807d29564f8",
   "metadata": {},
   "outputs": [
    {
     "name": "stdout",
     "output_type": "stream",
     "text": [
      "<class 'bool'>\n"
     ]
    }
   ],
   "source": [
    "a = True\n",
    "print(type(a))"
   ]
  },
  {
   "cell_type": "code",
   "execution_count": 33,
   "id": "dc13e87d-9b9c-43df-9792-e03f78dc9743",
   "metadata": {},
   "outputs": [
    {
     "name": "stdout",
     "output_type": "stream",
     "text": [
      "<class 'bool'>\n"
     ]
    }
   ],
   "source": [
    "a = False\n",
    "print(type(a))"
   ]
  },
  {
   "cell_type": "markdown",
   "id": "92ae01fe-9cf0-459e-a014-e5ca9cb1a507",
   "metadata": {},
   "source": [
    "# Comparison Operater"
   ]
  },
  {
   "cell_type": "markdown",
   "id": "869beed6-3907-4135-ae99-8a9ae8b170bc",
   "metadata": {},
   "source": [
    "In Python, comparison operater are used to compare values. These operator return True or False based on whether the\n",
    "comparsion is true or false"
   ]
  },
  {
   "cell_type": "markdown",
   "id": "79aac05b-436c-4a08-a019-acb058913374",
   "metadata": {},
   "source": [
    "Equal to =="
   ]
  },
  {
   "cell_type": "code",
   "execution_count": 34,
   "id": "b4b42b46-1ef3-4d92-a068-3fa274d593b0",
   "metadata": {},
   "outputs": [
    {
     "name": "stdout",
     "output_type": "stream",
     "text": [
      "True\n"
     ]
    }
   ],
   "source": [
    "x = 7\n",
    "y = 7\n",
    "print(x==y)"
   ]
  },
  {
   "cell_type": "code",
   "execution_count": 35,
   "id": "2f73db31-c748-45f7-8deb-d06a879fbd51",
   "metadata": {},
   "outputs": [
    {
     "name": "stdout",
     "output_type": "stream",
     "text": [
      "False\n"
     ]
    }
   ],
   "source": [
    "x = 5\n",
    "y = 7\n",
    "print(x==y)"
   ]
  },
  {
   "cell_type": "markdown",
   "id": "e4818451-408d-48c3-9bd4-b939a07bb17d",
   "metadata": {},
   "source": [
    "Not equal !="
   ]
  },
  {
   "cell_type": "code",
   "execution_count": 36,
   "id": "e553f7b6-5ffc-46bb-8ecb-4bdc4367d45b",
   "metadata": {},
   "outputs": [
    {
     "name": "stdout",
     "output_type": "stream",
     "text": [
      "True\n"
     ]
    }
   ],
   "source": [
    "x = 7\n",
    "y = 4\n",
    "print(x!=y)"
   ]
  },
  {
   "cell_type": "code",
   "execution_count": 37,
   "id": "946be51d-4dcd-4dfd-8679-2df7017ebca0",
   "metadata": {},
   "outputs": [
    {
     "name": "stdout",
     "output_type": "stream",
     "text": [
      "False\n"
     ]
    }
   ],
   "source": [
    "x = 6\n",
    "y = 6\n",
    "print(x!=y)"
   ]
  },
  {
   "cell_type": "markdown",
   "id": "63cba513-1e16-45b7-ba22-dd9cc746e176",
   "metadata": {},
   "source": [
    "greater than >"
   ]
  },
  {
   "cell_type": "code",
   "execution_count": 38,
   "id": "c620192b-09e4-42b0-86fe-ab2b4a23324d",
   "metadata": {},
   "outputs": [
    {
     "name": "stdout",
     "output_type": "stream",
     "text": [
      "False\n"
     ]
    }
   ],
   "source": [
    "x = 7\n",
    "y = 15\n",
    "print(x>y)"
   ]
  },
  {
   "cell_type": "markdown",
   "id": "6fa4a8cf-5887-474d-a0fe-980c86cbb6b1",
   "metadata": {},
   "source": [
    "less than <"
   ]
  },
  {
   "cell_type": "code",
   "execution_count": 39,
   "id": "2f8ac080-bd54-4fdd-acc5-394b33294647",
   "metadata": {},
   "outputs": [
    {
     "name": "stdout",
     "output_type": "stream",
     "text": [
      "False\n"
     ]
    }
   ],
   "source": [
    "print(153<87)"
   ]
  },
  {
   "cell_type": "markdown",
   "id": "3769a91e-525a-4c23-bc31-c7c94a1d2f2f",
   "metadata": {},
   "source": [
    "greater than or equal to >="
   ]
  },
  {
   "cell_type": "code",
   "execution_count": 40,
   "id": "e3fbac60-0a76-40fa-9462-522d814e78ec",
   "metadata": {},
   "outputs": [
    {
     "name": "stdout",
     "output_type": "stream",
     "text": [
      "True\n"
     ]
    }
   ],
   "source": [
    "x = 7\n",
    "y = 7\n",
    "print(x>=y)"
   ]
  },
  {
   "cell_type": "markdown",
   "id": "65ad6152-794d-4f09-a9e8-a72c1658bcb4",
   "metadata": {},
   "source": [
    "less than equal to <="
   ]
  },
  {
   "cell_type": "code",
   "execution_count": 41,
   "id": "795047ff-707a-484e-8fdc-e02837d26411",
   "metadata": {},
   "outputs": [
    {
     "name": "stdout",
     "output_type": "stream",
     "text": [
      "True\n"
     ]
    }
   ],
   "source": [
    "x = 6\n",
    "y = 6\n",
    "print(x<=y)"
   ]
  },
  {
   "cell_type": "markdown",
   "id": "43bccc93-3b4f-4a28-af53-d97cd045fb4e",
   "metadata": {},
   "source": [
    "# Logical operator"
   ]
  },
  {
   "cell_type": "code",
   "execution_count": 42,
   "id": "a9d89d9f-ed6b-479f-ba76-ec548a86d024",
   "metadata": {},
   "outputs": [
    {
     "name": "stdout",
     "output_type": "stream",
     "text": [
      "False\n"
     ]
    }
   ],
   "source": [
    "x = True\n",
    "y = False\n",
    "print(x and y)"
   ]
  },
  {
   "cell_type": "code",
   "execution_count": 43,
   "id": "fca6be1d-beb7-4e09-bf3a-23c9f8daace0",
   "metadata": {},
   "outputs": [
    {
     "name": "stdout",
     "output_type": "stream",
     "text": [
      "True\n"
     ]
    }
   ],
   "source": [
    "x = True\n",
    "y = False\n",
    "print(x or y)"
   ]
  },
  {
   "cell_type": "code",
   "execution_count": 44,
   "id": "5a57ef67-23cc-4e5a-81d6-3d49d15cf00d",
   "metadata": {},
   "outputs": [
    {
     "name": "stdout",
     "output_type": "stream",
     "text": [
      "False\n"
     ]
    }
   ],
   "source": [
    "x = True\n",
    "print(not x)"
   ]
  },
  {
   "cell_type": "code",
   "execution_count": 45,
   "id": "57738871-8173-457a-b55f-a866c1063c2a",
   "metadata": {},
   "outputs": [
    {
     "name": "stdout",
     "output_type": "stream",
     "text": [
      "True\n"
     ]
    }
   ],
   "source": [
    "x = False\n",
    "print(not x)"
   ]
  },
  {
   "cell_type": "code",
   "execution_count": null,
   "id": "2a61d416-bea1-4271-b186-32503527011a",
   "metadata": {},
   "outputs": [],
   "source": []
  }
 ],
 "metadata": {
  "kernelspec": {
   "display_name": "Python 3",
   "language": "python",
   "name": "python3"
  },
  "language_info": {
   "codemirror_mode": {
    "name": "ipython",
    "version": 3
   },
   "file_extension": ".py",
   "mimetype": "text/x-python",
   "name": "python",
   "nbconvert_exporter": "python",
   "pygments_lexer": "ipython3",
   "version": "3.13.4"
  }
 },
 "nbformat": 4,
 "nbformat_minor": 5
}
