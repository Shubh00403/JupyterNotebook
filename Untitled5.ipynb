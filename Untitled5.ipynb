{
 "cells": [
  {
   "cell_type": "markdown",
   "id": "f5682b34-71fb-4fd4-bee3-00633153658c",
   "metadata": {},
   "source": [
    "# Lecture 15"
   ]
  },
  {
   "cell_type": "markdown",
   "id": "ef778e5e-ee4d-4651-bcee-f5edc0c1c621",
   "metadata": {},
   "source": [
    "# Tuples - part 3"
   ]
  },
  {
   "cell_type": "markdown",
   "id": "bbac00e3-7b01-4d91-a35d-09693187814f",
   "metadata": {},
   "source": [
    "# Once a tuple is create, you cannot change its values. Tuples are unchangeable, or immutable as it also is called"
   ]
  },
  {
   "cell_type": "markdown",
   "id": "28eabf44-5aea-42e7-9701-9e9848f4be8a",
   "metadata": {},
   "source": [
    "# Converting tuple into list"
   ]
  },
  {
   "cell_type": "code",
   "execution_count": 2,
   "id": "4c874d40-18e2-4bbe-a04d-cefcae924e52",
   "metadata": {},
   "outputs": [
    {
     "name": "stdout",
     "output_type": "stream",
     "text": [
      "('date', 'python', 'science', 'shubham')\n",
      "<class 'tuple'>\n",
      "['date', 'python', 'science', 'shubham']\n",
      "<class 'list'>\n"
     ]
    }
   ],
   "source": [
    "x = (\"date\", \"python\", \"science\", \"shubham\")\n",
    "print(x)\n",
    "print(type(x))\n",
    "\n",
    "y = list(x)\n",
    "print(y)\n",
    "print(type(y))"
   ]
  },
  {
   "cell_type": "markdown",
   "id": "474d9dd0-0efb-464b-ba9a-fac7662c12e2",
   "metadata": {},
   "source": [
    "# add items"
   ]
  },
  {
   "cell_type": "code",
   "execution_count": 3,
   "id": "7c923c4b-c828-4ccd-997f-1776732324ca",
   "metadata": {},
   "outputs": [
    {
     "name": "stdout",
     "output_type": "stream",
     "text": [
      "[25, 2, 27, 28, 29]\n",
      "<class 'list'>\n",
      "the new list is\n",
      "[25, 2, 27, 28, 29, 30]\n",
      "the new item added on tuple is\n",
      "(25, 2, 27, 28, 29, 30)\n"
     ]
    }
   ],
   "source": [
    "a = (25,2,27,28,29)\n",
    "y = list(a)\n",
    "print(y)\n",
    "print(type(y))\n",
    "\n",
    "y.append(30)\n",
    "print(\"the new list is\")\n",
    "print(y)\n",
    "\n",
    "x = tuple(y)\n",
    "print(\"the new item added on tuple is\")\n",
    "print(x)"
   ]
  },
  {
   "cell_type": "markdown",
   "id": "835e6aca-1204-42b6-b2ca-dc5b44f213fc",
   "metadata": {},
   "source": [
    "# Add tuple to a tuple"
   ]
  },
  {
   "cell_type": "code",
   "execution_count": 5,
   "id": "8bae03cd-2ba4-4678-93bd-dfe0e98cd07f",
   "metadata": {},
   "outputs": [
    {
     "name": "stdout",
     "output_type": "stream",
     "text": [
      "('python', 'data', 'science', 'shubham', 'code')\n"
     ]
    }
   ],
   "source": [
    "tup1 = (\"python\", \"data\", \"science\", \"shubham\")\n",
    "y = (\"code\",)\n",
    "tup1+=y\n",
    "print(tup1)"
   ]
  },
  {
   "cell_type": "markdown",
   "id": "54815af6-e6d9-42c5-8af6-c1fee337eb8c",
   "metadata": {},
   "source": [
    "# Remove items"
   ]
  },
  {
   "cell_type": "code",
   "execution_count": 8,
   "id": "16df011d-1e82-44b8-a343-d73d6bbbe39d",
   "metadata": {},
   "outputs": [
    {
     "name": "stdout",
     "output_type": "stream",
     "text": [
      "['apple', 'banana', 'cherry', 'date', 'flg']\n",
      "['apple', 'banana', 'date', 'flg']\n",
      "('apple', 'banana', 'date', 'flg')\n"
     ]
    }
   ],
   "source": [
    "fruits = (\"apple\", \"banana\", \"cherry\", \"date\", \"flg\")\n",
    "\n",
    "fruit_list = list(fruits)\n",
    "print(fruit_list)\n",
    "\n",
    "fruit_list.remove(\"cherry\")\n",
    "print(fruit_list)\n",
    "\n",
    "fruit_tup = tuple(fruit_list)\n",
    "print(fruit_tup)"
   ]
  },
  {
   "cell_type": "markdown",
   "id": "ed5bdf9b-323c-4cdb-a777-8ec6662f6a4f",
   "metadata": {},
   "source": [
    "# changing the item in a tuple"
   ]
  },
  {
   "cell_type": "code",
   "execution_count": 14,
   "id": "efd8a67c-076e-4ad9-bf9d-bd35803ebe6e",
   "metadata": {},
   "outputs": [
    {
     "name": "stdout",
     "output_type": "stream",
     "text": [
      "['apple', 'banana', 'cherry', 'date', 'flg']\n",
      "['apple', 'blueberry', 'cherry', 'date', 'flg']\n",
      "('apple', 'blueberry', 'cherry', 'date', 'flg')\n"
     ]
    }
   ],
   "source": [
    "x = (\"apple\", \"banana\", \"cherry\", \"date\", \"flg\")\n",
    "y = list(x)\n",
    "print(y)\n",
    "\n",
    "y[1] = \"blueberry\"\n",
    "print(y)\n",
    "\n",
    "z = tuple(y)\n",
    "print(z)"
   ]
  },
  {
   "cell_type": "markdown",
   "id": "861b502d-0fe0-4d2c-a48b-b478aae18856",
   "metadata": {},
   "source": [
    "# Del keyword"
   ]
  },
  {
   "cell_type": "code",
   "execution_count": 15,
   "id": "3010f1b3-fd8b-4839-91ed-ea7c2e8f4c92",
   "metadata": {},
   "outputs": [
    {
     "ename": "TypeError",
     "evalue": "unsupported operand type(s) for -: 'tuple' and 'tuple'",
     "output_type": "error",
     "traceback": [
      "\u001b[1;31m---------------------------------------------------------------------------\u001b[0m",
      "\u001b[1;31mTypeError\u001b[0m                                 Traceback (most recent call last)",
      "Cell \u001b[1;32mIn[15], line 1\u001b[0m\n\u001b[1;32m----> 1\u001b[0m x \u001b[38;5;241m-\u001b[39m (\u001b[38;5;241m2\u001b[39m,\u001b[38;5;241m9\u001b[39m,\u001b[38;5;241m583\u001b[39m,\u001b[38;5;241m84\u001b[39m,\u001b[38;5;241m37\u001b[39m,\u001b[38;5;241m8\u001b[39m)\n\u001b[0;32m      2\u001b[0m \u001b[38;5;28;01mdel\u001b[39;00m x\n",
      "\u001b[1;31mTypeError\u001b[0m: unsupported operand type(s) for -: 'tuple' and 'tuple'"
     ]
    }
   ],
   "source": [
    "x - (2,9,583,84,37,8)\n",
    "del x"
   ]
  },
  {
   "cell_type": "markdown",
   "id": "9c1a89e6-f3ee-4a48-b08e-798da2da1764",
   "metadata": {},
   "source": [
    "# loop through a tuple"
   ]
  },
  {
   "cell_type": "code",
   "execution_count": 16,
   "id": "8f828a5d-badf-4fa2-8cda-ff92673c2c75",
   "metadata": {},
   "outputs": [
    {
     "name": "stdout",
     "output_type": "stream",
     "text": [
      "a\n",
      "b\n",
      "c\n"
     ]
    }
   ],
   "source": [
    "thistuple = (\"a\", \"b\", \"c\")\n",
    "for x in thistuple:\n",
    "    print(x)"
   ]
  },
  {
   "cell_type": "markdown",
   "id": "3111d1d8-43a3-4aa8-abcf-127ed51f3d6f",
   "metadata": {},
   "source": [
    "# join two tuples"
   ]
  },
  {
   "cell_type": "code",
   "execution_count": 17,
   "id": "e3699c79-74d1-4c8b-9171-3337992bacd1",
   "metadata": {},
   "outputs": [
    {
     "name": "stdout",
     "output_type": "stream",
     "text": [
      "('a', 'b', 'c', 1, 2, 3, 4)\n"
     ]
    }
   ],
   "source": [
    "tuple1 =  (\"a\", \"b\", \"c\")\n",
    "tuple2 =(1,2,3,4)\n",
    "\n",
    "tuple3 = tuple1+tuple2\n",
    "print(tuple3)"
   ]
  },
  {
   "cell_type": "markdown",
   "id": "a9e3c557-2773-46ac-8a53-3a3c6e47637a",
   "metadata": {},
   "source": [
    "# Multiply tuples"
   ]
  },
  {
   "cell_type": "code",
   "execution_count": 18,
   "id": "9fed2518-d71c-4590-83c8-16a5278c71d8",
   "metadata": {},
   "outputs": [
    {
     "name": "stdout",
     "output_type": "stream",
     "text": [
      "('apple', 'banana', 'cherry', 'apple', 'banana', 'cherry')\n"
     ]
    }
   ],
   "source": [
    "fruits = (\"apple\", \"banana\", \"cherry\")\n",
    "mytup = fruits*2\n",
    "print(mytup)"
   ]
  },
  {
   "cell_type": "code",
   "execution_count": 19,
   "id": "aed2cff9-823a-4fa8-8ac5-da37425f96d0",
   "metadata": {},
   "outputs": [
    {
     "name": "stdout",
     "output_type": "stream",
     "text": [
      "('apple', 'banana', 'cherry', 'apple', 'banana', 'cherry', 'apple', 'banana', 'cherry')\n"
     ]
    }
   ],
   "source": [
    "fruits = (\"apple\", \"banana\", \"cherry\")\n",
    "mytup = fruits*3\n",
    "print(mytup)"
   ]
  },
  {
   "cell_type": "markdown",
   "id": "6fb3f5db-7ee7-4c82-a7ed-53ae0332e19a",
   "metadata": {},
   "source": [
    "# Lecture 16"
   ]
  },
  {
   "cell_type": "markdown",
   "id": "9abc005a-cdee-4087-abeb-885470a08e3b",
   "metadata": {},
   "source": [
    "# Sets part 1"
   ]
  },
  {
   "cell_type": "markdown",
   "id": "0ff4b6f2-cb59-4e93-a092-946b4295fab9",
   "metadata": {},
   "source": [
    "# creating sets"
   ]
  },
  {
   "cell_type": "code",
   "execution_count": 20,
   "id": "83894495-4da9-44c9-a1b0-afc29a4851d3",
   "metadata": {},
   "outputs": [
    {
     "name": "stdout",
     "output_type": "stream",
     "text": [
      "{1, 2, 3, 4}\n",
      "<class 'set'>\n"
     ]
    }
   ],
   "source": [
    "my_var = {1,2,3,4}\n",
    "print(my_var)\n",
    "print(type(my_var))"
   ]
  },
  {
   "cell_type": "markdown",
   "id": "33eaec16-b009-46e9-a353-e79823a66639",
   "metadata": {},
   "source": [
    "# set() method"
   ]
  },
  {
   "cell_type": "code",
   "execution_count": 21,
   "id": "b4ef2d22-168c-4be9-b376-6db7722caeb2",
   "metadata": {},
   "outputs": [
    {
     "name": "stdout",
     "output_type": "stream",
     "text": [
      "{40, 10, 20, 30}\n",
      "<class 'set'>\n"
     ]
    }
   ],
   "source": [
    "another_set = set([10,20,30,40])\n",
    "print(another_set)\n",
    "print(type(another_set))"
   ]
  },
  {
   "cell_type": "markdown",
   "id": "3a6289b2-478b-4a42-97d6-ec065e27aa40",
   "metadata": {},
   "source": [
    "# empthy set"
   ]
  },
  {
   "cell_type": "code",
   "execution_count": 22,
   "id": "6b383a8d-ac57-4d76-a663-c36b61773bea",
   "metadata": {},
   "outputs": [
    {
     "name": "stdout",
     "output_type": "stream",
     "text": [
      "{}\n",
      "<class 'dict'>\n"
     ]
    }
   ],
   "source": [
    "abc = {}\n",
    "print(abc)\n",
    "print(type(abc))"
   ]
  },
  {
   "cell_type": "code",
   "execution_count": 23,
   "id": "7fae1141-3abf-4dbc-81c1-a018a31ae16a",
   "metadata": {},
   "outputs": [
    {
     "name": "stdout",
     "output_type": "stream",
     "text": [
      "set()\n",
      "<class 'set'>\n"
     ]
    }
   ],
   "source": [
    "xyz = set()\n",
    "print(xyz)\n",
    "print(type(xyz))"
   ]
  },
  {
   "cell_type": "markdown",
   "id": "aa17718d-f1a6-497a-8aec-f4ba932c129a",
   "metadata": {},
   "source": [
    "# properties of set"
   ]
  },
  {
   "cell_type": "markdown",
   "id": "fbc3032b-2641-4335-9dfb-abfb275ef75a",
   "metadata": {},
   "source": [
    "# 1) unordered"
   ]
  },
  {
   "cell_type": "code",
   "execution_count": 24,
   "id": "c4af4abd-c31e-4f67-a3d2-8c119005dd31",
   "metadata": {},
   "outputs": [
    {
     "name": "stdout",
     "output_type": "stream",
     "text": [
      "{1, 2, 3, 4}\n"
     ]
    }
   ],
   "source": [
    "my_set = {3,1,4,2}\n",
    "print(my_set)"
   ]
  },
  {
   "cell_type": "markdown",
   "id": "6962d14e-5e1e-4c3a-bc27-c5ef20f2f3c0",
   "metadata": {},
   "source": [
    "# 2) No indexing/slicing"
   ]
  },
  {
   "cell_type": "code",
   "execution_count": 1,
   "id": "7f611d21-1a69-4554-8f52-9f3fb949427d",
   "metadata": {},
   "outputs": [
    {
     "ename": "TypeError",
     "evalue": "'set' object is not subscriptable",
     "output_type": "error",
     "traceback": [
      "\u001b[1;31m---------------------------------------------------------------------------\u001b[0m",
      "\u001b[1;31mTypeError\u001b[0m                                 Traceback (most recent call last)",
      "Cell \u001b[1;32mIn[1], line 2\u001b[0m\n\u001b[0;32m      1\u001b[0m a \u001b[38;5;241m=\u001b[39m {\u001b[38;5;124m'\u001b[39m\u001b[38;5;124manimals\u001b[39m\u001b[38;5;124m'\u001b[39m, \u001b[38;5;124m'\u001b[39m\u001b[38;5;124mball\u001b[39m\u001b[38;5;124m'\u001b[39m, \u001b[38;5;124m'\u001b[39m\u001b[38;5;124mcat\u001b[39m\u001b[38;5;124m'\u001b[39m}\n\u001b[1;32m----> 2\u001b[0m \u001b[38;5;28mprint\u001b[39m(a[\u001b[38;5;241m0\u001b[39m])\n",
      "\u001b[1;31mTypeError\u001b[0m: 'set' object is not subscriptable"
     ]
    }
   ],
   "source": [
    "a = {'animals', 'ball', 'cat'}\n",
    "print(a[0])"
   ]
  },
  {
   "cell_type": "code",
   "execution_count": 2,
   "id": "2fd655e1-7f60-424f-acf6-fa2f2d139fca",
   "metadata": {},
   "outputs": [
    {
     "ename": "TypeError",
     "evalue": "'set' object is not subscriptable",
     "output_type": "error",
     "traceback": [
      "\u001b[1;31m---------------------------------------------------------------------------\u001b[0m",
      "\u001b[1;31mTypeError\u001b[0m                                 Traceback (most recent call last)",
      "Cell \u001b[1;32mIn[2], line 2\u001b[0m\n\u001b[0;32m      1\u001b[0m a \u001b[38;5;241m=\u001b[39m {\u001b[38;5;124m'\u001b[39m\u001b[38;5;124manimals\u001b[39m\u001b[38;5;124m'\u001b[39m, \u001b[38;5;124m'\u001b[39m\u001b[38;5;124mball\u001b[39m\u001b[38;5;124m'\u001b[39m, \u001b[38;5;124m'\u001b[39m\u001b[38;5;124mcat\u001b[39m\u001b[38;5;124m'\u001b[39m}\n\u001b[1;32m----> 2\u001b[0m \u001b[38;5;28mprint\u001b[39m(a[\u001b[38;5;241m0\u001b[39m:\u001b[38;5;241m2\u001b[39m])\n",
      "\u001b[1;31mTypeError\u001b[0m: 'set' object is not subscriptable"
     ]
    }
   ],
   "source": [
    "a = {'animals', 'ball', 'cat'}\n",
    "print(a[0:2])"
   ]
  },
  {
   "cell_type": "markdown",
   "id": "41aab10d-844c-40ce-91d9-bc81c3e5df1f",
   "metadata": {},
   "source": [
    "# 3. unique elements"
   ]
  },
  {
   "cell_type": "code",
   "execution_count": 3,
   "id": "3a519511-d016-40fd-a2ac-542267adaf61",
   "metadata": {},
   "outputs": [
    {
     "name": "stdout",
     "output_type": "stream",
     "text": [
      "{0, 96, 34, 98, 10, 12, 76, 45, 14, 56, 25}\n"
     ]
    }
   ],
   "source": [
    "my_set = {0,12,34,25,34,56,76,45,10,12,14,98,12,96}\n",
    "print(my_set)"
   ]
  },
  {
   "cell_type": "markdown",
   "id": "00a12775-8983-4d38-b141-b0f5feb768da",
   "metadata": {},
   "source": [
    "# 4. Iterable"
   ]
  },
  {
   "cell_type": "code",
   "execution_count": 4,
   "id": "a50df2f7-4383-4a35-87b7-d40f50654203",
   "metadata": {},
   "outputs": [
    {
     "name": "stdout",
     "output_type": "stream",
     "text": [
      "25\n",
      "37\n",
      "23\n",
      "41\n",
      "14\n"
     ]
    }
   ],
   "source": [
    "my_set = {14,25,37,41,23}\n",
    "for element in my_set:\n",
    "    print(element)"
   ]
  },
  {
   "cell_type": "markdown",
   "id": "0fe8a829-143c-4bb9-b78e-853df4301228",
   "metadata": {},
   "source": [
    "# 5. Hashable elements"
   ]
  },
  {
   "cell_type": "markdown",
   "id": "6e3a2f1a-cac4-4fa9-b44b-f53cebc146f1",
   "metadata": {},
   "source": [
    "my hashable objects(objects with a fixed hash value) can be added to a set. This means that sets cannot contain\n",
    "mutable types like lists or dictionaries"
   ]
  },
  {
   "cell_type": "code",
   "execution_count": 5,
   "id": "69a4b9e1-5b01-4f17-9744-9a0149cfe105",
   "metadata": {},
   "outputs": [
    {
     "name": "stdout",
     "output_type": "stream",
     "text": [
      "{1, 2, 3, 3.6, 'a', (10, 20)}\n"
     ]
    }
   ],
   "source": [
    "my_set = {1,2,3,\"a\",3.6,(10,20)}\n",
    "print(my_set)"
   ]
  },
  {
   "cell_type": "code",
   "execution_count": 6,
   "id": "eb3fc278-ad6c-41e0-8034-d1d4884f46a1",
   "metadata": {},
   "outputs": [
    {
     "ename": "TypeError",
     "evalue": "unhashable type: 'list'",
     "output_type": "error",
     "traceback": [
      "\u001b[1;31m---------------------------------------------------------------------------\u001b[0m",
      "\u001b[1;31mTypeError\u001b[0m                                 Traceback (most recent call last)",
      "Cell \u001b[1;32mIn[6], line 1\u001b[0m\n\u001b[1;32m----> 1\u001b[0m my_set \u001b[38;5;241m=\u001b[39m {\u001b[38;5;241m1\u001b[39m,\u001b[38;5;241m2\u001b[39m,\u001b[38;5;241m3\u001b[39m,\u001b[38;5;241m3.6\u001b[39m,\u001b[38;5;124m'\u001b[39m\u001b[38;5;124mb\u001b[39m\u001b[38;5;124m'\u001b[39m,[\u001b[38;5;241m14\u001b[39m,\u001b[38;5;241m15\u001b[39m,\u001b[38;5;241m16\u001b[39m]}\n\u001b[0;32m      2\u001b[0m \u001b[38;5;28mprint\u001b[39m(my_set)\n",
      "\u001b[1;31mTypeError\u001b[0m: unhashable type: 'list'"
     ]
    }
   ],
   "source": [
    "my_set = {1,2,3,3.6,'b',[14,15,16]}\n",
    "print(my_set)"
   ]
  },
  {
   "cell_type": "code",
   "execution_count": 7,
   "id": "bc967d22-6e96-4e96-944d-cecb13bf0632",
   "metadata": {},
   "outputs": [
    {
     "ename": "TypeError",
     "evalue": "unhashable type: 'dict'",
     "output_type": "error",
     "traceback": [
      "\u001b[1;31m---------------------------------------------------------------------------\u001b[0m",
      "\u001b[1;31mTypeError\u001b[0m                                 Traceback (most recent call last)",
      "Cell \u001b[1;32mIn[7], line 1\u001b[0m\n\u001b[1;32m----> 1\u001b[0m x \u001b[38;5;241m=\u001b[39m {{\u001b[38;5;124m'\u001b[39m\u001b[38;5;124ma\u001b[39m\u001b[38;5;124m'\u001b[39m:\u001b[38;5;241m1\u001b[39m, \u001b[38;5;124m'\u001b[39m\u001b[38;5;124mb\u001b[39m\u001b[38;5;124m'\u001b[39m:\u001b[38;5;241m2\u001b[39m}}\n\u001b[0;32m      2\u001b[0m \u001b[38;5;28mprint\u001b[39m(x)\n",
      "\u001b[1;31mTypeError\u001b[0m: unhashable type: 'dict'"
     ]
    }
   ],
   "source": [
    "x = {{'a':1, 'b':2}}\n",
    "print(x)"
   ]
  },
  {
   "cell_type": "markdown",
   "id": "0ef3b0bd-fd18-469b-a80a-8a1d65dd7a99",
   "metadata": {},
   "source": [
    "# Lecture 17"
   ]
  },
  {
   "cell_type": "markdown",
   "id": "f6c6badd-7e87-493f-9047-8f2d90cdac10",
   "metadata": {},
   "source": [
    "# Sets parts 2"
   ]
  },
  {
   "cell_type": "markdown",
   "id": "0a2519a2-1d0a-48eb-bcae-3bf638768ff5",
   "metadata": {},
   "source": [
    "# True and 1 are considered as same value"
   ]
  },
  {
   "cell_type": "code",
   "execution_count": 9,
   "id": "3eed384f-bf7a-4e40-8db7-0c6e56a7bf49",
   "metadata": {},
   "outputs": [
    {
     "name": "stdout",
     "output_type": "stream",
     "text": [
      "{1, 3.6, 5, 5.9, 'ball', 24, 25, 56, 'animals'}\n"
     ]
    }
   ],
   "source": [
    "a = {'animals', 'ball',25,24,3.6,5,5.9,1,56,True}\n",
    "print(a)"
   ]
  },
  {
   "cell_type": "code",
   "execution_count": 11,
   "id": "d68eaa55-54d5-4184-b2e9-a961b9505bc6",
   "metadata": {},
   "outputs": [
    {
     "name": "stdout",
     "output_type": "stream",
     "text": [
      "{0, 1, 3.6, 5, 5.9, 'ball', 23, 24, 25, 56, 'animals'}\n"
     ]
    }
   ],
   "source": [
    "a = {'animals', 'ball',25,24,3.6,5,5.9,1,56,True,0,23,False}\n",
    "print(a)"
   ]
  },
  {
   "cell_type": "code",
   "execution_count": 12,
   "id": "1703517d-a452-4e1e-9495-960610c175ee",
   "metadata": {},
   "outputs": [
    {
     "name": "stdout",
     "output_type": "stream",
     "text": [
      "{True, 3.6, 5, 5.9, 'ball', 24, 25, 56, 'animals'}\n"
     ]
    }
   ],
   "source": [
    "a = {'animals', 'ball',25,24,3.6,5,5.9,56,True}\n",
    "print(a)"
   ]
  },
  {
   "cell_type": "code",
   "execution_count": 13,
   "id": "8e1f57a4-4c93-4b51-84bb-7b98c112bd47",
   "metadata": {},
   "outputs": [
    {
     "name": "stdout",
     "output_type": "stream",
     "text": [
      "{False, 1, 3.6, 5, 5.9, 'ball', 23, 24, 25, 56, 'animals'}\n"
     ]
    }
   ],
   "source": [
    "a = {'animals', 'ball',25,24,3.6,5,5.9,1,56,True,23,False}\n",
    "print(a)"
   ]
  },
  {
   "cell_type": "markdown",
   "id": "fc0bc105-8d54-4135-ad82-dfd1bae3396b",
   "metadata": {},
   "source": [
    "# Nested is not a property of the set"
   ]
  },
  {
   "cell_type": "code",
   "execution_count": 14,
   "id": "013b645c-4049-43a5-85e3-0cc7b9b5638a",
   "metadata": {},
   "outputs": [
    {
     "ename": "TypeError",
     "evalue": "unhashable type: 'set'",
     "output_type": "error",
     "traceback": [
      "\u001b[1;31m---------------------------------------------------------------------------\u001b[0m",
      "\u001b[1;31mTypeError\u001b[0m                                 Traceback (most recent call last)",
      "Cell \u001b[1;32mIn[14], line 1\u001b[0m\n\u001b[1;32m----> 1\u001b[0m a \u001b[38;5;241m=\u001b[39m {{\u001b[38;5;241m11\u001b[39m,\u001b[38;5;241m12\u001b[39m,\u001b[38;5;241m13\u001b[39m}, {\u001b[38;5;241m4\u001b[39m,\u001b[38;5;241m5\u001b[39m,\u001b[38;5;241m6\u001b[39m}}\n\u001b[0;32m      2\u001b[0m \u001b[38;5;28mprint\u001b[39m(a)\n",
      "\u001b[1;31mTypeError\u001b[0m: unhashable type: 'set'"
     ]
    }
   ],
   "source": [
    "a = {{11,12,13}, {4,5,6}}\n",
    "print(a)"
   ]
  },
  {
   "cell_type": "markdown",
   "id": "54e1efb8-e514-4ecb-bd90-ada3332ff5a1",
   "metadata": {},
   "source": [
    "# check if item is present in the set or not"
   ]
  },
  {
   "cell_type": "code",
   "execution_count": 15,
   "id": "0b3d43f9-a447-4dbb-8fdc-2078b73fa6f2",
   "metadata": {},
   "outputs": [
    {
     "name": "stdout",
     "output_type": "stream",
     "text": [
      "True\n"
     ]
    }
   ],
   "source": [
    "a = {\"data\", \"shubham\", \"python\"}\n",
    "print(\"shubham\" in a)"
   ]
  },
  {
   "cell_type": "code",
   "execution_count": 16,
   "id": "13054d5c-4cec-47dd-a1e7-de49b2365b4d",
   "metadata": {},
   "outputs": [
    {
     "name": "stdout",
     "output_type": "stream",
     "text": [
      "False\n"
     ]
    }
   ],
   "source": [
    "b = {\"nitesh\", \"ayush\", \"python\"}\n",
    "print(\"data\" in b)"
   ]
  },
  {
   "cell_type": "markdown",
   "id": "2566ab76-cae3-40ee-bac8-237bfe749a17",
   "metadata": {},
   "source": [
    "# get the lenght of the set"
   ]
  },
  {
   "cell_type": "code",
   "execution_count": 17,
   "id": "a439d49f-b30d-4401-be9e-8b1f2ee13e52",
   "metadata": {},
   "outputs": [
    {
     "name": "stdout",
     "output_type": "stream",
     "text": [
      "11\n"
     ]
    }
   ],
   "source": [
    "a = {\"animals\", \"bat\", \"cat\", 1,12,35,345, 65,7869,36,45}\n",
    "print(len(a))"
   ]
  },
  {
   "cell_type": "markdown",
   "id": "65847581-68d4-4ad6-b792-3e14287bd1c3",
   "metadata": {},
   "source": [
    "# Add items"
   ]
  },
  {
   "cell_type": "markdown",
   "id": "ac6f8cdf-1825-4a6c-a38e-fa497a8f5c34",
   "metadata": {},
   "source": [
    "# Once a set is created, you cannot change the items but you can add the new items"
   ]
  },
  {
   "cell_type": "code",
   "execution_count": 18,
   "id": "c8d54f83-ce2a-4dd1-9d7c-7b7612297e2d",
   "metadata": {},
   "outputs": [
    {
     "name": "stdout",
     "output_type": "stream",
     "text": [
      "{1, 2, 3, 'c1', 'd1', 'b1', 'a1'}\n"
     ]
    }
   ],
   "source": [
    "a = {\"a1\", \"b1\", \"c1\", 1,2,3}\n",
    "a.add(\"d1\")\n",
    "print(a)"
   ]
  },
  {
   "cell_type": "markdown",
   "id": "3332489a-1645-4acc-bf82-8a815dd9c603",
   "metadata": {},
   "source": [
    "# update method"
   ]
  },
  {
   "cell_type": "code",
   "execution_count": 19,
   "id": "d5040cce-bc2f-4105-bf9b-492ee490e356",
   "metadata": {},
   "outputs": [
    {
     "name": "stdout",
     "output_type": "stream",
     "text": [
      "{'data', 70, 40, 10, 80, 'code', 50, 'python', 20, 60, 30}\n"
     ]
    }
   ],
   "source": [
    "x = {\"data\", \"python\", \"code\"}\n",
    "y = {10,20,30,40,50,60,70,80}\n",
    "\n",
    "x.update(y)\n",
    "print(x)"
   ]
  },
  {
   "cell_type": "markdown",
   "id": "af09343e-f1c6-4769-9e33-b181be4be4b2",
   "metadata": {},
   "source": [
    "# remove items form the set"
   ]
  },
  {
   "cell_type": "code",
   "execution_count": 20,
   "id": "48642e3c-d758-4275-99be-9631565b64f4",
   "metadata": {},
   "outputs": [
    {
     "name": "stdout",
     "output_type": "stream",
     "text": [
      "{'data', 2.3, 5, 70, 5.6, 10, 45, 'science', 'code', 345}\n"
     ]
    }
   ],
   "source": [
    "n = {70,40,10,\"code\", \"science\", \"data\", 45,5,345,2.3,5.6}\n",
    "n.remove(40)\n",
    "print(n)"
   ]
  },
  {
   "cell_type": "code",
   "execution_count": 21,
   "id": "4b950d30-85bf-44d5-bf75-f6aeb158c462",
   "metadata": {},
   "outputs": [
    {
     "name": "stdout",
     "output_type": "stream",
     "text": [
      "{'data', 2.3, 5, 70, 5.6, 40, 10, 45, 'science', 345}\n"
     ]
    }
   ],
   "source": [
    "n = {70,40,10,\"code\", \"science\", \"data\", 45,5,345,2.3,5.6}\n",
    "n.remove(\"code\")\n",
    "print(n)"
   ]
  },
  {
   "cell_type": "code",
   "execution_count": 22,
   "id": "27a8c446-13bc-4e37-81bb-ae2fe3581049",
   "metadata": {},
   "outputs": [
    {
     "name": "stdout",
     "output_type": "stream",
     "text": [
      "{'data', 5, 70, 5.6, 40, 10, 45, 'science', 'code', 345}\n"
     ]
    }
   ],
   "source": [
    "n = {70,40,10,\"code\", \"science\", \"data\", 45,5,345,2.3,5.6}\n",
    "n.remove(2.3)\n",
    "print(n)"
   ]
  },
  {
   "cell_type": "markdown",
   "id": "5bc771cc-d86f-400c-b60e-ee9f8cdababd",
   "metadata": {},
   "source": [
    "# pop method"
   ]
  },
  {
   "cell_type": "code",
   "execution_count": 24,
   "id": "4a0e2813-3375-429e-a59c-f27ebeab0826",
   "metadata": {},
   "outputs": [
    {
     "name": "stdout",
     "output_type": "stream",
     "text": [
      "{65, 678, 76, 12, 45, 5678, 21, 23, 89, 987}\n",
      "32\n"
     ]
    }
   ],
   "source": [
    "a = {12,23,45,65,76,89,678,987,5678,32,21}\n",
    "c = a.pop()\n",
    "print(a)\n",
    "print(c)"
   ]
  },
  {
   "cell_type": "code",
   "execution_count": 26,
   "id": "94e7f408-06f0-4988-8ee4-6ad028f4e456",
   "metadata": {},
   "outputs": [
    {
     "name": "stdout",
     "output_type": "stream",
     "text": [
      "1\n",
      "{2, 3, 34, 4, 'apple', 7, 'code', 'shubham', 567, 25}\n"
     ]
    }
   ],
   "source": [
    "x = {\"code\", \"apple\", \"shubham\", 567,34,25,3,4,1,25,2,7}\n",
    "y = x.pop()\n",
    "print(y)\n",
    "print(x)"
   ]
  },
  {
   "cell_type": "markdown",
   "id": "b0caaee0-738e-4aa6-8412-e6e0694ffbce",
   "metadata": {},
   "source": [
    "# clear method"
   ]
  },
  {
   "cell_type": "code",
   "execution_count": 27,
   "id": "a066f12d-f0ea-4089-99d4-e2e7c39b32f9",
   "metadata": {},
   "outputs": [
    {
     "name": "stdout",
     "output_type": "stream",
     "text": [
      "set()\n"
     ]
    }
   ],
   "source": [
    "x = {\"code\", \"apple\", \"shubham\", 567,34,25,3,4,1,25,2,7}\n",
    "\n",
    "x.clear()\n",
    "print(x)"
   ]
  },
  {
   "cell_type": "markdown",
   "id": "1da1ed0b-dd28-4f8c-b954-daf531ff23eb",
   "metadata": {},
   "source": [
    "# delete method"
   ]
  },
  {
   "cell_type": "code",
   "execution_count": 28,
   "id": "c34699fc-494a-454a-bd77-5b3cb79e48eb",
   "metadata": {},
   "outputs": [
    {
     "ename": "NameError",
     "evalue": "name 'y' is not defined",
     "output_type": "error",
     "traceback": [
      "\u001b[1;31m---------------------------------------------------------------------------\u001b[0m",
      "\u001b[1;31mNameError\u001b[0m                                 Traceback (most recent call last)",
      "Cell \u001b[1;32mIn[28], line 4\u001b[0m\n\u001b[0;32m      1\u001b[0m y \u001b[38;5;241m=\u001b[39m {\u001b[38;5;124m\"\u001b[39m\u001b[38;5;124mbanana\u001b[39m\u001b[38;5;124m\"\u001b[39m, \u001b[38;5;124m\"\u001b[39m\u001b[38;5;124mmango\u001b[39m\u001b[38;5;124m\"\u001b[39m, \u001b[38;5;124m\"\u001b[39m\u001b[38;5;124mcherry\u001b[39m\u001b[38;5;124m\"\u001b[39m, \u001b[38;5;241m9\u001b[39m,\u001b[38;5;241m5\u001b[39m,\u001b[38;5;241m6\u001b[39m,\u001b[38;5;241m7\u001b[39m,\u001b[38;5;241m87\u001b[39m,\u001b[38;5;241m98\u001b[39m}\n\u001b[0;32m      3\u001b[0m \u001b[38;5;28;01mdel\u001b[39;00m y\n\u001b[1;32m----> 4\u001b[0m \u001b[38;5;28mprint\u001b[39m(y)\n",
      "\u001b[1;31mNameError\u001b[0m: name 'y' is not defined"
     ]
    }
   ],
   "source": [
    "y = {\"banana\", \"mango\", \"cherry\", 9,5,6,7,87,98}\n",
    "\n",
    "del y\n",
    "print(y)"
   ]
  },
  {
   "cell_type": "markdown",
   "id": "096f04ab-9182-4dab-8de7-72cce9a64aee",
   "metadata": {},
   "source": [
    "# Lecture 18"
   ]
  },
  {
   "cell_type": "markdown",
   "id": "0a6a23d7-25ed-4649-8bf0-d83e70a803d6",
   "metadata": {},
   "source": [
    "# sets part 3"
   ]
  },
  {
   "cell_type": "markdown",
   "id": "9e498307-aace-446f-b74d-c4f82f6a3593",
   "metadata": {},
   "source": [
    "# Join Two sets"
   ]
  },
  {
   "cell_type": "code",
   "execution_count": 29,
   "id": "8bd445c9-5761-4a02-b8e8-ef8f0df734a0",
   "metadata": {},
   "outputs": [
    {
     "name": "stdout",
     "output_type": "stream",
     "text": [
      "{1, 2, 3, 4, 'c', 'b', 'a', 'd'}\n"
     ]
    }
   ],
   "source": [
    "x = {'a', 'b', 'c', 'd'}\n",
    "y = {1,2,3,4}\n",
    "\n",
    "z = x.union(y)\n",
    "print(z)"
   ]
  },
  {
   "cell_type": "markdown",
   "id": "17434f6d-569a-4229-91ee-87740faf5d86",
   "metadata": {},
   "source": [
    "# Write a python program to find the maximum and minimum values in a set."
   ]
  },
  {
   "cell_type": "code",
   "execution_count": 32,
   "id": "96bd5b6f-9034-41cb-a243-da734fa586c4",
   "metadata": {},
   "outputs": [
    {
     "name": "stdout",
     "output_type": "stream",
     "text": [
      "the maximum values in this set is\n",
      "34\n",
      "the minimum values in this set is\n",
      "2\n"
     ]
    }
   ],
   "source": [
    "setn = {5,3,24,34,7,8,2,9,12}\n",
    "\n",
    "print(\"the maximum values in this set is\")\n",
    "print(max(setn))\n",
    "print(\"the minimum values in this set is\")\n",
    "print(min(setn))"
   ]
  },
  {
   "cell_type": "markdown",
   "id": "908f8658-f778-45dd-98cd-8a9f64b0dcf6",
   "metadata": {},
   "source": [
    "# Set Operations"
   ]
  },
  {
   "cell_type": "code",
   "execution_count": 33,
   "id": "9a7e718d-bf3e-4273-9a0e-1723b4da46cf",
   "metadata": {},
   "outputs": [
    {
     "name": "stdout",
     "output_type": "stream",
     "text": [
      "{1, 2, 3, 4, 5}\n"
     ]
    }
   ],
   "source": [
    "set1 = {1,2,3}\n",
    "set2 = {3,4,5}\n",
    "\n",
    "union_set = set1.union(set2)\n",
    "print(union_set)"
   ]
  },
  {
   "cell_type": "markdown",
   "id": "297c9029-ca6f-4cbc-a615-72cf5025bd38",
   "metadata": {},
   "source": [
    "# Intersection method"
   ]
  },
  {
   "cell_type": "code",
   "execution_count": 35,
   "id": "f8b10496-024b-4d77-b954-ae710f0a490b",
   "metadata": {},
   "outputs": [
    {
     "name": "stdout",
     "output_type": "stream",
     "text": [
      "{45}\n"
     ]
    }
   ],
   "source": [
    "set1 = {12,35,45}\n",
    "set2 = {45,67,89}\n",
    "\n",
    "inter = set1.intersection(set2)\n",
    "print(inter)"
   ]
  },
  {
   "cell_type": "markdown",
   "id": "97b7a201-45d3-488f-a35a-008955cc414e",
   "metadata": {},
   "source": [
    "# Difference method"
   ]
  },
  {
   "cell_type": "code",
   "execution_count": 36,
   "id": "fb6123e1-4481-4cb1-a0d1-88acb2abd845",
   "metadata": {},
   "outputs": [
    {
     "name": "stdout",
     "output_type": "stream",
     "text": [
      "{1, 2}\n"
     ]
    }
   ],
   "source": [
    "set1 = {1,2,3}\n",
    "set2 = {3,4,5}\n",
    "\n",
    "diff = set1.difference(set2)\n",
    "print(diff)"
   ]
  },
  {
   "cell_type": "code",
   "execution_count": 37,
   "id": "6961a6e4-0cfa-4538-a513-1604045e4fbc",
   "metadata": {},
   "outputs": [
    {
     "name": "stdout",
     "output_type": "stream",
     "text": [
      "{4, 5}\n"
     ]
    }
   ],
   "source": [
    "set1 = {1,2,3}\n",
    "set2 = {3,4,5}\n",
    "\n",
    "diff = set2.difference(set1)\n",
    "print(diff)"
   ]
  },
  {
   "cell_type": "markdown",
   "id": "fbcc25fd-2b16-4df0-8009-614624254fdd",
   "metadata": {},
   "source": [
    "# Lecture 19"
   ]
  },
  {
   "cell_type": "markdown",
   "id": "6610f738-a580-4a91-b98b-318a74928b18",
   "metadata": {},
   "source": [
    "# Dictionary part 1\n",
    "\n",
    "# Creating simple dictionary"
   ]
  },
  {
   "cell_type": "code",
   "execution_count": 39,
   "id": "dc7a3976-dc6b-474e-a067-02fcba5b1237",
   "metadata": {},
   "outputs": [],
   "source": [
    "person = {\n",
    "    'name' : \"shubham\",\n",
    "    'age' : 30,\n",
    "    'city' : 'Bangaorle'\n",
    "}    "
   ]
  },
  {
   "cell_type": "code",
   "execution_count": 40,
   "id": "5a6cb2dc-3c32-4560-8f2c-c7f045170967",
   "metadata": {},
   "outputs": [
    {
     "name": "stdout",
     "output_type": "stream",
     "text": [
      "{'name': 'shubham', 'age': 30, 'city': 'Bangaorle'}\n",
      "<class 'dict'>\n"
     ]
    }
   ],
   "source": [
    "print(person)\n",
    "print(type(person))"
   ]
  },
  {
   "cell_type": "markdown",
   "id": "e2ea3aa8-15c8-432a-8688-66424fef93af",
   "metadata": {},
   "source": [
    "# Dictionary with different data types"
   ]
  },
  {
   "cell_type": "code",
   "execution_count": 41,
   "id": "0d07277b-8f86-4930-810a-699bffc6f7e5",
   "metadata": {},
   "outputs": [],
   "source": [
    "mixed_dict = {\n",
    "    'name' : \"Bob\",\n",
    "    'age' : 25,\n",
    "    'courses' : [\"maths\", \"physis\", \"chemistry\"],\n",
    "    'address' : {\n",
    "        'street' : \"123 main st\",\n",
    "        'city' : \"Delhe\",\n",
    "        'zipcode' : \"12345\"\n",
    "    }\n",
    "    \n",
    "}"
   ]
  },
  {
   "cell_type": "code",
   "execution_count": 42,
   "id": "b14306f3-3033-44a1-b5c1-0a8ca691d1af",
   "metadata": {},
   "outputs": [
    {
     "name": "stdout",
     "output_type": "stream",
     "text": [
      "{'name': 'Bob', 'age': 25, 'courses': ['maths', 'physis', 'chemistry'], 'address': {'street': '123 main st', 'city': 'Delhe', 'zipcode': '12345'}}\n",
      "<class 'dict'>\n"
     ]
    }
   ],
   "source": [
    "print(mixed_dict)\n",
    "print(type(mixed_dict))"
   ]
  },
  {
   "cell_type": "markdown",
   "id": "0bf1c97d-c120-4811-b733-05560b965421",
   "metadata": {},
   "source": [
    "# Empty dictionary"
   ]
  },
  {
   "cell_type": "code",
   "execution_count": 43,
   "id": "d7140fd0-134f-4b76-8205-d593f6198181",
   "metadata": {},
   "outputs": [
    {
     "name": "stdout",
     "output_type": "stream",
     "text": [
      "{}\n",
      "<class 'dict'>\n"
     ]
    }
   ],
   "source": [
    "empty = {}\n",
    "print(empty)\n",
    "print(type(empty))"
   ]
  },
  {
   "cell_type": "markdown",
   "id": "28952b3a-97fd-4922-a0ea-30ad49e0375f",
   "metadata": {},
   "source": [
    "# Dict Constructor"
   ]
  },
  {
   "cell_type": "code",
   "execution_count": 46,
   "id": "3cf4590b-d2e3-4e04-96bf-33904d6668c9",
   "metadata": {},
   "outputs": [
    {
     "name": "stdout",
     "output_type": "stream",
     "text": [
      "{'name': 'shubham', 'age': 20, 'city': 'fatehpur'}\n",
      "<class 'dict'>\n"
     ]
    }
   ],
   "source": [
    "person = dict(name = 'shubham', age = 20, city = 'fatehpur')\n",
    "print(person)\n",
    "print(type(person))"
   ]
  },
  {
   "cell_type": "markdown",
   "id": "f48c5979-58ab-496c-abf1-598c899d57db",
   "metadata": {},
   "source": [
    "# Dictionary comprehension"
   ]
  },
  {
   "cell_type": "code",
   "execution_count": 47,
   "id": "083c3aa5-dc33-4390-8b74-a48863bc925b",
   "metadata": {},
   "outputs": [
    {
     "name": "stdout",
     "output_type": "stream",
     "text": [
      "{0: 0, 1: 1, 2: 4, 3: 9, 4: 16, 5: 25}\n"
     ]
    }
   ],
   "source": [
    "squares = {x: x*x for x in range(6)}\n",
    "print(squares)"
   ]
  },
  {
   "cell_type": "markdown",
   "id": "6ac8c8db-728a-4299-a75c-ad248bdde08d",
   "metadata": {},
   "source": [
    "# Lecture 20"
   ]
  },
  {
   "cell_type": "markdown",
   "id": "1e87262c-1f9e-41f2-a467-02e98c8a7a14",
   "metadata": {},
   "source": [
    "# Dictionary part 2"
   ]
  },
  {
   "cell_type": "code",
   "execution_count": null,
   "id": "f0d7837f-3135-4c29-8c83-248a8f45bcd1",
   "metadata": {},
   "outputs": [],
   "source": []
  },
  {
   "cell_type": "markdown",
   "id": "2f3a93c1-cc3d-497a-95ec-594263f1c613",
   "metadata": {},
   "source": [
    "# Characterstics of the dictionary"
   ]
  },
  {
   "cell_type": "markdown",
   "id": "84f9be43-d6c4-45b6-9906-aab3137e55e6",
   "metadata": {},
   "source": [
    "# Asessing values using keys"
   ]
  },
  {
   "cell_type": "code",
   "execution_count": 49,
   "id": "93aeac9b-7260-4929-93a2-853f5779ce43",
   "metadata": {},
   "outputs": [],
   "source": [
    "person = {\n",
    "    'name' : \"shubham\",\n",
    "    'age' : 20,\n",
    "    'city' : \"fatehpur\"\n",
    "}"
   ]
  },
  {
   "cell_type": "code",
   "execution_count": 52,
   "id": "cab09201-2ae5-4e99-9f70-be9f894cce1a",
   "metadata": {},
   "outputs": [
    {
     "name": "stdout",
     "output_type": "stream",
     "text": [
      "shubham\n"
     ]
    }
   ],
   "source": [
    "print(person['name'])"
   ]
  },
  {
   "cell_type": "code",
   "execution_count": 53,
   "id": "70b304a1-5d62-42ba-9990-3298ed52c4ca",
   "metadata": {},
   "outputs": [
    {
     "name": "stdout",
     "output_type": "stream",
     "text": [
      "20\n"
     ]
    }
   ],
   "source": [
    "print(person['age'])"
   ]
  },
  {
   "cell_type": "code",
   "execution_count": 54,
   "id": "1cc246d0-9b6e-4a39-adde-b8893e2906c5",
   "metadata": {},
   "outputs": [
    {
     "name": "stdout",
     "output_type": "stream",
     "text": [
      "fatehpur\n"
     ]
    }
   ],
   "source": [
    "print(person['city'])"
   ]
  },
  {
   "cell_type": "markdown",
   "id": "2e33dad7-657e-494a-b504-0e044edff641",
   "metadata": {},
   "source": [
    "Dictionaries in Python do not maintain any specific order for their elements. The order in which items are stored are stored\n",
    "my not necessarily be the order in which they are retrieved. Form Python 3.7 onwards, dictionaries maintain insertion order,\n",
    "which means items are generally stroed and returned in they were added"
   ]
  },
  {
   "cell_type": "code",
   "execution_count": 56,
   "id": "fa9e28a3-3e05-4311-b055-f47a22db5ca3",
   "metadata": {},
   "outputs": [],
   "source": [
    "person = {\n",
    "    'name' : 'shubham',\n",
    "    'age' : 20\n",
    "}"
   ]
  },
  {
   "cell_type": "code",
   "execution_count": 57,
   "id": "b4f93e04-eef1-4310-87e9-756a24155045",
   "metadata": {},
   "outputs": [
    {
     "name": "stdout",
     "output_type": "stream",
     "text": [
      "{'name': 'shubham', 'age': 20}\n"
     ]
    }
   ],
   "source": [
    "print(person)"
   ]
  },
  {
   "cell_type": "code",
   "execution_count": 58,
   "id": "29b9ad05-7927-454a-a0bf-c173d795f164",
   "metadata": {},
   "outputs": [],
   "source": [
    "person = {\n",
    "    'name' : 'shubham',\n",
    "    'age' : 20,\n",
    "    'name' : 'nitshant'\n",
    "}"
   ]
  },
  {
   "cell_type": "code",
   "execution_count": 59,
   "id": "048ccf62-fd05-420f-8f6e-4b8746692a37",
   "metadata": {},
   "outputs": [
    {
     "name": "stdout",
     "output_type": "stream",
     "text": [
      "{'name': 'nitshant', 'age': 20}\n"
     ]
    }
   ],
   "source": [
    "print(person)"
   ]
  },
  {
   "cell_type": "markdown",
   "id": "d9b4f2bb-5137-4447-a27a-08f92e952927",
   "metadata": {},
   "source": [
    "# Flexible key types"
   ]
  },
  {
   "cell_type": "markdown",
   "id": "d6ea0be1-5690-4fe8-a981-0230ef40c86b",
   "metadata": {},
   "source": [
    "while keys in dictionar must be unique, they can be\n",
    "of various data types, including strings, integers,\n",
    "floats and tuples (if they contain only hashable objects)."
   ]
  },
  {
   "cell_type": "code",
   "execution_count": 60,
   "id": "b576a1f9-62b0-47f0-9c29-1c9d43e5b5da",
   "metadata": {},
   "outputs": [],
   "source": [
    "data = {\n",
    "    'name' : 'john',\n",
    "    123 : 'integer key',\n",
    "    3.6 : 'float key',\n",
    "    (1,2) : 'tuple key'\n",
    "}"
   ]
  },
  {
   "cell_type": "code",
   "execution_count": 61,
   "id": "55251286-90bb-4bb6-a839-5860458f2055",
   "metadata": {},
   "outputs": [
    {
     "name": "stdout",
     "output_type": "stream",
     "text": [
      "{'name': 'john', 123: 'integer key', 3.6: 'float key', (1, 2): 'tuple key'}\n"
     ]
    }
   ],
   "source": [
    "print(data)"
   ]
  },
  {
   "cell_type": "code",
   "execution_count": 62,
   "id": "3c846dd6-07b9-46cb-aad4-fcfb194dcb65",
   "metadata": {},
   "outputs": [
    {
     "ename": "TypeError",
     "evalue": "unhashable type: 'list'",
     "output_type": "error",
     "traceback": [
      "\u001b[1;31m---------------------------------------------------------------------------\u001b[0m",
      "\u001b[1;31mTypeError\u001b[0m                                 Traceback (most recent call last)",
      "Cell \u001b[1;32mIn[62], line 1\u001b[0m\n\u001b[1;32m----> 1\u001b[0m data \u001b[38;5;241m=\u001b[39m {\n\u001b[0;32m      2\u001b[0m     \u001b[38;5;124m'\u001b[39m\u001b[38;5;124mname\u001b[39m\u001b[38;5;124m'\u001b[39m : \u001b[38;5;124m'\u001b[39m\u001b[38;5;124mjohn\u001b[39m\u001b[38;5;124m'\u001b[39m,\n\u001b[0;32m      3\u001b[0m     \u001b[38;5;241m123\u001b[39m : \u001b[38;5;124m'\u001b[39m\u001b[38;5;124minteger key\u001b[39m\u001b[38;5;124m'\u001b[39m,\n\u001b[0;32m      4\u001b[0m     \u001b[38;5;241m3.6\u001b[39m : \u001b[38;5;124m'\u001b[39m\u001b[38;5;124mfloat key\u001b[39m\u001b[38;5;124m'\u001b[39m,\n\u001b[0;32m      5\u001b[0m     (\u001b[38;5;241m1\u001b[39m,\u001b[38;5;241m2\u001b[39m) : \u001b[38;5;124m'\u001b[39m\u001b[38;5;124mtuple key\u001b[39m\u001b[38;5;124m'\u001b[39m,\n\u001b[0;32m      6\u001b[0m     [\u001b[38;5;241m1\u001b[39m,\u001b[38;5;241m2\u001b[39m,\u001b[38;5;241m3\u001b[39m] : \u001b[38;5;124m'\u001b[39m\u001b[38;5;124mlist key\u001b[39m\u001b[38;5;124m'\u001b[39m\n\u001b[0;32m      7\u001b[0m }\n",
      "\u001b[1;31mTypeError\u001b[0m: unhashable type: 'list'"
     ]
    }
   ],
   "source": [
    "data = {\n",
    "    'name' : 'john',\n",
    "    123 : 'integer key',\n",
    "    3.6 : 'float key',\n",
    "    (1,2) : 'tuple key',\n",
    "    [1,2,3] : 'list key'\n",
    "}"
   ]
  },
  {
   "cell_type": "code",
   "execution_count": 64,
   "id": "c1e8fbfa-ae42-482b-8f18-7de834f143f8",
   "metadata": {},
   "outputs": [
    {
     "ename": "TypeError",
     "evalue": "unhashable type: 'dict'",
     "output_type": "error",
     "traceback": [
      "\u001b[1;31m---------------------------------------------------------------------------\u001b[0m",
      "\u001b[1;31mTypeError\u001b[0m                                 Traceback (most recent call last)",
      "Cell \u001b[1;32mIn[64], line 1\u001b[0m\n\u001b[1;32m----> 1\u001b[0m data \u001b[38;5;241m=\u001b[39m {\n\u001b[0;32m      2\u001b[0m     \u001b[38;5;124m'\u001b[39m\u001b[38;5;124mname\u001b[39m\u001b[38;5;124m'\u001b[39m : \u001b[38;5;124m'\u001b[39m\u001b[38;5;124mjohn\u001b[39m\u001b[38;5;124m'\u001b[39m,\n\u001b[0;32m      3\u001b[0m     \u001b[38;5;241m123\u001b[39m : \u001b[38;5;124m'\u001b[39m\u001b[38;5;124minteger key\u001b[39m\u001b[38;5;124m'\u001b[39m,\n\u001b[0;32m      4\u001b[0m     \u001b[38;5;241m3.6\u001b[39m : \u001b[38;5;124m'\u001b[39m\u001b[38;5;124mfloat key\u001b[39m\u001b[38;5;124m'\u001b[39m,\n\u001b[0;32m      5\u001b[0m     (\u001b[38;5;241m1\u001b[39m,\u001b[38;5;241m2\u001b[39m) : \u001b[38;5;124m'\u001b[39m\u001b[38;5;124mtuple key\u001b[39m\u001b[38;5;124m'\u001b[39m,\n\u001b[0;32m      6\u001b[0m     {\u001b[38;5;124m'\u001b[39m\u001b[38;5;124mage\u001b[39m\u001b[38;5;124m'\u001b[39m:\u001b[38;5;241m20\u001b[39m, \u001b[38;5;124m'\u001b[39m\u001b[38;5;124myear\u001b[39m\u001b[38;5;124m'\u001b[39m:\u001b[38;5;241m2004\u001b[39m}: \u001b[38;5;124m'\u001b[39m\u001b[38;5;124mdictionary key\u001b[39m\u001b[38;5;124m'\u001b[39m\n\u001b[0;32m      7\u001b[0m }\n",
      "\u001b[1;31mTypeError\u001b[0m: unhashable type: 'dict'"
     ]
    }
   ],
   "source": [
    "data = {\n",
    "    'name' : 'john',\n",
    "    123 : 'integer key',\n",
    "    3.6 : 'float key',\n",
    "    (1,2) : 'tuple key',\n",
    "    {'age':20, 'year':2004}: 'dictionary key'\n",
    "}"
   ]
  },
  {
   "cell_type": "markdown",
   "id": "9daed416-3aa0-48d0-beb8-1a8cd5962bd7",
   "metadata": {},
   "source": [
    "# Duplicates not allowed"
   ]
  },
  {
   "cell_type": "code",
   "execution_count": 65,
   "id": "d2597a92-a129-4b7b-ad05-e98167a43e2b",
   "metadata": {},
   "outputs": [],
   "source": [
    "    dict = {\n",
    "        'ID' : '1234ABQ',\n",
    "        'color' : 'red',\n",
    "        'year' : 2003,\n",
    "        'year' : 2004\n",
    "    }"
   ]
  },
  {
   "cell_type": "code",
   "execution_count": 66,
   "id": "10766132-72f7-4523-b354-d7e930e89bd4",
   "metadata": {},
   "outputs": [
    {
     "name": "stdout",
     "output_type": "stream",
     "text": [
      "{'ID': '1234ABQ', 'color': 'red', 'year': 2004}\n"
     ]
    }
   ],
   "source": [
    "print(dict)"
   ]
  },
  {
   "cell_type": "markdown",
   "id": "fac9f67f-f90e-4371-b65d-875aaba42de2",
   "metadata": {},
   "source": [
    "# Lecture 21"
   ]
  },
  {
   "cell_type": "markdown",
   "id": "1966f476-2166-4437-9ac4-521e95430e18",
   "metadata": {},
   "source": [
    "# Dictionary part 3"
   ]
  },
  {
   "cell_type": "markdown",
   "id": "acd1663c-4e1b-46ec-b37c-2ec770cdc9ff",
   "metadata": {},
   "source": [
    "# Membership testing"
   ]
  },
  {
   "cell_type": "code",
   "execution_count": 67,
   "id": "76a8b7ea-d453-4276-b894-37147175d9db",
   "metadata": {},
   "outputs": [],
   "source": [
    "person = {\n",
    "    'name' : 'shubham',\n",
    "    'age' : 20,\n",
    "    'city' : 'delhi'\n",
    "}"
   ]
  },
  {
   "cell_type": "code",
   "execution_count": 68,
   "id": "923ab1f5-cf98-4890-a7c0-356dbeec7454",
   "metadata": {},
   "outputs": [
    {
     "name": "stdout",
     "output_type": "stream",
     "text": [
      "True\n"
     ]
    }
   ],
   "source": [
    "print('name' in person)"
   ]
  },
  {
   "cell_type": "code",
   "execution_count": 69,
   "id": "c5a5e33d-cda7-4173-83b9-6f98f1b36650",
   "metadata": {},
   "outputs": [
    {
     "name": "stdout",
     "output_type": "stream",
     "text": [
      "False\n"
     ]
    }
   ],
   "source": [
    "print('email' in person)"
   ]
  },
  {
   "cell_type": "code",
   "execution_count": 70,
   "id": "3ee2dd8f-fe76-41ca-9391-98fad11c8335",
   "metadata": {},
   "outputs": [
    {
     "name": "stdout",
     "output_type": "stream",
     "text": [
      "False\n"
     ]
    }
   ],
   "source": [
    "print('shubham' in person)"
   ]
  },
  {
   "cell_type": "markdown",
   "id": "80ec2df9-fdca-403c-a5e5-45ca0edf62a7",
   "metadata": {},
   "source": [
    "# Nested Dictionaries"
   ]
  },
  {
   "cell_type": "code",
   "execution_count": 88,
   "id": "82473911-edc4-4b89-ac78-f8627d5b5e84",
   "metadata": {},
   "outputs": [],
   "source": [
    "employees = {\n",
    "    'emp1' : {'name' : 'Alice', 'age' : 30, 'city' : 'pune'},\n",
    "    'emp2' : {'name' : 'priya', 'age' : 35, 'city' : 'hyderabad'}\n",
    "}"
   ]
  },
  {
   "cell_type": "code",
   "execution_count": 89,
   "id": "a11689b1-f100-4c01-964a-5bdd4dfbe4f2",
   "metadata": {},
   "outputs": [
    {
     "name": "stdout",
     "output_type": "stream",
     "text": [
      "{'name': 'Alice', 'age': 30, 'city': 'pune'}\n"
     ]
    }
   ],
   "source": [
    "print(employees['emp1'])"
   ]
  },
  {
   "cell_type": "code",
   "execution_count": 90,
   "id": "bcf4f03a-1f3d-4420-8df0-5e8ba90803f7",
   "metadata": {},
   "outputs": [
    {
     "name": "stdout",
     "output_type": "stream",
     "text": [
      "Alice\n"
     ]
    }
   ],
   "source": [
    "print(employees['emp1']['name'])"
   ]
  },
  {
   "cell_type": "code",
   "execution_count": 95,
   "id": "fc1a33ec-2f4d-4b2c-a6ce-389655f6771d",
   "metadata": {},
   "outputs": [
    {
     "name": "stdout",
     "output_type": "stream",
     "text": [
      "{'name': 'priya', 'age': 35, 'city': 'hyderabad'}\n"
     ]
    }
   ],
   "source": [
    "print(employees['emp2'])"
   ]
  },
  {
   "cell_type": "code",
   "execution_count": 96,
   "id": "f55b1fd4-6345-40e8-91c2-3455d4bf7699",
   "metadata": {},
   "outputs": [
    {
     "name": "stdout",
     "output_type": "stream",
     "text": [
      "priya\n"
     ]
    }
   ],
   "source": [
    "print(employees['emp2']['name'])"
   ]
  },
  {
   "cell_type": "code",
   "execution_count": 97,
   "id": "b74ed9d5-f59e-402d-82c6-c09ceac17d55",
   "metadata": {},
   "outputs": [
    {
     "name": "stdout",
     "output_type": "stream",
     "text": [
      "30\n"
     ]
    }
   ],
   "source": [
    "print(employees['emp1']['age'])"
   ]
  },
  {
   "cell_type": "markdown",
   "id": "a2f94ee9-1fc1-4bd5-8216-8acc23e234bb",
   "metadata": {},
   "source": [
    "# Lecture 22"
   ]
  },
  {
   "cell_type": "markdown",
   "id": "68d0dac4-28fd-458b-96f7-2a982a46c470",
   "metadata": {},
   "source": [
    "# Dictionary in python part 4"
   ]
  },
  {
   "cell_type": "markdown",
   "id": "c3d2870f-f783-4524-b2e2-12afb7305146",
   "metadata": {},
   "source": [
    "# Dictionary length"
   ]
  },
  {
   "cell_type": "code",
   "execution_count": 98,
   "id": "e791740d-f0d6-4d27-8491-d5f41d945e46",
   "metadata": {},
   "outputs": [],
   "source": [
    "dict = {\"ID\":1234567,\n",
    "        \"color\":\"red\",\n",
    "        \"year\":1997}"
   ]
  },
  {
   "cell_type": "code",
   "execution_count": 99,
   "id": "34537cc7-6314-4c58-a598-ac7148e8cc87",
   "metadata": {},
   "outputs": [
    {
     "name": "stdout",
     "output_type": "stream",
     "text": [
      "3\n"
     ]
    }
   ],
   "source": [
    "print(len(dict))"
   ]
  },
  {
   "cell_type": "markdown",
   "id": "d6d7908d-53a6-4238-b84a-e0969385a595",
   "metadata": {},
   "source": [
    "# Get keys"
   ]
  },
  {
   "cell_type": "code",
   "execution_count": 100,
   "id": "e69524c8-becd-4e5e-9654-eb3b8cc6cf87",
   "metadata": {},
   "outputs": [],
   "source": [
    "a = {\"name\":\"priya\", \"age\" : 28, \"country\":\"India\"}"
   ]
  },
  {
   "cell_type": "code",
   "execution_count": 101,
   "id": "fdc94ed9-5604-4eac-910c-a9885b102bf9",
   "metadata": {},
   "outputs": [],
   "source": [
    "x = a.keys()"
   ]
  },
  {
   "cell_type": "code",
   "execution_count": 102,
   "id": "acb27a28-58d9-4ee7-809f-838c9e78ed59",
   "metadata": {},
   "outputs": [
    {
     "name": "stdout",
     "output_type": "stream",
     "text": [
      "dict_keys(['name', 'age', 'country'])\n"
     ]
    }
   ],
   "source": [
    "print(x)"
   ]
  },
  {
   "cell_type": "markdown",
   "id": "678e0cde-a219-4404-b5dd-532555afd103",
   "metadata": {},
   "source": [
    "# Get values"
   ]
  },
  {
   "cell_type": "code",
   "execution_count": 103,
   "id": "b75c16c3-6742-4199-a24a-cb7b31690482",
   "metadata": {},
   "outputs": [],
   "source": [
    "a = {\"name\":\"priya\", \"age\" : 28, \"country\":\"India\"}"
   ]
  },
  {
   "cell_type": "code",
   "execution_count": 104,
   "id": "04eaab98-bc16-4c51-82ea-48a873cfc9be",
   "metadata": {},
   "outputs": [],
   "source": [
    "y = a.values()"
   ]
  },
  {
   "cell_type": "code",
   "execution_count": 105,
   "id": "f0a77701-855f-4ef3-acc9-1a93db544b5a",
   "metadata": {},
   "outputs": [
    {
     "name": "stdout",
     "output_type": "stream",
     "text": [
      "dict_values(['priya', 28, 'India'])\n"
     ]
    }
   ],
   "source": [
    "print(y)"
   ]
  },
  {
   "cell_type": "markdown",
   "id": "e24756b7-7a66-4a3b-ad52-8e3774616ab8",
   "metadata": {},
   "source": [
    "# change values"
   ]
  },
  {
   "cell_type": "code",
   "execution_count": 107,
   "id": "1807c47f-df00-488c-a0a8-097169e955b4",
   "metadata": {},
   "outputs": [
    {
     "name": "stdout",
     "output_type": "stream",
     "text": [
      "{'name': 'priya', 'age': 28, 'country': 'India'}\n"
     ]
    }
   ],
   "source": [
    "a = {\"name\":\"priya\",\n",
    "     \"age\":28,\n",
    "     \"country\":\"India\"}\n",
    "print(a)"
   ]
  },
  {
   "cell_type": "code",
   "execution_count": 108,
   "id": "d2d873fa-cfce-4374-b9de-9c7d7b3f4513",
   "metadata": {},
   "outputs": [
    {
     "name": "stdout",
     "output_type": "stream",
     "text": [
      "{'name': 'priya', 'age': 28, 'country': 'Bharat'}\n"
     ]
    }
   ],
   "source": [
    "a['country'] = \"Bharat\"\n",
    "print(a)"
   ]
  },
  {
   "cell_type": "code",
   "execution_count": 109,
   "id": "aa023a5b-f72d-4fd6-a175-d7e820fa9fd9",
   "metadata": {},
   "outputs": [
    {
     "name": "stdout",
     "output_type": "stream",
     "text": [
      "{'name': 'priya', 'age': 35, 'country': 'Bharat'}\n"
     ]
    }
   ],
   "source": [
    "a[\"age\"] = 35\n",
    "print(a)"
   ]
  },
  {
   "cell_type": "markdown",
   "id": "9be42194-5d04-4e73-b5e1-916293d0866f",
   "metadata": {},
   "source": [
    "# Adding items"
   ]
  },
  {
   "cell_type": "code",
   "execution_count": 110,
   "id": "53d49f05-d797-42c9-978b-1883ebb7972f",
   "metadata": {},
   "outputs": [
    {
     "name": "stdout",
     "output_type": "stream",
     "text": [
      "{'name': 'Alice', 'age': 30}\n"
     ]
    }
   ],
   "source": [
    "person = {'name':\"Alice\",\n",
    "          'age':30}\n",
    "print(person)"
   ]
  },
  {
   "cell_type": "code",
   "execution_count": 111,
   "id": "66ddbbc0-ab7a-49e2-b29e-5ed245589432",
   "metadata": {},
   "outputs": [
    {
     "name": "stdout",
     "output_type": "stream",
     "text": [
      "{'name': 'Alice', 'age': 30, 'city': 'New Dehli', 'email id': 'alice123@gamil.com'}\n"
     ]
    }
   ],
   "source": [
    "person['city'] = 'New Dehli'\n",
    "person['email id'] = \"alice123@gamil.com\"\n",
    "\n",
    "print(person)"
   ]
  },
  {
   "cell_type": "markdown",
   "id": "ed8bd7a9-f936-457d-a1ff-8e17d15c2d7b",
   "metadata": {},
   "source": [
    "# Update method"
   ]
  },
  {
   "cell_type": "code",
   "execution_count": 112,
   "id": "9db41a94-2dbb-4b50-b524-d4ded060d6b7",
   "metadata": {},
   "outputs": [
    {
     "name": "stdout",
     "output_type": "stream",
     "text": [
      "{'name': 'Alice', 'age': 30, 'country': 'pune', 'gender': 'male'}\n"
     ]
    }
   ],
   "source": [
    "person = {'name':\"Alice\",\n",
    "          'age':30,\n",
    "          'country':\"pune\",\n",
    "          'gender':\"male\"}\n",
    "print(person)"
   ]
  },
  {
   "cell_type": "code",
   "execution_count": 113,
   "id": "62c64dab-0328-4f02-981a-17b7c247c04a",
   "metadata": {},
   "outputs": [],
   "source": [
    "person.update({\"phone number\":54678923104})"
   ]
  },
  {
   "cell_type": "code",
   "execution_count": 114,
   "id": "7efc9d15-4087-47b0-a7cd-26a01f0e8fec",
   "metadata": {},
   "outputs": [
    {
     "name": "stdout",
     "output_type": "stream",
     "text": [
      "{'name': 'Alice', 'age': 30, 'country': 'pune', 'gender': 'male', 'phone number': 54678923104}\n"
     ]
    }
   ],
   "source": [
    "print(person)"
   ]
  },
  {
   "cell_type": "code",
   "execution_count": 123,
   "id": "4428bef1-0bb9-48ef-b2ab-6fac128c1174",
   "metadata": {},
   "outputs": [],
   "source": [
    "person.update({\"mail id\":\"alice123@gmail.com\",\"adhar number\":995654297492})"
   ]
  },
  {
   "cell_type": "code",
   "execution_count": 124,
   "id": "f0da9840-6aee-4a11-bcb9-92d33b418b1b",
   "metadata": {},
   "outputs": [
    {
     "name": "stdout",
     "output_type": "stream",
     "text": [
      "{'name': 'Alice', 'age': 30, 'country': 'pune', 'gender': 'male', 'phone number': 54678923104, 'mail id': 'alice123@gmail.com', 'adhar number': 995654297492}\n"
     ]
    }
   ],
   "source": [
    "print(person)"
   ]
  },
  {
   "cell_type": "markdown",
   "id": "78ab2024-18d6-493e-8149-9af7d74e99ab",
   "metadata": {},
   "source": [
    "# Remove items"
   ]
  },
  {
   "cell_type": "code",
   "execution_count": 132,
   "id": "aa354c8e-4ae0-4ec4-8514-e70ee6fd039a",
   "metadata": {},
   "outputs": [],
   "source": [
    "a = {'name': 'Alice', 'age': 30, 'country': 'pune', 'gender': 'male'}"
   ]
  },
  {
   "cell_type": "code",
   "execution_count": 133,
   "id": "6fb07b8a-6c7d-4141-be18-22951ff7f7d7",
   "metadata": {},
   "outputs": [
    {
     "name": "stdout",
     "output_type": "stream",
     "text": [
      "{'name': 'Alice', 'age': 30, 'country': 'pune', 'gender': 'male'}\n"
     ]
    }
   ],
   "source": [
    "print(a)"
   ]
  },
  {
   "cell_type": "code",
   "execution_count": 134,
   "id": "c1ab9037-af5c-4c47-8812-b2000259f663",
   "metadata": {},
   "outputs": [
    {
     "name": "stdout",
     "output_type": "stream",
     "text": [
      "{'name': 'Alice', 'country': 'pune', 'gender': 'male'}\n"
     ]
    }
   ],
   "source": [
    "a.pop(\"age\")\n",
    "print(a)"
   ]
  },
  {
   "cell_type": "markdown",
   "id": "f5de61b4-e29b-4162-8e01-bb6f894cd081",
   "metadata": {},
   "source": [
    "# del method"
   ]
  },
  {
   "cell_type": "code",
   "execution_count": 135,
   "id": "3893730a-fd10-4f56-a3da-05000308fb95",
   "metadata": {},
   "outputs": [],
   "source": [
    "a = {'name': 'Alice', 'age': 30, 'country': 'pune', 'gender': 'male'}"
   ]
  },
  {
   "cell_type": "code",
   "execution_count": 136,
   "id": "f4ebcb32-ac1f-4f80-879b-15eb4303e3cc",
   "metadata": {},
   "outputs": [
    {
     "name": "stdout",
     "output_type": "stream",
     "text": [
      "{'name': 'Alice', 'country': 'pune', 'gender': 'male'}\n"
     ]
    }
   ],
   "source": [
    "del a[\"age\"]\n",
    "print(a)"
   ]
  },
  {
   "cell_type": "code",
   "execution_count": 137,
   "id": "a003693c-d507-4f4c-ab26-b6871bf897e4",
   "metadata": {},
   "outputs": [
    {
     "name": "stdout",
     "output_type": "stream",
     "text": [
      "{'name': 'Alice'}\n"
     ]
    }
   ],
   "source": [
    "del a[\"country\"],a[\"gender\"]\n",
    "print(a)"
   ]
  },
  {
   "cell_type": "code",
   "execution_count": 138,
   "id": "dd26304b-caa3-4e29-9c4b-13c9f82a308f",
   "metadata": {},
   "outputs": [],
   "source": [
    "a = {'name': 'Alice', 'age': 30, 'country': 'pune', 'gender': 'male'}\n",
    "\n",
    "del a"
   ]
  },
  {
   "cell_type": "code",
   "execution_count": 139,
   "id": "476b5dda-8861-4983-b998-f6372b42920d",
   "metadata": {},
   "outputs": [
    {
     "ename": "NameError",
     "evalue": "name 'a' is not defined",
     "output_type": "error",
     "traceback": [
      "\u001b[1;31m---------------------------------------------------------------------------\u001b[0m",
      "\u001b[1;31mNameError\u001b[0m                                 Traceback (most recent call last)",
      "Cell \u001b[1;32mIn[139], line 1\u001b[0m\n\u001b[1;32m----> 1\u001b[0m \u001b[38;5;28mprint\u001b[39m(a)\n",
      "\u001b[1;31mNameError\u001b[0m: name 'a' is not defined"
     ]
    }
   ],
   "source": [
    "print(a)"
   ]
  },
  {
   "cell_type": "markdown",
   "id": "98db3d06-5a7f-4766-beea-f222cd41bcc2",
   "metadata": {},
   "source": [
    "# clear method"
   ]
  },
  {
   "cell_type": "code",
   "execution_count": 140,
   "id": "00f25fe3-6483-476e-9485-e329547a6e77",
   "metadata": {},
   "outputs": [
    {
     "name": "stdout",
     "output_type": "stream",
     "text": [
      "{'name': 'Alice', 'age': 30, 'country': 'pune', 'gender': 'male'}\n"
     ]
    }
   ],
   "source": [
    "a = {'name': 'Alice', 'age': 30, 'country': 'pune', 'gender': 'male'}\n",
    "print(a)"
   ]
  },
  {
   "cell_type": "code",
   "execution_count": 141,
   "id": "36d0d26c-6293-417d-87ea-2f7bad098c78",
   "metadata": {},
   "outputs": [
    {
     "name": "stdout",
     "output_type": "stream",
     "text": [
      "{}\n"
     ]
    }
   ],
   "source": [
    "a.clear()\n",
    "print(a)"
   ]
  },
  {
   "cell_type": "markdown",
   "id": "08bd2190-d230-468b-89f7-85f2c147c6f1",
   "metadata": {},
   "source": [
    "# Lecture 23"
   ]
  },
  {
   "cell_type": "markdown",
   "id": "5f5957c4-0b45-4bca-b20c-658956cc1965",
   "metadata": {},
   "source": [
    "# Dictionary part 5"
   ]
  },
  {
   "cell_type": "markdown",
   "id": "b777ee40-fadd-45ed-924e-1b7d1592d3b1",
   "metadata": {},
   "source": [
    "# practice question - 1"
   ]
  },
  {
   "cell_type": "markdown",
   "id": "5ee6d58c-75e4-4db2-b63f-de6e632b39e4",
   "metadata": {},
   "source": [
    "# Write a python script to concatenate the following dictionaries to create a new one."
   ]
  },
  {
   "cell_type": "code",
   "execution_count": 146,
   "id": "99aa0add-f63f-423d-a21a-800176757f7a",
   "metadata": {},
   "outputs": [
    {
     "name": "stdout",
     "output_type": "stream",
     "text": [
      "{1: 10, 2: 20, 3: 30, 4: 40, 5: 50, 6: 60}\n"
     ]
    }
   ],
   "source": [
    "dic1 = {1:10,2:20}\n",
    "dic2 = {3:30,4:40}\n",
    "dic3 = {5:50,6:60}\n",
    "\n",
    "dic4 = {}\n",
    "\n",
    "for d in (dic1,dic2,dic3):dic4.update(d)\n",
    "print(dic4)"
   ]
  },
  {
   "cell_type": "markdown",
   "id": "70f39402-e239-4f88-b35a-3bab96ba5a46",
   "metadata": {},
   "source": [
    "# Print a dictionary where the keys are numbers between 1 and 15 and the values are square of keys"
   ]
  },
  {
   "cell_type": "code",
   "execution_count": 147,
   "id": "a78ee244-208b-4c69-bac8-ad55513e1703",
   "metadata": {},
   "outputs": [
    {
     "name": "stdout",
     "output_type": "stream",
     "text": [
      "{1: 1, 2: 4, 3: 9, 4: 16, 5: 25, 6: 36, 7: 49, 8: 64, 9: 81, 10: 100, 11: 121, 12: 144, 13: 169, 14: 196, 15: 225}\n"
     ]
    }
   ],
   "source": [
    "square_dict = {}\n",
    "\n",
    "for num in range(1,16):\n",
    "    square_dict[num] = num**2\n",
    "\n",
    "print(square_dict)"
   ]
  },
  {
   "cell_type": "code",
   "execution_count": 148,
   "id": "66134fd3-66eb-49f3-89e2-9ac26471abad",
   "metadata": {},
   "outputs": [
    {
     "name": "stdout",
     "output_type": "stream",
     "text": [
      "{1: 1, 2: 4, 3: 9, 4: 16, 5: 25, 6: 36, 7: 49, 8: 64, 9: 81, 10: 100, 11: 121, 12: 144, 13: 169, 14: 196, 15: 225, 16: 256, 17: 289, 18: 324, 19: 361, 20: 400, 21: 441, 22: 484, 23: 529, 24: 576, 25: 625, 26: 676, 27: 729, 28: 784, 29: 841, 30: 900, 31: 961, 32: 1024, 33: 1089, 34: 1156, 35: 1225, 36: 1296, 37: 1369, 38: 1444, 39: 1521, 40: 1600, 41: 1681, 42: 1764, 43: 1849, 44: 1936, 45: 2025, 46: 2116, 47: 2209, 48: 2304, 49: 2401, 50: 2500, 51: 2601, 52: 2704, 53: 2809, 54: 2916, 55: 3025, 56: 3136, 57: 3249, 58: 3364, 59: 3481, 60: 3600, 61: 3721, 62: 3844, 63: 3969, 64: 4096, 65: 4225, 66: 4356, 67: 4489, 68: 4624, 69: 4761, 70: 4900, 71: 5041, 72: 5184, 73: 5329, 74: 5476, 75: 5625, 76: 5776, 77: 5929, 78: 6084, 79: 6241, 80: 6400, 81: 6561, 82: 6724, 83: 6889, 84: 7056, 85: 7225, 86: 7396, 87: 7569, 88: 7744, 89: 7921, 90: 8100, 91: 8281, 92: 8464, 93: 8649, 94: 8836, 95: 9025, 96: 9216, 97: 9409, 98: 9604, 99: 9801, 100: 10000}\n"
     ]
    }
   ],
   "source": [
    "square_dict = {}\n",
    "\n",
    "for num in range(1,101):\n",
    "    square_dict[num] = num**2\n",
    "\n",
    "print(square_dict)"
   ]
  },
  {
   "cell_type": "markdown",
   "id": "870d7c7b-61e3-415d-bcf3-a617aecd2bf3",
   "metadata": {},
   "source": [
    "# Check whether a given key already in a dictionary"
   ]
  },
  {
   "cell_type": "code",
   "execution_count": 150,
   "id": "c10819d9-b398-44df-901b-b0a2d6352e0b",
   "metadata": {},
   "outputs": [],
   "source": [
    "d = {1:10, 2:20, 3:30, 4:40, 5:50, 6:60}\n",
    "\n",
    "def is_key_present(x):\n",
    "    if x in d:\n",
    "        print(\"key is present in the dictionary\")\n",
    "    else:\n",
    "        print(\"key is not present in the dictionary\")"
   ]
  },
  {
   "cell_type": "code",
   "execution_count": 152,
   "id": "4b8e2302-928e-45a3-9779-7788d4cd8dd7",
   "metadata": {},
   "outputs": [
    {
     "name": "stdout",
     "output_type": "stream",
     "text": [
      "key is present in the dictionary\n"
     ]
    }
   ],
   "source": [
    "is_key_present(3)"
   ]
  },
  {
   "cell_type": "code",
   "execution_count": 153,
   "id": "709ce3f3-2351-4419-b5b8-cbd82695afaa",
   "metadata": {},
   "outputs": [
    {
     "name": "stdout",
     "output_type": "stream",
     "text": [
      "key is not present in the dictionary\n"
     ]
    }
   ],
   "source": [
    "is_key_present(10)"
   ]
  },
  {
   "cell_type": "code",
   "execution_count": 154,
   "id": "c0755910-5348-4cda-9686-ed9d9b1a9c96",
   "metadata": {},
   "outputs": [
    {
     "name": "stdout",
     "output_type": "stream",
     "text": [
      "key is present in the dictionary\n"
     ]
    }
   ],
   "source": [
    "is_key_present(4)"
   ]
  },
  {
   "cell_type": "markdown",
   "id": "c606d16d-3e9a-4ff2-9c72-76006774fd46",
   "metadata": {},
   "source": [
    "# Lecture 24"
   ]
  },
  {
   "cell_type": "markdown",
   "id": "04c0e823-ca95-4511-8bca-51a61115b954",
   "metadata": {},
   "source": [
    "# OOPS"
   ]
  },
  {
   "cell_type": "markdown",
   "id": "4a86bdf2-6b9c-4cd6-af3e-b4fbc1fbab10",
   "metadata": {},
   "source": [
    "# Procedural programming"
   ]
  },
  {
   "cell_type": "code",
   "execution_count": 1,
   "id": "2d4dac25-0ebf-4d32-9fdb-a717c5a58ba7",
   "metadata": {},
   "outputs": [
    {
     "name": "stdout",
     "output_type": "stream",
     "text": [
      "50\n",
      "30\n"
     ]
    }
   ],
   "source": [
    "num1 = 40\n",
    "num2 = 10\n",
    "\n",
    "sum = num1+num2\n",
    "diff = num1-num2\n",
    "print(sum)\n",
    "print(diff)"
   ]
  },
  {
   "cell_type": "code",
   "execution_count": 1,
   "id": "33bfa3e9-9ad9-4693-bcd2-029edfa1d033",
   "metadata": {},
   "outputs": [
    {
     "name": "stdout",
     "output_type": "stream",
     "text": [
      "110\n",
      "10\n"
     ]
    }
   ],
   "source": [
    "num1 = 60\n",
    "num2 = 50\n",
    "\n",
    "sum = num1+num2\n",
    "diff = num1-num2\n",
    "print(sum)\n",
    "print(diff)"
   ]
  },
  {
   "cell_type": "markdown",
   "id": "55400131-5fa3-4e18-bd2b-460119bbaa30",
   "metadata": {},
   "source": [
    "# Functional programming"
   ]
  },
  {
   "cell_type": "code",
   "execution_count": 2,
   "id": "ab2788f2-064b-49b7-9a56-3de32c569d2f",
   "metadata": {},
   "outputs": [],
   "source": [
    "def add_numbers(a,b):\n",
    "    print(a+b)\n",
    "\n",
    "def subtract_numbers(a,b):\n",
    "    print(a-b)"
   ]
  },
  {
   "cell_type": "code",
   "execution_count": 3,
   "id": "28091d60-7b3b-41ed-bba1-62e0abfb8753",
   "metadata": {},
   "outputs": [
    {
     "name": "stdout",
     "output_type": "stream",
     "text": [
      "50\n"
     ]
    }
   ],
   "source": [
    "add_numbers(40,10)"
   ]
  },
  {
   "cell_type": "code",
   "execution_count": 4,
   "id": "2b6a6ed5-0e14-496a-8aac-06658fb008d9",
   "metadata": {},
   "outputs": [
    {
     "name": "stdout",
     "output_type": "stream",
     "text": [
      "30\n"
     ]
    }
   ],
   "source": [
    "subtract_numbers(40,10)"
   ]
  },
  {
   "cell_type": "markdown",
   "id": "bcdfd96d-d09d-4bc2-93be-925a4e2e09f0",
   "metadata": {},
   "source": [
    "# Object Oriented Programming"
   ]
  },
  {
   "cell_type": "code",
   "execution_count": 5,
   "id": "025e6119-b2cc-4256-a67b-0d8505500b8f",
   "metadata": {},
   "outputs": [],
   "source": [
    "class calculator:\n",
    "    def add(self,a,b):\n",
    "        print(a+b)\n",
    "    def diff(self,a,b):\n",
    "        print(a-b)\n",
    "    def mult(self,a,b):\n",
    "        print(a*b)"
   ]
  },
  {
   "cell_type": "code",
   "execution_count": 7,
   "id": "b19cdd65-fc70-4c38-ab0d-f807ff1a10bd",
   "metadata": {},
   "outputs": [],
   "source": [
    "calc = calculator()"
   ]
  },
  {
   "cell_type": "code",
   "execution_count": 8,
   "id": "e7a9c304-8fb4-4f4b-837d-1e9e246511df",
   "metadata": {},
   "outputs": [
    {
     "name": "stdout",
     "output_type": "stream",
     "text": [
      "60\n"
     ]
    }
   ],
   "source": [
    "calc.add(40,20)"
   ]
  },
  {
   "cell_type": "code",
   "execution_count": 9,
   "id": "8767b9bb-3d68-4aa8-95b5-e4e8f26ed8c5",
   "metadata": {},
   "outputs": [
    {
     "name": "stdout",
     "output_type": "stream",
     "text": [
      "80\n"
     ]
    }
   ],
   "source": [
    "calc.mult(40,2)"
   ]
  },
  {
   "cell_type": "markdown",
   "id": "1358d4b5-36b6-42f8-b1db-e1ce7fc15890",
   "metadata": {},
   "source": [
    "# class - object - example"
   ]
  },
  {
   "cell_type": "code",
   "execution_count": 21,
   "id": "1d6d68ea-b2ef-401d-9416-58226a4d43f2",
   "metadata": {},
   "outputs": [
    {
     "name": "stdout",
     "output_type": "stream",
     "text": [
      "The Red Toyota car is starting.\n",
      "The Blue Honda car is starting.\n"
     ]
    }
   ],
   "source": [
    "class car:\n",
    "    def start(self):\n",
    "        print(f\"The {self.color} {self.model} car is starting.\")\n",
    "\n",
    "# Object creation our attributes set karna\n",
    "car1 = car()\n",
    "car1.model = \"Toyota\"\n",
    "car1.color = \"Red\"\n",
    "\n",
    "car2 = car()\n",
    "car2.model = \"Honda\"\n",
    "car2.color = \"Blue\"\n",
    "\n",
    "# Methods call karna\n",
    "car1.start() # Output: The Red Toyota car is starting.\n",
    "car2.start() # Output: The Blue Honda car is starting."
   ]
  },
  {
   "cell_type": "markdown",
   "id": "a6bd94c6-aa99-476e-bb32-f5aaf01c36d3",
   "metadata": {},
   "source": [
    "# init function"
   ]
  },
  {
   "cell_type": "markdown",
   "id": "9cc214ed-0474-4cd5-94e7-e2180c0de09e",
   "metadata": {},
   "source": [
    "init_Function kya hota hai?\n",
    "\n",
    "init function ek special method hai jo class ke object create hone par automatic call hota hai. is function ka kaam hai \n",
    "object ke initial properties to set karna is function ko constructor bhi kerhte hain."
   ]
  },
  {
   "cell_type": "markdown",
   "id": "689cbe3a-4ab1-4add-8483-07ff03a27b17",
   "metadata": {},
   "source": [
    "_init_Function kyun banate hain?\n",
    "\n",
    "Initialization: Object ke properties ko initial values dene ke liye:\n",
    "Automatic Call: Jab bhi object banate hain, _init_ function automatic call hota hai.\n",
    "Consistency: Sab objects ko consistent initial statee dene ke liye."
   ]
  },
  {
   "cell_type": "code",
   "execution_count": 56,
   "id": "538c1529-dff5-4b9e-a7a5-db245bbdac76",
   "metadata": {},
   "outputs": [],
   "source": [
    "class car:\n",
    "    def _init_(self, model, color):\n",
    "        self.model = model,\n",
    "        self.color = color\n",
    "    def start(self):\n",
    "        print(f\"The {self.color} {self.model} car is starting.\")        "
   ]
  },
  {
   "cell_type": "code",
   "execution_count": 57,
   "id": "8ae6f170-6931-4c69-991c-c9918946051b",
   "metadata": {},
   "outputs": [
    {
     "name": "stdout",
     "output_type": "stream",
     "text": [
      "The Red Toyota car is starting.\n"
     ]
    }
   ],
   "source": [
    "car1 = Car(\"Toyota\", \"Red\")\n",
    "car1.start()"
   ]
  },
  {
   "cell_type": "code",
   "execution_count": 55,
   "id": "47f33dec-7481-4aae-a044-f936a1359863",
   "metadata": {},
   "outputs": [
    {
     "name": "stdout",
     "output_type": "stream",
     "text": [
      "The Red Toyota car is starting.\n"
     ]
    }
   ],
   "source": [
    "class Car:\n",
    "    def __init__(self, model, color):  # Use '__init__' instead of '_init_'\n",
    "        self.model = model\n",
    "        self.color = color\n",
    "\n",
    "    def start(self):\n",
    "        print(f\"The {self.color} {self.model} car is starting.\")\n",
    "\n",
    "# Creating an object with proper arguments\n",
    "car1 = Car(\"Toyota\", \"Red\")\n",
    "car1.start()"
   ]
  },
  {
   "cell_type": "markdown",
   "id": "3c401f0e-4077-468d-a724-05f112943c6e",
   "metadata": {},
   "source": [
    "# Lecture 25"
   ]
  },
  {
   "cell_type": "markdown",
   "id": "08b68b60-a7b5-4b37-b4fa-d7860f02bffc",
   "metadata": {},
   "source": [
    "# polymorphism with functions"
   ]
  },
  {
   "cell_type": "code",
   "execution_count": 59,
   "id": "b8782b60-f58f-444e-86a9-f550bf0c906d",
   "metadata": {},
   "outputs": [],
   "source": [
    "class Bird:\n",
    "    def fly(self):\n",
    "        print(\"Bird is flying\")\n",
    "\n",
    "class Airplane:\n",
    "    def fly(self):\n",
    "        print(\"Airplane is flying\")"
   ]
  },
  {
   "cell_type": "code",
   "execution_count": 60,
   "id": "8bd870a6-fd88-4b06-8d8a-bee673c7bb45",
   "metadata": {},
   "outputs": [],
   "source": [
    "bird = Bird()\n",
    "airplane = Airplane()"
   ]
  },
  {
   "cell_type": "code",
   "execution_count": 61,
   "id": "0619973d-298e-477a-b920-875055d477da",
   "metadata": {},
   "outputs": [
    {
     "name": "stdout",
     "output_type": "stream",
     "text": [
      "Bird is flying\n"
     ]
    }
   ],
   "source": [
    "bird.fly()"
   ]
  },
  {
   "cell_type": "markdown",
   "id": "9cd1e0a5-2c83-4b81-8c22-1ada4ee8d99e",
   "metadata": {},
   "source": [
    "# Run time polymorphism - method over riding"
   ]
  },
  {
   "cell_type": "markdown",
   "id": "2a1128f7-0ec3-41d9-a17a-9b844c645bf0",
   "metadata": {},
   "source": [
    "Method overriding tab hota hai jab child class\n",
    "apne parent class ke method ko redefine karti hai.\n",
    "yeh ensure karta hai ki child class\n",
    "ke method call ho jab object child class ke ho."
   ]
  },
  {
   "cell_type": "code",
   "execution_count": 3,
   "id": "33801ba6-42e3-45d1-8d23-fe8622dd5751",
   "metadata": {},
   "outputs": [],
   "source": [
    "# parent class\n",
    "class Animal:\n",
    "    def make_sound(self):\n",
    "        print(\"animal make a sound\")\n",
    "\n",
    "# child class\n",
    "class Dog(Animal):\n",
    "    def make_sound(self):\n",
    "        print(\"dog barks\")\n",
    "\n",
    "# child class\n",
    "class Cat(Animal):\n",
    "    def make_sound(self):\n",
    "        print(\"cat meows\")"
   ]
  },
  {
   "cell_type": "code",
   "execution_count": 4,
   "id": "ee32f3d3-78d9-4e12-b0ae-2a6d9bbca2dc",
   "metadata": {},
   "outputs": [],
   "source": [
    "# object create\n",
    "animal = Animal()\n",
    "dog = Dog()\n",
    "cat = Cat()"
   ]
  },
  {
   "cell_type": "code",
   "execution_count": 5,
   "id": "71684fe7-f9c7-4c83-a904-5a344842c878",
   "metadata": {},
   "outputs": [
    {
     "name": "stdout",
     "output_type": "stream",
     "text": [
      "animal make a sound\n",
      "dog barks\n",
      "cat meows\n"
     ]
    }
   ],
   "source": [
    "animal.make_sound()\n",
    "dog.make_sound()\n",
    "cat.make_sound()"
   ]
  },
  {
   "cell_type": "markdown",
   "id": "3a53044f-80d7-48c5-b49c-17b0d7a6729c",
   "metadata": {},
   "source": [
    "# Compile time polymorphism - method overloading "
   ]
  },
  {
   "cell_type": "markdown",
   "id": "b1b9a8fd-bb3e-48e7-9c34-ccc3516f693b",
   "metadata": {},
   "source": [
    "Python me method overloading directly support nahi karta,\n",
    "lekin hum default arguments ka use karke\n",
    "ek method ko multiple tarike se use kar sakte hain."
   ]
  },
  {
   "cell_type": "code",
   "execution_count": 7,
   "id": "7a735e22-08bb-4d8f-89bc-49f022d71396",
   "metadata": {},
   "outputs": [],
   "source": [
    "class Calculator:\n",
    "    def add(self,a,b,c=0):\n",
    "        print(a+b+c)"
   ]
  },
  {
   "cell_type": "code",
   "execution_count": 8,
   "id": "4237b830-dd87-4ea8-8524-7f43e2454229",
   "metadata": {},
   "outputs": [],
   "source": [
    "calc = Calculator()"
   ]
  },
  {
   "cell_type": "code",
   "execution_count": 9,
   "id": "defd32ab-040a-40b4-83af-4da18f5f8f79",
   "metadata": {},
   "outputs": [
    {
     "name": "stdout",
     "output_type": "stream",
     "text": [
      "9\n"
     ]
    }
   ],
   "source": [
    "calc.add(2,7)"
   ]
  },
  {
   "cell_type": "code",
   "execution_count": 10,
   "id": "48d4bc6a-e686-46d1-86e9-41277891716c",
   "metadata": {},
   "outputs": [
    {
     "name": "stdout",
     "output_type": "stream",
     "text": [
      "18\n"
     ]
    }
   ],
   "source": [
    "calc.add(5,6,7)"
   ]
  },
  {
   "cell_type": "markdown",
   "id": "9dc40eb7-7011-4754-a213-58f00f268d4a",
   "metadata": {},
   "source": [
    "# polymorphism in real world scenario"
   ]
  },
  {
   "cell_type": "code",
   "execution_count": null,
   "id": "2386194b-1774-4772-8fc2-e4bf6d154874",
   "metadata": {},
   "outputs": [],
   "source": [
    "Imagine kariye ek software application jo different types of media files ko\n",
    "play karta hai jaise audio files aur video files. hum ek mediaplayer class create kar sakte hain\n",
    "jo play method ko  define karega, aur phir audioplayer aur videoplayer classes inherit karengi mediaplayer\n",
    "class ko aur play method ko override karengi apne specific behavior ke liye."
   ]
  },
  {
   "cell_type": "code",
   "execution_count": 11,
   "id": "8b1757f1-81d5-44c7-82e8-d13cdb7c0fef",
   "metadata": {},
   "outputs": [],
   "source": [
    "class Mediaplayer:\n",
    "    def play(self):\n",
    "        print(\"playing media\")\n",
    "\n",
    "class Audioplayer(Mediaplayer):\n",
    "    def play(self):\n",
    "        print(\"playing audio file\")\n",
    "\n",
    "class Videoplayer(Mediaplayer):\n",
    "    def play(self):\n",
    "        print(\"playing video file\")"
   ]
  },
  {
   "cell_type": "code",
   "execution_count": 12,
   "id": "d9477c6a-e1df-4919-85c0-60ba290a2f79",
   "metadata": {},
   "outputs": [],
   "source": [
    "media = Mediaplayer()\n",
    "audio = Audioplayer()\n",
    "video = Videoplayer()"
   ]
  },
  {
   "cell_type": "code",
   "execution_count": 15,
   "id": "fd2b08c8-65b0-41f3-be26-42ae1052664f",
   "metadata": {},
   "outputs": [
    {
     "name": "stdout",
     "output_type": "stream",
     "text": [
      "playing media\n",
      "playing audio file\n",
      "playing video file\n"
     ]
    }
   ],
   "source": [
    "media.play()\n",
    "audio.play()\n",
    "video.play()"
   ]
  },
  {
   "cell_type": "markdown",
   "id": "d584a3ce-dd42-48ff-b20f-e1db030983e2",
   "metadata": {},
   "source": [
    "# Lecture 26"
   ]
  },
  {
   "cell_type": "markdown",
   "id": "f4a41a41-3c54-4616-987c-ca76150363d0",
   "metadata": {},
   "source": [
    "# oops - part 3"
   ]
  },
  {
   "cell_type": "markdown",
   "id": "82117240-4fab-4006-8cc7-c0db8ac8e59f",
   "metadata": {},
   "source": [
    "# Inheritance\n",
    "\n",
    "# Single inheritance"
   ]
  },
  {
   "cell_type": "code",
   "execution_count": 2,
   "id": "06c8404a-6403-432e-82d5-f08c0d732bd6",
   "metadata": {},
   "outputs": [],
   "source": [
    "class Parent:\n",
    "    def show(self):\n",
    "        print(\"this is parent class\")\n",
    "\n",
    "class Child(Parent):\n",
    "    def display(self):\n",
    "        print(\"this is child class\")"
   ]
  },
  {
   "cell_type": "code",
   "execution_count": 3,
   "id": "586f84af-81f1-4c04-a9ac-3c090c7a4a35",
   "metadata": {},
   "outputs": [],
   "source": [
    "child = Child()"
   ]
  },
  {
   "cell_type": "code",
   "execution_count": 4,
   "id": "52c4fba0-8f2a-4db5-aed9-f6692460bf02",
   "metadata": {},
   "outputs": [
    {
     "name": "stdout",
     "output_type": "stream",
     "text": [
      "this is parent class\n"
     ]
    }
   ],
   "source": [
    "child.show()"
   ]
  },
  {
   "cell_type": "code",
   "execution_count": 5,
   "id": "6ed4ede9-df73-4de6-b037-acfee4791955",
   "metadata": {},
   "outputs": [
    {
     "name": "stdout",
     "output_type": "stream",
     "text": [
      "this is child class\n"
     ]
    }
   ],
   "source": [
    "child.display()"
   ]
  },
  {
   "cell_type": "markdown",
   "id": "6218694d-d60a-4f9c-b95b-09c97d4c73d0",
   "metadata": {},
   "source": [
    "# Multiple inheritance"
   ]
  },
  {
   "cell_type": "code",
   "execution_count": 6,
   "id": "bd1e0e72-fff7-45fe-8f99-4f114d490833",
   "metadata": {},
   "outputs": [],
   "source": [
    "class Mother:\n",
    "    def show_mother(self):\n",
    "        print(\"this is mother class\")\n",
    "\n",
    "class Father:\n",
    "    def show_father(self):\n",
    "        print(\"this is father class\")\n",
    "\n",
    "class Child(Mother, Father):\n",
    "    def show_child(self):\n",
    "        print(\"i am child class\")"
   ]
  },
  {
   "cell_type": "code",
   "execution_count": 7,
   "id": "76940190-a2da-4abf-880a-c43359bab469",
   "metadata": {},
   "outputs": [],
   "source": [
    "child = Child()"
   ]
  },
  {
   "cell_type": "code",
   "execution_count": 8,
   "id": "812dea2d-d32c-4a38-aa63-75ddc1e24482",
   "metadata": {},
   "outputs": [
    {
     "name": "stdout",
     "output_type": "stream",
     "text": [
      "this is mother class\n",
      "this is father class\n",
      "i am child class\n"
     ]
    }
   ],
   "source": [
    "child.show_mother()\n",
    "child.show_father()\n",
    "child.show_child()"
   ]
  },
  {
   "cell_type": "markdown",
   "id": "45563b58-f2bd-4d15-8c02-6966b69bfdcf",
   "metadata": {},
   "source": [
    "# Multi level inheritance"
   ]
  },
  {
   "cell_type": "code",
   "execution_count": 11,
   "id": "b5d1feb6-4fc3-4e1d-a766-49e3943562b1",
   "metadata": {},
   "outputs": [],
   "source": [
    "class Grandparent:\n",
    "    def show_grandparent(self):\n",
    "        print(\"grand parents\")\n",
    "\n",
    "class parents(Grandparent):\n",
    "    def show_parents(self):\n",
    "        print(\"parents\")\n",
    "\n",
    "class Child(parents):\n",
    "    def show_child(self):\n",
    "        print(\"child class\")"
   ]
  },
  {
   "cell_type": "code",
   "execution_count": 13,
   "id": "3c61d2ad-76ac-44bd-9748-4912309120ee",
   "metadata": {},
   "outputs": [],
   "source": [
    "child1 = Child()"
   ]
  },
  {
   "cell_type": "code",
   "execution_count": 14,
   "id": "794d05ee-65f0-4126-bfc4-f5cbe6bd0a7b",
   "metadata": {},
   "outputs": [
    {
     "name": "stdout",
     "output_type": "stream",
     "text": [
      "grand parents\n",
      "parents\n",
      "child class\n"
     ]
    }
   ],
   "source": [
    "child1.show_grandparent()\n",
    "child1.show_parents()\n",
    "child1.show_child()"
   ]
  },
  {
   "cell_type": "code",
   "execution_count": 15,
   "id": "4642645c-e00c-4398-933f-d5b9c6458268",
   "metadata": {},
   "outputs": [],
   "source": [
    "parent1 = parents()"
   ]
  },
  {
   "cell_type": "code",
   "execution_count": 16,
   "id": "ab2d587b-c40f-46af-9b73-64642562a1d8",
   "metadata": {},
   "outputs": [
    {
     "name": "stdout",
     "output_type": "stream",
     "text": [
      "grand parents\n"
     ]
    }
   ],
   "source": [
    "parent1.show_grandparent()"
   ]
  },
  {
   "cell_type": "markdown",
   "id": "910aad52-4139-4d30-8f6b-59c3ef7e1e13",
   "metadata": {},
   "source": [
    "# Hierarichal inheritance"
   ]
  },
  {
   "cell_type": "code",
   "execution_count": 8,
   "id": "88eee34c-81c4-48ea-be75-6f9888a1044a",
   "metadata": {},
   "outputs": [],
   "source": [
    "class Parent:\n",
    "    def show(self):\n",
    "        print(\"Parent Class\")\n",
    "\n",
    "class Child1(Parent):\n",
    "    def display1(self):\n",
    "        print(\"Child1 Class\")\n",
    "\n",
    "class Child2(Parent):\n",
    "    def display2(self):\n",
    "        prit(\"Child2 Class\")"
   ]
  },
  {
   "cell_type": "code",
   "execution_count": 10,
   "id": "97e0c950-6dd1-4d0d-af98-6f5e8de6f2fa",
   "metadata": {},
   "outputs": [],
   "source": [
    "childa = Child1()\n",
    "childb = Child2()"
   ]
  },
  {
   "cell_type": "code",
   "execution_count": 11,
   "id": "8323c2f9-ec6b-4231-bc61-aa9eea50e6e4",
   "metadata": {},
   "outputs": [
    {
     "name": "stdout",
     "output_type": "stream",
     "text": [
      "Parent Class\n",
      "Parent Class\n"
     ]
    }
   ],
   "source": [
    "childa.show()\n",
    "childb.show()"
   ]
  },
  {
   "cell_type": "code",
   "execution_count": null,
   "id": "6e12d88d-11e3-4d09-a324-914fe4f813d6",
   "metadata": {},
   "outputs": [],
   "source": []
  }
 ],
 "metadata": {
  "kernelspec": {
   "display_name": "Python 3",
   "language": "python",
   "name": "python3"
  },
  "language_info": {
   "codemirror_mode": {
    "name": "ipython",
    "version": 3
   },
   "file_extension": ".py",
   "mimetype": "text/x-python",
   "name": "python",
   "nbconvert_exporter": "python",
   "pygments_lexer": "ipython3",
   "version": "3.13.4"
  }
 },
 "nbformat": 4,
 "nbformat_minor": 5
}
