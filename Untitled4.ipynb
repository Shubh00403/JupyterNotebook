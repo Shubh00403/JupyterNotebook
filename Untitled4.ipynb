{
 "cells": [
  {
   "cell_type": "markdown",
   "id": "a677a458-a448-497c-9bd9-359b6b0a1ab4",
   "metadata": {
    "panel-layout": {
     "height": 93.5625,
     "visible": true,
     "width": 100
    }
   },
   "source": [
    "# Lecture 4\n",
    "# built in functions part 1"
   ]
  },
  {
   "cell_type": "code",
   "execution_count": 1,
   "id": "ad74eb62-07bf-45a9-b3a9-10cbd7f9267d",
   "metadata": {
    "panel-layout": {
     "height": 0,
     "visible": true,
     "width": 100
    }
   },
   "outputs": [
    {
     "name": "stdout",
     "output_type": "stream",
     "text": [
      "<class 'int'>\n",
      "<class 'float'>\n"
     ]
    }
   ],
   "source": [
    "num_int = 15\n",
    "print(type(num_int))\n",
    "a = float(num_int)\n",
    "print(type(a))"
   ]
  },
  {
   "cell_type": "markdown",
   "id": "cc0a7dda-54fb-4c62-abfd-f234147fc5a5",
   "metadata": {
    "panel-layout": {
     "height": 0,
     "visible": true,
     "width": 100
    }
   },
   "source": [
    "a = \"3.14\"\n",
    "print(type(a))\n",
    "b = float(a)\n",
    "print(b)\n",
    "print(type(b))"
   ]
  },
  {
   "cell_type": "markdown",
   "id": "dca8610d-c0e8-4296-aed7-1871f1b5ba62",
   "metadata": {
    "panel-layout": {
     "height": 60.57500457763672,
     "visible": true,
     "width": 100
    }
   },
   "source": [
    "# int function"
   ]
  },
  {
   "cell_type": "code",
   "execution_count": 6,
   "id": "1d004af6-71e2-462e-ae78-a5ae56aa0a02",
   "metadata": {
    "panel-layout": {
     "height": 0,
     "visible": true,
     "width": 100
    }
   },
   "outputs": [
    {
     "name": "stdout",
     "output_type": "stream",
     "text": [
      "<class 'float'>\n",
      "7\n",
      "<class 'int'>\n"
     ]
    }
   ],
   "source": [
    "a = 7.123456\n",
    "print(type(a))\n",
    "c = int(a)\n",
    "print(c)\n",
    "print(type(c))"
   ]
  },
  {
   "cell_type": "code",
   "execution_count": 7,
   "id": "e6c18ae3-510f-49bf-93e9-8b50b07d1d6a",
   "metadata": {},
   "outputs": [
    {
     "name": "stdout",
     "output_type": "stream",
     "text": [
      "<class 'str'>\n",
      "<class 'int'>\n"
     ]
    }
   ],
   "source": [
    "a1 = \"25\"\n",
    "print(type(a1))\n",
    "b1 = int(a1)\n",
    "print(type(b1))"
   ]
  },
  {
   "cell_type": "markdown",
   "id": "2a8694b0-d073-407b-95cb-dc09fdddea20",
   "metadata": {},
   "source": [
    "# str function"
   ]
  },
  {
   "cell_type": "code",
   "execution_count": 9,
   "id": "5fdb106c-208d-46a0-8470-91a91d3ec134",
   "metadata": {},
   "outputs": [
    {
     "name": "stdout",
     "output_type": "stream",
     "text": [
      "<class 'int'>\n",
      "76\n",
      "<class 'str'>\n",
      "762\n",
      "78\n"
     ]
    }
   ],
   "source": [
    "a = 76\n",
    "print(type(a))\n",
    "b = str(a)\n",
    "print(b)\n",
    "print(type(b))\n",
    "c = \"2\"\n",
    "print(b+c)\n",
    "print(a+2)"
   ]
  },
  {
   "cell_type": "code",
   "execution_count": 11,
   "id": "6d5690c4-2f99-4903-b606-ac81a26a399e",
   "metadata": {},
   "outputs": [
    {
     "name": "stdout",
     "output_type": "stream",
     "text": [
      "<class 'float'>\n",
      "7.123456543\n",
      "<class 'str'>\n"
     ]
    }
   ],
   "source": [
    "x = 7.123456543\n",
    "print(type(x))\n",
    "y = str(x)\n",
    "print(y)\n",
    "print(type(y))"
   ]
  },
  {
   "cell_type": "markdown",
   "id": "b675b2e5-56b8-4466-9ecd-b1e6a1fa9ba5",
   "metadata": {},
   "source": [
    "# complex function"
   ]
  },
  {
   "cell_type": "code",
   "execution_count": 13,
   "id": "0b7b9d14-ba1b-44f9-900b-38189ff92d4f",
   "metadata": {},
   "outputs": [
    {
     "name": "stdout",
     "output_type": "stream",
     "text": [
      "(5+7j)\n"
     ]
    }
   ],
   "source": [
    "comp = complex(5, 7)\n",
    "print(comp)"
   ]
  },
  {
   "cell_type": "code",
   "execution_count": 16,
   "id": "9d016e8f-c88f-4df6-8f34-51950b9aff48",
   "metadata": {},
   "outputs": [
    {
     "name": "stdout",
     "output_type": "stream",
     "text": [
      "(7+85j)\n"
     ]
    }
   ],
   "source": [
    "y = complex(7,85)\n",
    "print(y)"
   ]
  },
  {
   "cell_type": "markdown",
   "id": "14e92072-de41-4adc-b4ef-9c85305c4fa4",
   "metadata": {},
   "source": [
    "# abs function"
   ]
  },
  {
   "cell_type": "code",
   "execution_count": 17,
   "id": "f893520b-85be-4f5a-993c-698567d2964e",
   "metadata": {},
   "outputs": [
    {
     "name": "stdout",
     "output_type": "stream",
     "text": [
      "25\n"
     ]
    }
   ],
   "source": [
    "x = -25\n",
    "print(abs(x))"
   ]
  },
  {
   "cell_type": "code",
   "execution_count": 18,
   "id": "e5af0ff4-6098-463f-87bd-6ebad4d95ea5",
   "metadata": {},
   "outputs": [
    {
     "name": "stdout",
     "output_type": "stream",
     "text": [
      "6.54321\n"
     ]
    }
   ],
   "source": [
    "y = -6.54321\n",
    "print(abs(y))"
   ]
  },
  {
   "cell_type": "code",
   "execution_count": 19,
   "id": "f4df02c3-be7c-4d33-aaab-657d9ffb53df",
   "metadata": {},
   "outputs": [
    {
     "name": "stdout",
     "output_type": "stream",
     "text": [
      "5.0\n"
     ]
    }
   ],
   "source": [
    "z = -4+3j\n",
    "print(abs(z))"
   ]
  },
  {
   "cell_type": "markdown",
   "id": "dfd0c5d4-a77e-4578-9fad-be8eaaa4385f",
   "metadata": {},
   "source": [
    "# len function"
   ]
  },
  {
   "cell_type": "code",
   "execution_count": 21,
   "id": "25453658-c930-4be9-8132-1ea3295a104d",
   "metadata": {},
   "outputs": [
    {
     "name": "stdout",
     "output_type": "stream",
     "text": [
      "38\n"
     ]
    }
   ],
   "source": [
    "a = \"hello i am your educator Shubham Kumar\"\n",
    "print(len(a))"
   ]
  },
  {
   "cell_type": "code",
   "execution_count": 23,
   "id": "27f1dce3-2930-4e6b-9391-0ee5ea3e3887",
   "metadata": {},
   "outputs": [
    {
     "name": "stdout",
     "output_type": "stream",
     "text": [
      "11\n"
     ]
    }
   ],
   "source": [
    "b = \"water floow\"\n",
    "print(len(b))"
   ]
  },
  {
   "cell_type": "code",
   "execution_count": 24,
   "id": "3641481c-b2a4-4440-b7c3-589af5a398c2",
   "metadata": {},
   "outputs": [
    {
     "name": "stdout",
     "output_type": "stream",
     "text": [
      "7\n"
     ]
    }
   ],
   "source": [
    "c = [ 13,15,23, 45, 84, 5, 7]\n",
    "print(len(c))"
   ]
  },
  {
   "cell_type": "markdown",
   "id": "2830b83f-db98-4970-9e6e-a1689a4fb1eb",
   "metadata": {},
   "source": [
    "# Lecture 5"
   ]
  },
  {
   "cell_type": "markdown",
   "id": "961169b7-dc91-4509-8d28-0b1bd65ba519",
   "metadata": {},
   "source": [
    "# built in functions part 2"
   ]
  },
  {
   "cell_type": "markdown",
   "id": "beb35baf-dd1f-402c-a6f7-11290405c0c0",
   "metadata": {},
   "source": [
    "# Bin function"
   ]
  },
  {
   "cell_type": "markdown",
   "id": "1414aee5-f2b0-4347-9699-f2f5cfbe0cac",
   "metadata": {},
   "source": [
    "the bin() function in Python is used to\n",
    "convert an integer number to its\n",
    "binary representation as a string prefixed with '0b'\n",
    "It takes an integer as an argument\n",
    "and returns its binary representation"
   ]
  },
  {
   "cell_type": "code",
   "execution_count": 25,
   "id": "f5b00507-9b4a-4fe8-8546-e352159f96d0",
   "metadata": {},
   "outputs": [
    {
     "name": "stdout",
     "output_type": "stream",
     "text": [
      "0b1010\n"
     ]
    }
   ],
   "source": [
    "binary_rep = bin(10)\n",
    "print(binary_rep)"
   ]
  },
  {
   "cell_type": "code",
   "execution_count": 26,
   "id": "e7b3823e-f5aa-448f-8f7c-57fb4d8881b7",
   "metadata": {},
   "outputs": [
    {
     "name": "stdout",
     "output_type": "stream",
     "text": [
      "0b100101100\n"
     ]
    }
   ],
   "source": [
    "z = bin(300)\n",
    "print(z)"
   ]
  },
  {
   "cell_type": "code",
   "execution_count": 27,
   "id": "d0c2d9d6-62fe-4aa3-9894-ec3087d2c5f1",
   "metadata": {},
   "outputs": [
    {
     "name": "stdout",
     "output_type": "stream",
     "text": [
      "0b111010110111100110100010110001\n"
     ]
    }
   ],
   "source": [
    "x = bin(987654321)\n",
    "print(x)"
   ]
  },
  {
   "cell_type": "markdown",
   "id": "908d4e71-1c62-439b-8e91-ea9e2a652891",
   "metadata": {},
   "source": [
    "# sum function"
   ]
  },
  {
   "cell_type": "markdown",
   "id": "ffd905cc-3561-4ad1-8174-e5dabf798583",
   "metadata": {},
   "source": [
    "The sum() function in Python is used to calculate the sum\n",
    "of elements in an iterable, such as lists, tuples, and other iterable objects."
   ]
  },
  {
   "cell_type": "code",
   "execution_count": 29,
   "id": "7d65722a-1532-4ea1-8260-a640ddbed16b",
   "metadata": {},
   "outputs": [
    {
     "name": "stdout",
     "output_type": "stream",
     "text": [
      "876\n"
     ]
    }
   ],
   "source": [
    "my_list = [5,4,8,23,53,94,75,34,58,5,6,7,432,65,7,]\n",
    "a = sum(my_list)\n",
    "print(a)"
   ]
  },
  {
   "cell_type": "markdown",
   "id": "1dd1676e-a30c-4c31-9a77-d81321829380",
   "metadata": {},
   "source": [
    "str = [\"shubham', nitesh\"]\n",
    "print(sum(str))"
   ]
  },
  {
   "cell_type": "markdown",
   "id": "0e52e012-316d-4067-8ca0-00780c1edf43",
   "metadata": {},
   "source": [
    "a = \"shubham\"\n",
    "b = \"kumar\"\n",
    "print(a+b)"
   ]
  },
  {
   "cell_type": "code",
   "execution_count": 34,
   "id": "559efaa2-07ed-4283-b38f-8c7776c61823",
   "metadata": {},
   "outputs": [
    {
     "name": "stdout",
     "output_type": "stream",
     "text": [
      "25\n"
     ]
    }
   ],
   "source": [
    "a = [1,2,3,4,5]\n",
    "starting_value = 10\n",
    "total = sum(a, starting_value)\n",
    "print(total)"
   ]
  },
  {
   "cell_type": "markdown",
   "id": "b564f556-9561-4241-8c1f-c0c1ed5eabd4",
   "metadata": {},
   "source": [
    "# Eval function"
   ]
  },
  {
   "cell_type": "markdown",
   "id": "1a7f6390-9ed4-4d6a-bac0-f151c7e12f6c",
   "metadata": {},
   "source": [
    "eval(): Evaluates a Python expression stored in a string"
   ]
  },
  {
   "cell_type": "code",
   "execution_count": 35,
   "id": "73f3d710-faac-48e5-9c4f-b8a39f8ae43f",
   "metadata": {},
   "outputs": [
    {
     "name": "stdout",
     "output_type": "stream",
     "text": [
      "20\n"
     ]
    }
   ],
   "source": [
    "x = 10\n",
    "y = 5\n",
    "expression = \"x+y*2\"\n",
    "print(eval(expression))"
   ]
  },
  {
   "cell_type": "code",
   "execution_count": 36,
   "id": "79775c08-bd40-426d-96b4-04e039eff49a",
   "metadata": {},
   "outputs": [
    {
     "name": "stdout",
     "output_type": "stream",
     "text": [
      "6.0\n",
      "<class 'str'>\n"
     ]
    }
   ],
   "source": [
    "exp = \" 5/2+3.5 \"\n",
    "print(eval(exp))\n",
    "print(type(exp))"
   ]
  },
  {
   "cell_type": "code",
   "execution_count": 37,
   "id": "46e0d536-bb28-46cd-8465-5e4ff52446f4",
   "metadata": {},
   "outputs": [
    {
     "name": "stdout",
     "output_type": "stream",
     "text": [
      "5864.0\n"
     ]
    }
   ],
   "source": [
    "exp1 = \" 234*25+63-98/2 \"\n",
    "print(eval(exp1))"
   ]
  },
  {
   "cell_type": "code",
   "execution_count": 38,
   "id": "cedad6c3-4879-4a50-9cbb-7da9d966f36e",
   "metadata": {},
   "outputs": [
    {
     "name": "stdout",
     "output_type": "stream",
     "text": [
      "-166.7\n"
     ]
    }
   ],
   "source": [
    "x = 5\n",
    "y = 2.5\n",
    "z = 32\n",
    "exp =\"x+y-z*23/5-9*3\"\n",
    "print(eval(exp))"
   ]
  },
  {
   "cell_type": "markdown",
   "id": "e6238b0f-ae31-49db-913d-909afe0eed48",
   "metadata": {},
   "source": [
    "# Help function"
   ]
  },
  {
   "cell_type": "code",
   "execution_count": null,
   "id": "d2f9f13b-b53c-4ebc-b8d9-ca04696c7457",
   "metadata": {},
   "outputs": [],
   "source": [
    "The Python help function is used to display the\n",
    "documentation of modules, functoins, classes, keywords, etc"
   ]
  },
  {
   "cell_type": "code",
   "execution_count": 40,
   "id": "a9905046-e46a-442b-bd1b-a4dc6f87b038",
   "metadata": {},
   "outputs": [
    {
     "name": "stdout",
     "output_type": "stream",
     "text": [
      "Help on built-in function print in module builtins:\n",
      "\n",
      "print(*args, sep=' ', end='\\n', file=None, flush=False)\n",
      "    Prints the values to a stream, or to sys.stdout by default.\n",
      "\n",
      "    sep\n",
      "      string inserted between values, default a space.\n",
      "    end\n",
      "      string appended after the last value, default a newline.\n",
      "    file\n",
      "      a file-like object (stream); defaults to the current sys.stdout.\n",
      "    flush\n",
      "      whether to forcibly flush the stream.\n",
      "\n"
     ]
    }
   ],
   "source": [
    "help(print)"
   ]
  },
  {
   "cell_type": "code",
   "execution_count": 41,
   "id": "28914d28-0cc0-4ffc-83a6-c9e97f6b67b9",
   "metadata": {},
   "outputs": [
    {
     "name": "stdout",
     "output_type": "stream",
     "text": [
      "Help on class int in module builtins:\n",
      "\n",
      "class int(object)\n",
      " |  int([x]) -> integer\n",
      " |  int(x, base=10) -> integer\n",
      " |\n",
      " |  Convert a number or string to an integer, or return 0 if no arguments\n",
      " |  are given.  If x is a number, return x.__int__().  For floating-point\n",
      " |  numbers, this truncates towards zero.\n",
      " |\n",
      " |  If x is not a number or if base is given, then x must be a string,\n",
      " |  bytes, or bytearray instance representing an integer literal in the\n",
      " |  given base.  The literal can be preceded by '+' or '-' and be surrounded\n",
      " |  by whitespace.  The base defaults to 10.  Valid bases are 0 and 2-36.\n",
      " |  Base 0 means to interpret the base from the string as an integer literal.\n",
      " |  >>> int('0b100', base=0)\n",
      " |  4\n",
      " |\n",
      " |  Built-in subclasses:\n",
      " |      bool\n",
      " |\n",
      " |  Methods defined here:\n",
      " |\n",
      " |  __abs__(self, /)\n",
      " |      abs(self)\n",
      " |\n",
      " |  __add__(self, value, /)\n",
      " |      Return self+value.\n",
      " |\n",
      " |  __and__(self, value, /)\n",
      " |      Return self&value.\n",
      " |\n",
      " |  __bool__(self, /)\n",
      " |      True if self else False\n",
      " |\n",
      " |  __ceil__(...)\n",
      " |      Ceiling of an Integral returns itself.\n",
      " |\n",
      " |  __divmod__(self, value, /)\n",
      " |      Return divmod(self, value).\n",
      " |\n",
      " |  __eq__(self, value, /)\n",
      " |      Return self==value.\n",
      " |\n",
      " |  __float__(self, /)\n",
      " |      float(self)\n",
      " |\n",
      " |  __floor__(...)\n",
      " |      Flooring an Integral returns itself.\n",
      " |\n",
      " |  __floordiv__(self, value, /)\n",
      " |      Return self//value.\n",
      " |\n",
      " |  __format__(self, format_spec, /)\n",
      " |      Convert to a string according to format_spec.\n",
      " |\n",
      " |  __ge__(self, value, /)\n",
      " |      Return self>=value.\n",
      " |\n",
      " |  __getattribute__(self, name, /)\n",
      " |      Return getattr(self, name).\n",
      " |\n",
      " |  __getnewargs__(self, /)\n",
      " |\n",
      " |  __gt__(self, value, /)\n",
      " |      Return self>value.\n",
      " |\n",
      " |  __hash__(self, /)\n",
      " |      Return hash(self).\n",
      " |\n",
      " |  __index__(self, /)\n",
      " |      Return self converted to an integer, if self is suitable for use as an index into a list.\n",
      " |\n",
      " |  __int__(self, /)\n",
      " |      int(self)\n",
      " |\n",
      " |  __invert__(self, /)\n",
      " |      ~self\n",
      " |\n",
      " |  __le__(self, value, /)\n",
      " |      Return self<=value.\n",
      " |\n",
      " |  __lshift__(self, value, /)\n",
      " |      Return self<<value.\n",
      " |\n",
      " |  __lt__(self, value, /)\n",
      " |      Return self<value.\n",
      " |\n",
      " |  __mod__(self, value, /)\n",
      " |      Return self%value.\n",
      " |\n",
      " |  __mul__(self, value, /)\n",
      " |      Return self*value.\n",
      " |\n",
      " |  __ne__(self, value, /)\n",
      " |      Return self!=value.\n",
      " |\n",
      " |  __neg__(self, /)\n",
      " |      -self\n",
      " |\n",
      " |  __or__(self, value, /)\n",
      " |      Return self|value.\n",
      " |\n",
      " |  __pos__(self, /)\n",
      " |      +self\n",
      " |\n",
      " |  __pow__(self, value, mod=None, /)\n",
      " |      Return pow(self, value, mod).\n",
      " |\n",
      " |  __radd__(self, value, /)\n",
      " |      Return value+self.\n",
      " |\n",
      " |  __rand__(self, value, /)\n",
      " |      Return value&self.\n",
      " |\n",
      " |  __rdivmod__(self, value, /)\n",
      " |      Return divmod(value, self).\n",
      " |\n",
      " |  __repr__(self, /)\n",
      " |      Return repr(self).\n",
      " |\n",
      " |  __rfloordiv__(self, value, /)\n",
      " |      Return value//self.\n",
      " |\n",
      " |  __rlshift__(self, value, /)\n",
      " |      Return value<<self.\n",
      " |\n",
      " |  __rmod__(self, value, /)\n",
      " |      Return value%self.\n",
      " |\n",
      " |  __rmul__(self, value, /)\n",
      " |      Return value*self.\n",
      " |\n",
      " |  __ror__(self, value, /)\n",
      " |      Return value|self.\n",
      " |\n",
      " |  __round__(...)\n",
      " |      Rounding an Integral returns itself.\n",
      " |\n",
      " |      Rounding with an ndigits argument also returns an integer.\n",
      " |\n",
      " |  __rpow__(self, value, mod=None, /)\n",
      " |      Return pow(value, self, mod).\n",
      " |\n",
      " |  __rrshift__(self, value, /)\n",
      " |      Return value>>self.\n",
      " |\n",
      " |  __rshift__(self, value, /)\n",
      " |      Return self>>value.\n",
      " |\n",
      " |  __rsub__(self, value, /)\n",
      " |      Return value-self.\n",
      " |\n",
      " |  __rtruediv__(self, value, /)\n",
      " |      Return value/self.\n",
      " |\n",
      " |  __rxor__(self, value, /)\n",
      " |      Return value^self.\n",
      " |\n",
      " |  __sizeof__(self, /)\n",
      " |      Returns size in memory, in bytes.\n",
      " |\n",
      " |  __sub__(self, value, /)\n",
      " |      Return self-value.\n",
      " |\n",
      " |  __truediv__(self, value, /)\n",
      " |      Return self/value.\n",
      " |\n",
      " |  __trunc__(...)\n",
      " |      Truncating an Integral returns itself.\n",
      " |\n",
      " |  __xor__(self, value, /)\n",
      " |      Return self^value.\n",
      " |\n",
      " |  as_integer_ratio(self, /)\n",
      " |      Return a pair of integers, whose ratio is equal to the original int.\n",
      " |\n",
      " |      The ratio is in lowest terms and has a positive denominator.\n",
      " |\n",
      " |      >>> (10).as_integer_ratio()\n",
      " |      (10, 1)\n",
      " |      >>> (-10).as_integer_ratio()\n",
      " |      (-10, 1)\n",
      " |      >>> (0).as_integer_ratio()\n",
      " |      (0, 1)\n",
      " |\n",
      " |  bit_count(self, /)\n",
      " |      Number of ones in the binary representation of the absolute value of self.\n",
      " |\n",
      " |      Also known as the population count.\n",
      " |\n",
      " |      >>> bin(13)\n",
      " |      '0b1101'\n",
      " |      >>> (13).bit_count()\n",
      " |      3\n",
      " |\n",
      " |  bit_length(self, /)\n",
      " |      Number of bits necessary to represent self in binary.\n",
      " |\n",
      " |      >>> bin(37)\n",
      " |      '0b100101'\n",
      " |      >>> (37).bit_length()\n",
      " |      6\n",
      " |\n",
      " |  conjugate(...)\n",
      " |      Returns self, the complex conjugate of any int.\n",
      " |\n",
      " |  is_integer(self, /)\n",
      " |      Returns True. Exists for duck type compatibility with float.is_integer.\n",
      " |\n",
      " |  to_bytes(self, /, length=1, byteorder='big', *, signed=False)\n",
      " |      Return an array of bytes representing an integer.\n",
      " |\n",
      " |      length\n",
      " |        Length of bytes object to use.  An OverflowError is raised if the\n",
      " |        integer is not representable with the given number of bytes.  Default\n",
      " |        is length 1.\n",
      " |      byteorder\n",
      " |        The byte order used to represent the integer.  If byteorder is 'big',\n",
      " |        the most significant byte is at the beginning of the byte array.  If\n",
      " |        byteorder is 'little', the most significant byte is at the end of the\n",
      " |        byte array.  To request the native byte order of the host system, use\n",
      " |        `sys.byteorder' as the byte order value.  Default is to use 'big'.\n",
      " |      signed\n",
      " |        Determines whether two's complement is used to represent the integer.\n",
      " |        If signed is False and a negative integer is given, an OverflowError\n",
      " |        is raised.\n",
      " |\n",
      " |  ----------------------------------------------------------------------\n",
      " |  Class methods defined here:\n",
      " |\n",
      " |  from_bytes(bytes, byteorder='big', *, signed=False)\n",
      " |      Return the integer represented by the given array of bytes.\n",
      " |\n",
      " |      bytes\n",
      " |        Holds the array of bytes to convert.  The argument must either\n",
      " |        support the buffer protocol or be an iterable object producing bytes.\n",
      " |        Bytes and bytearray are examples of built-in objects that support the\n",
      " |        buffer protocol.\n",
      " |      byteorder\n",
      " |        The byte order used to represent the integer.  If byteorder is 'big',\n",
      " |        the most significant byte is at the beginning of the byte array.  If\n",
      " |        byteorder is 'little', the most significant byte is at the end of the\n",
      " |        byte array.  To request the native byte order of the host system, use\n",
      " |        `sys.byteorder' as the byte order value.  Default is to use 'big'.\n",
      " |      signed\n",
      " |        Indicates whether two's complement is used to represent the integer.\n",
      " |\n",
      " |  ----------------------------------------------------------------------\n",
      " |  Static methods defined here:\n",
      " |\n",
      " |  __new__(*args, **kwargs)\n",
      " |      Create and return a new object.  See help(type) for accurate signature.\n",
      " |\n",
      " |  ----------------------------------------------------------------------\n",
      " |  Data descriptors defined here:\n",
      " |\n",
      " |  denominator\n",
      " |      the denominator of a rational number in lowest terms\n",
      " |\n",
      " |  imag\n",
      " |      the imaginary part of a complex number\n",
      " |\n",
      " |  numerator\n",
      " |      the numerator of a rational number in lowest terms\n",
      " |\n",
      " |  real\n",
      " |      the real part of a complex number\n",
      "\n"
     ]
    }
   ],
   "source": [
    "help(int)"
   ]
  },
  {
   "cell_type": "code",
   "execution_count": 43,
   "id": "e01ab179-5a69-47fe-883b-da10ef7a8196",
   "metadata": {},
   "outputs": [
    {
     "name": "stdout",
     "output_type": "stream",
     "text": [
      "Help on built-in function sum in module builtins:\n",
      "\n",
      "sum(iterable, /, start=0)\n",
      "    Return the sum of a 'start' value (default: 0) plus an iterable of numbers\n",
      "\n",
      "    When the iterable is empty, return the start value.\n",
      "    This function is intended specifically for use with numeric values and may\n",
      "    reject non-numeric types.\n",
      "\n"
     ]
    }
   ],
   "source": [
    "help(sum)"
   ]
  },
  {
   "cell_type": "code",
   "execution_count": 48,
   "id": "1d761173-b542-499f-81df-6e25db22816d",
   "metadata": {},
   "outputs": [
    {
     "data": {
      "text/plain": [
       "\u001b[1;31mSignature:\u001b[0m \u001b[0msum\u001b[0m\u001b[1;33m(\u001b[0m\u001b[0miterable\u001b[0m\u001b[1;33m,\u001b[0m \u001b[1;33m/\u001b[0m\u001b[1;33m,\u001b[0m \u001b[0mstart\u001b[0m\u001b[1;33m=\u001b[0m\u001b[1;36m0\u001b[0m\u001b[1;33m)\u001b[0m\u001b[1;33m\u001b[0m\u001b[1;33m\u001b[0m\u001b[0m\n",
       "\u001b[1;31mDocstring:\u001b[0m\n",
       "Return the sum of a 'start' value (default: 0) plus an iterable of numbers\n",
       "\n",
       "When the iterable is empty, return the start value.\n",
       "This function is intended specifically for use with numeric values and may\n",
       "reject non-numeric types.\n",
       "\u001b[1;31mType:\u001b[0m      builtin_function_or_method"
      ]
     },
     "metadata": {},
     "output_type": "display_data"
    }
   ],
   "source": [
    "sum??"
   ]
  },
  {
   "cell_type": "markdown",
   "id": "ed44de66-820e-4851-84fa-b7c1b4845136",
   "metadata": {},
   "source": [
    "# input function"
   ]
  },
  {
   "cell_type": "code",
   "execution_count": 50,
   "id": "9d913d19-b33c-4af6-9d07-59d7aed6bd36",
   "metadata": {},
   "outputs": [
    {
     "name": "stdout",
     "output_type": "stream",
     "text": [
      "enter your name Shubham Kumar\n"
     ]
    },
    {
     "name": "stdout",
     "output_type": "stream",
     "text": [
      "name entered by user is Shubham Kumar\n",
      "<class 'str'>\n"
     ]
    }
   ],
   "source": [
    "name = input(\"enter your name\")\n",
    "print(\"name entered by user is\", name)\n",
    "print(type(name))"
   ]
  },
  {
   "cell_type": "code",
   "execution_count": 51,
   "id": "04569ba6-af2f-4701-bae7-a68287cfdf16",
   "metadata": {},
   "outputs": [
    {
     "name": "stdout",
     "output_type": "stream",
     "text": [
      "enter your age pls 20\n"
     ]
    },
    {
     "name": "stdout",
     "output_type": "stream",
     "text": [
      "age of user is 20\n",
      "<class 'str'>\n"
     ]
    }
   ],
   "source": [
    "age = input(\"enter your age pls\")\n",
    "print(\"age of user is\",age)\n",
    "print(type(age))"
   ]
  },
  {
   "cell_type": "markdown",
   "id": "2fbb4090-1ac1-436f-9f76-0d308a4602b6",
   "metadata": {},
   "source": [
    "# Question 1"
   ]
  },
  {
   "cell_type": "code",
   "execution_count": null,
   "id": "1bf18355-34dc-4674-8b86-78b076ebd4f5",
   "metadata": {},
   "outputs": [],
   "source": [
    "Get two numbers from the user and calculate their sum"
   ]
  },
  {
   "cell_type": "code",
   "execution_count": 53,
   "id": "5f4ac537-f8b5-41e1-85a3-c0d2ab411318",
   "metadata": {},
   "outputs": [
    {
     "name": "stdout",
     "output_type": "stream",
     "text": [
      "enter first number 5\n",
      "enter second number 20\n"
     ]
    },
    {
     "name": "stdout",
     "output_type": "stream",
     "text": [
      "25\n"
     ]
    }
   ],
   "source": [
    "num1 = int(input(\"enter first number\"))\n",
    "num2 = int(input(\"enter second number\"))\n",
    "sum = num1 + num2\n",
    "print(sum)"
   ]
  },
  {
   "cell_type": "markdown",
   "id": "4ec1f480-6f1f-4a43-b839-69aecefd5d5e",
   "metadata": {},
   "source": [
    "# Lecture 5"
   ]
  },
  {
   "cell_type": "markdown",
   "id": "ab0d7a5c-f85a-49cf-910a-5c0464c7fc76",
   "metadata": {},
   "source": [
    "# Control Flow Statements\n",
    "# if statement"
   ]
  },
  {
   "cell_type": "code",
   "execution_count": 3,
   "id": "8632d356-bec4-4367-9fc3-d60bcc53d6ce",
   "metadata": {},
   "outputs": [
    {
     "name": "stdout",
     "output_type": "stream",
     "text": [
      "condition is false\n"
     ]
    }
   ],
   "source": [
    "i = 20\n",
    "\n",
    "if i<10:\n",
    "    print(\"20 is greater than 10\")\n",
    "print(\"condition is false\")    "
   ]
  },
  {
   "cell_type": "code",
   "execution_count": null,
   "id": "10295364-fbb2-4cb8-94f6-f5813e9f6302",
   "metadata": {},
   "outputs": [],
   "source": [
    "Develop a temperature converter in Python for a cold storage\n",
    "that converts temperatures between Celsius and Fahrenheit scales\n",
    "THe program should take a temperature value and a unit (C or F) as input.\n",
    "If the temperature is less than 15 degrees Celsius, inform the user that\n",
    "the temperature is not convenient. If the temperature is between 24 to 28 degrees\n",
    "Celsius, inform the user that the temperature is convenient."
   ]
  },
  {
   "cell_type": "code",
   "execution_count": 8,
   "id": "746d938c-079e-429d-934b-70a2b8ca10bc",
   "metadata": {},
   "outputs": [
    {
     "name": "stdout",
     "output_type": "stream",
     "text": [
      "enter the temperature 27\n"
     ]
    },
    {
     "name": "stdout",
     "output_type": "stream",
     "text": [
      "temperature is convinient\n"
     ]
    }
   ],
   "source": [
    "temp = float(input(\"enter the temperature\"))\n",
    "\n",
    "if temp<15:\n",
    "    print(\"temperature is not convinient\")\n",
    "\n",
    "if 24<temp<28:\n",
    "    print(\"temperature is convinient\")         "
   ]
  },
  {
   "cell_type": "markdown",
   "id": "a8023885-6339-4704-bbec-3cd4bb35230e",
   "metadata": {},
   "source": [
    "# if else staement "
   ]
  },
  {
   "cell_type": "code",
   "execution_count": null,
   "id": "6842d0d3-aa51-4e1f-8e9b-0921d5546604",
   "metadata": {},
   "outputs": [],
   "source": [
    "write a program to check whether a person is eligible for voting or not"
   ]
  },
  {
   "cell_type": "code",
   "execution_count": 10,
   "id": "3136e6d9-e84f-4838-b527-552a97b7b2bf",
   "metadata": {},
   "outputs": [
    {
     "name": "stdout",
     "output_type": "stream",
     "text": [
      "enter your age 35\n"
     ]
    },
    {
     "name": "stdout",
     "output_type": "stream",
     "text": [
      "you are eligible to vote\n"
     ]
    }
   ],
   "source": [
    "age = int(input(\"enter your age\"))\n",
    "\n",
    "if age>18:\n",
    "    print(\"you are eligible to vote\")\n",
    "else:\n",
    "    print(\"you are not eligible to vote\")"
   ]
  },
  {
   "cell_type": "markdown",
   "id": "4a7b1e87-7386-46aa-b423-8275eda93b08",
   "metadata": {},
   "source": [
    "# if elif else"
   ]
  },
  {
   "cell_type": "code",
   "execution_count": null,
   "id": "70f932ca-baee-4c06-826f-c884ff7d248b",
   "metadata": {},
   "outputs": [],
   "source": [
    "Write a Python program that prompts the user to input a city\n",
    "and displays the famous monument of that city\n",
    "\n",
    "Mumbai: Gateway of India\n",
    "Kolkata: Victoria Memorial\n",
    "Chennai: Marina Beach\n",
    "Bangalore: Botanical Garden\n",
    "Pune: Shaniwar Wada\n",
    "\n",
    "Write a Python script to implement this functionality"
   ]
  },
  {
   "cell_type": "code",
   "execution_count": 20,
   "id": "83aa1505-98c5-4428-834a-d66ac46b98c8",
   "metadata": {},
   "outputs": [
    {
     "name": "stdout",
     "output_type": "stream",
     "text": [
      "enter the city Delhi\n"
     ]
    },
    {
     "name": "stdout",
     "output_type": "stream",
     "text": [
      "no record found\n"
     ]
    }
   ],
   "source": [
    "a = input(\"enter the city\")\n",
    "\n",
    "if a == \"Mumbai\":\n",
    "    print(\"the famous monument is aget way of India\")\n",
    "elif a == \"Kolkata\":\n",
    "    print(\"the famous monument is victoria memorial\")\n",
    "elif a == \"Chennai\":\n",
    "    print(\"the famous monument is marina beach\")\n",
    "elif a == \"Bangalore\":\n",
    "    print(\"the famous monument is botanical garden\")\n",
    "elif a == \"Pune\":\n",
    "    print(\"the famous monument is shaniwar wada\")\n",
    "else:\n",
    "    print(\"no record found\")"
   ]
  },
  {
   "cell_type": "markdown",
   "id": "92157d92-f0d8-4a99-bc44-9d8ea987088d",
   "metadata": {},
   "source": [
    "# Lecture 6 Loops\n",
    "\n",
    "# While loop"
   ]
  },
  {
   "cell_type": "code",
   "execution_count": 21,
   "id": "b6a3568b-df89-4dfc-bfd8-e4309b1b7451",
   "metadata": {},
   "outputs": [
    {
     "name": "stdout",
     "output_type": "stream",
     "text": [
      "1\n",
      "2\n",
      "3\n",
      "4\n",
      "5\n",
      "6\n"
     ]
    }
   ],
   "source": [
    "count = 1\n",
    "while count<=6:\n",
    "    print(count)\n",
    "    count = count + 1"
   ]
  },
  {
   "cell_type": "markdown",
   "id": "12127195-378a-461d-8092-08de35d4d0c8",
   "metadata": {},
   "source": [
    "# Write a Python program to print all even numbers between 1 and 50 using\n",
    "# a while loop"
   ]
  },
  {
   "cell_type": "code",
   "execution_count": 22,
   "id": "83dc9a3c-e25d-455e-b348-5ea4c7f7312e",
   "metadata": {},
   "outputs": [
    {
     "name": "stdout",
     "output_type": "stream",
     "text": [
      "2\n",
      "4\n",
      "6\n",
      "8\n",
      "10\n",
      "12\n",
      "14\n",
      "16\n",
      "18\n",
      "20\n",
      "22\n",
      "24\n",
      "26\n",
      "28\n",
      "30\n",
      "32\n",
      "34\n",
      "36\n",
      "38\n",
      "40\n",
      "42\n",
      "44\n",
      "46\n",
      "48\n",
      "50\n"
     ]
    }
   ],
   "source": [
    "num = 1\n",
    "\n",
    "while num<=50:\n",
    "    if num%2 == 0:\n",
    "        print(num)\n",
    "    num = num+1    "
   ]
  },
  {
   "cell_type": "markdown",
   "id": "9da4ba45-d201-4e01-8d1f-c6f08b1c4729",
   "metadata": {},
   "source": [
    "# While loop, using if else"
   ]
  },
  {
   "cell_type": "markdown",
   "id": "9f7391ad-b861-4eaf-abc2-fd8f878cb7b8",
   "metadata": {},
   "source": [
    "You are tasked with validating user input for email addresses.\n",
    "Write a Python program that prompts the user to enter an emial address.\n",
    "Use a while loop to iterate through the input and check if the email address contains an \"@\" symbol\n",
    "and \".\" symbol. if the email address does not meet these criteria, print \"Invailed email address\n",
    "format. Please try again. \"Otherwise\",\n",
    "print \"Email address validation passed\""
   ]
  },
  {
   "cell_type": "code",
   "execution_count": 8,
   "id": "8602c915-ebd8-4198-843f-91bcd1ac32c0",
   "metadata": {},
   "outputs": [
    {
     "name": "stdout",
     "output_type": "stream",
     "text": [
      "enter your mail id rshubhamkumar004@gmail.com\n"
     ]
    },
    {
     "name": "stdout",
     "output_type": "stream",
     "text": [
      "your email id is valid\n"
     ]
    }
   ],
   "source": [
    "email = input(\"enter your mail id\")\n",
    "\n",
    "valid_email = False\n",
    "\n",
    "while not valid_email:\n",
    "    if \"@\" in email and \".\" in email:\n",
    "        print (\"your email id is valid\")\n",
    "        \n",
    "        valid_email = True\n",
    "    else:\n",
    "        print(\"your mail id is not vaild, try again\")\n",
    "        email = input(\"please enter your mail id\")"
   ]
  },
  {
   "cell_type": "code",
   "execution_count": 32,
   "id": "dc3b5fba-f18e-495e-a34a-84b0291adf3d",
   "metadata": {},
   "outputs": [
    {
     "name": "stdout",
     "output_type": "stream",
     "text": [
      "Please enter your mail id rsh004@gmail\n"
     ]
    },
    {
     "name": "stdout",
     "output_type": "stream",
     "text": [
      "Invalid email address format. Please try again.\n"
     ]
    },
    {
     "name": "stdout",
     "output_type": "stream",
     "text": [
      "please enter your mail address rshubhamkumar004@gamil.com\n"
     ]
    },
    {
     "name": "stdout",
     "output_type": "stream",
     "text": [
      "Email address validation passed\n"
     ]
    }
   ],
   "source": [
    "email = input(\"Please enter your mail id\")\n",
    "\n",
    "# Initialize a flog to track validation status\n",
    "valid_email = False\n",
    "\n",
    "# start the loop\n",
    "while not valid_email:\n",
    "    # check if email contains \"@\" and \".\"\n",
    "    if \"@\" in email and \".\" in email:\n",
    "        print (\"Email address validation passed\")\n",
    "        \n",
    "        valid_email = True\n",
    "    else:\n",
    "        print(\"Invalid email address format. Please try again.\")\n",
    "        email = input(\"please enter your mail address\")"
   ]
  },
  {
   "cell_type": "markdown",
   "id": "76d94b21-cb39-4e90-89b2-41ffc1971de5",
   "metadata": {},
   "source": [
    "# Lecture 7"
   ]
  },
  {
   "cell_type": "markdown",
   "id": "8dee149d-dd8c-47c3-8b02-981df7e1e7c5",
   "metadata": {},
   "source": [
    "# For loop in Python"
   ]
  },
  {
   "cell_type": "markdown",
   "id": "1bee0ca5-f022-406b-aac7-b4fd3e77a591",
   "metadata": {},
   "source": [
    "In Python, a for loop is used to iterate over a sequence (such as a list, tuple, string, dictionary, or range)\n",
    "and execute a block of code for each item in the sequence"
   ]
  },
  {
   "cell_type": "code",
   "execution_count": 35,
   "id": "26d44394-eb9b-4ae1-8fbc-2129cb4dee9f",
   "metadata": {},
   "outputs": [
    {
     "name": "stdout",
     "output_type": "stream",
     "text": [
      "1\n",
      "2\n",
      "3\n",
      "4\n",
      "5\n",
      "6\n"
     ]
    }
   ],
   "source": [
    "numbers = [1,2,3,4,5,6]\n",
    "for i in numbers:\n",
    "    print(i)"
   ]
  },
  {
   "cell_type": "code",
   "execution_count": 36,
   "id": "1006efd3-5fd1-43cc-b7b0-99c8b914c6a3",
   "metadata": {},
   "outputs": [
    {
     "name": "stdout",
     "output_type": "stream",
     "text": [
      "s\n",
      "t\n",
      "u\n",
      "d\n",
      "e\n",
      "n\n",
      "t\n",
      "s\n"
     ]
    }
   ],
   "source": [
    "n = \"students\"\n",
    "for i in n:\n",
    "    print(i)"
   ]
  },
  {
   "cell_type": "code",
   "execution_count": 38,
   "id": "8e5367b4-47a9-4abe-a580-9baa75267d06",
   "metadata": {},
   "outputs": [
    {
     "name": "stdout",
     "output_type": "stream",
     "text": [
      "0\n",
      "1\n",
      "2\n",
      "3\n",
      "4\n",
      "5\n",
      "6\n",
      "7\n",
      "8\n",
      "9\n",
      "10\n",
      "11\n",
      "12\n",
      "13\n",
      "14\n",
      "15\n",
      "16\n",
      "17\n",
      "18\n",
      "19\n",
      "20\n",
      "21\n",
      "22\n",
      "23\n",
      "24\n",
      "25\n"
     ]
    }
   ],
   "source": [
    "for i in range(26):\n",
    "    print(i)"
   ]
  },
  {
   "cell_type": "code",
   "execution_count": 39,
   "id": "9b78b046-cb91-4377-922c-2fe74fba46b8",
   "metadata": {},
   "outputs": [
    {
     "name": "stdout",
     "output_type": "stream",
     "text": [
      "5\n",
      "6\n",
      "7\n",
      "8\n",
      "9\n",
      "10\n",
      "11\n",
      "12\n",
      "13\n",
      "14\n",
      "15\n",
      "16\n",
      "17\n",
      "18\n",
      "19\n",
      "20\n",
      "21\n",
      "22\n",
      "23\n",
      "24\n",
      "25\n",
      "26\n"
     ]
    }
   ],
   "source": [
    "for x in range(5, 27):\n",
    "    print(x)"
   ]
  },
  {
   "cell_type": "code",
   "execution_count": 40,
   "id": "5d4b2c13-a9e2-48ea-80d8-faa0e5c4bc7c",
   "metadata": {},
   "outputs": [
    {
     "name": "stdout",
     "output_type": "stream",
     "text": [
      "16\n",
      "17\n",
      "18\n",
      "19\n",
      "20\n",
      "21\n",
      "22\n",
      "23\n",
      "24\n",
      "25\n",
      "26\n",
      "27\n",
      "28\n",
      "29\n",
      "30\n",
      "31\n",
      "32\n",
      "33\n",
      "34\n",
      "35\n"
     ]
    }
   ],
   "source": [
    "for x in range(16,36):\n",
    "    print(x)"
   ]
  },
  {
   "cell_type": "markdown",
   "id": "134166bf-1288-451a-a808-fb28ab44a14f",
   "metadata": {},
   "source": [
    "# for loop and if condition"
   ]
  },
  {
   "cell_type": "code",
   "execution_count": 48,
   "id": "884b5836-d43b-4dd2-8577-ce88065108b4",
   "metadata": {},
   "outputs": [
    {
     "name": "stdout",
     "output_type": "stream",
     "text": [
      "the number is even 0\n",
      "the number is even 2\n",
      "the number is even 4\n",
      "the number is even 6\n",
      "the number is even 8\n",
      "the number is even 10\n",
      "the number is even 12\n",
      "the number is even 14\n",
      "the number is even 16\n",
      "the number is even 18\n",
      "the number is even 20\n",
      "the number is even 22\n",
      "the number is even 24\n"
     ]
    }
   ],
   "source": [
    "for i in range(0,26):\n",
    "    if i%2==0:\n",
    "        print(\"the number is even\",i)"
   ]
  },
  {
   "cell_type": "code",
   "execution_count": 49,
   "id": "9e7bd7db-261a-4647-aa5b-77e66c2b42fd",
   "metadata": {},
   "outputs": [
    {
     "name": "stdout",
     "output_type": "stream",
     "text": [
      "the number is even 0\n",
      "the number is odd 1\n",
      "the number is even 2\n",
      "the number is odd 3\n",
      "the number is even 4\n",
      "the number is odd 5\n",
      "the number is even 6\n",
      "the number is odd 7\n",
      "the number is even 8\n",
      "the number is odd 9\n",
      "the number is even 10\n",
      "the number is odd 11\n",
      "the number is even 12\n",
      "the number is odd 13\n",
      "the number is even 14\n",
      "the number is odd 15\n",
      "the number is even 16\n",
      "the number is odd 17\n",
      "the number is even 18\n",
      "the number is odd 19\n",
      "the number is even 20\n",
      "the number is odd 21\n",
      "the number is even 22\n",
      "the number is odd 23\n",
      "the number is even 24\n",
      "the number is odd 25\n"
     ]
    }
   ],
   "source": [
    "for i in range(0,26):\n",
    "    if i%2==0:\n",
    "        print(\"the number is even\",i)\n",
    "    else:\n",
    "        print(\"the number is odd\",i)"
   ]
  },
  {
   "cell_type": "markdown",
   "id": "579edf6b-fe03-45df-a48d-cef8629af82f",
   "metadata": {},
   "source": [
    "# Implement a Python program to generate the multiplication\n",
    "# table of a given number using a for loop"
   ]
  },
  {
   "cell_type": "code",
   "execution_count": 52,
   "id": "36babad9-e10d-4ae5-adfe-980549ec33d8",
   "metadata": {},
   "outputs": [
    {
     "name": "stdout",
     "output_type": "stream",
     "text": [
      "enter a number to generate its multiplication table 16\n"
     ]
    },
    {
     "name": "stdout",
     "output_type": "stream",
     "text": [
      "The mulitplication table of 16\n",
      "16 x 1 = 16\n",
      "16 x 2 = 32\n",
      "16 x 3 = 48\n",
      "16 x 4 = 64\n",
      "16 x 5 = 80\n",
      "16 x 6 = 96\n",
      "16 x 7 = 112\n",
      "16 x 8 = 128\n",
      "16 x 9 = 144\n",
      "16 x 10 = 160\n"
     ]
    }
   ],
   "source": [
    "number = int(input(\"enter a number to generate its multiplication table\"))\n",
    "print(\"The mulitplication table of\",number)\n",
    "\n",
    "for i in range(1,11):\n",
    "    print(f\"{number} x {i} = {number*i}\")"
   ]
  },
  {
   "cell_type": "markdown",
   "id": "ace10011-a38f-4cc3-a1fc-ca685f41268a",
   "metadata": {},
   "source": [
    "# Practice Question"
   ]
  },
  {
   "cell_type": "code",
   "execution_count": null,
   "id": "d40a7dc7-6435-4ebd-9460-babbb036e89f",
   "metadata": {},
   "outputs": [],
   "source": [
    "You are tasked with creating a program to assist"
   ]
  },
  {
   "cell_type": "code",
   "execution_count": null,
   "id": "38599de5-6cd4-41a8-aaa5-644decf45717",
   "metadata": {},
   "outputs": [],
   "source": []
  },
  {
   "cell_type": "markdown",
   "id": "a7febb41-1316-4e62-a701-06eb639c56d1",
   "metadata": {},
   "source": [
    "# break statment"
   ]
  },
  {
   "cell_type": "code",
   "execution_count": null,
   "id": "3925360d-bb21-4d5f-a421-af3eb888c39b",
   "metadata": {},
   "outputs": [],
   "source": [
    "We can use the break statement with the for loop to terminate the loop when a certain condition is met "
   ]
  },
  {
   "cell_type": "code",
   "execution_count": 55,
   "id": "e4b9793e-73b3-43c3-9416-033c2be78bba",
   "metadata": {},
   "outputs": [
    {
     "name": "stdout",
     "output_type": "stream",
     "text": [
      "0\n",
      "1\n",
      "2\n",
      "3\n",
      "4\n",
      "5\n"
     ]
    }
   ],
   "source": [
    "for i in range(7):\n",
    "    if i == 6:\n",
    "        break\n",
    "    print(i)    "
   ]
  },
  {
   "cell_type": "markdown",
   "id": "6e651f2a-95a6-4d4b-95e1-4a2904a7fe86",
   "metadata": {},
   "source": [
    "# Continue statement"
   ]
  },
  {
   "cell_type": "markdown",
   "id": "bb81fd3c-5954-4e62-b188-bae50336daea",
   "metadata": {},
   "source": [
    "The continue statement is uesd to skip the current iteration of the loop and the control flow of the program goes to the next\n",
    "iteration"
   ]
  },
  {
   "cell_type": "code",
   "execution_count": 56,
   "id": "273b3738-929b-4d44-a8d5-f27cabe5fa62",
   "metadata": {},
   "outputs": [
    {
     "name": "stdout",
     "output_type": "stream",
     "text": [
      "0\n",
      "1\n",
      "2\n",
      "4\n",
      "i am learning python\n"
     ]
    }
   ],
   "source": [
    "for i in range(5):\n",
    "    if i == 3:\n",
    "        continue\n",
    "    print(i)\n",
    "print(\"i am learning python\")"
   ]
  },
  {
   "cell_type": "markdown",
   "id": "c67929bd-29e6-44d8-ae44-17fd75d0be80",
   "metadata": {},
   "source": [
    "# Lecture 8"
   ]
  },
  {
   "cell_type": "markdown",
   "id": "a804e8a7-b671-4374-99e6-3e291d403ffe",
   "metadata": {},
   "source": [
    "User defined functions"
   ]
  },
  {
   "cell_type": "markdown",
   "id": "92befba8-41a3-4177-b3c8-3f0fb78eac15",
   "metadata": {},
   "source": [
    "# creating and calling a function"
   ]
  },
  {
   "cell_type": "code",
   "execution_count": 57,
   "id": "614920c0-fff3-4b8e-a872-c54355441afe",
   "metadata": {},
   "outputs": [],
   "source": [
    "def my_function():\n",
    "    print(\"hello i am Shubham Kumar\")"
   ]
  },
  {
   "cell_type": "code",
   "execution_count": 58,
   "id": "3f95a569-a41e-4769-a66d-447cc3ca779b",
   "metadata": {},
   "outputs": [
    {
     "name": "stdout",
     "output_type": "stream",
     "text": [
      "hello i am Shubham Kumar\n"
     ]
    }
   ],
   "source": [
    "my_function()"
   ]
  },
  {
   "cell_type": "code",
   "execution_count": 34,
   "id": "e2e540d4-40ad-45b0-8fa8-8ede70a72dae",
   "metadata": {},
   "outputs": [],
   "source": [
    "def details_bill():\n",
    "    print(\"the last date of the payment is on next weak sunday\")\n",
    "    print(\"after deadline, you need to pay rs 1000 as a fine\")\n",
    "    print(\"pay your bill soon\")"
   ]
  },
  {
   "cell_type": "code",
   "execution_count": 35,
   "id": "8ac944c7-555d-46db-88bd-cf4a54d04e1d",
   "metadata": {},
   "outputs": [
    {
     "name": "stdout",
     "output_type": "stream",
     "text": [
      "enter your name Shubham Kumar\n",
      "enter the unit os electricity you have consumed 500\n"
     ]
    },
    {
     "name": "stdout",
     "output_type": "stream",
     "text": [
      "total amount of bill ypou need to pay is 5000\n",
      "the last date of the payment is on next weak sunday\n",
      "after deadline, you need to pay rs 1000 as a fine\n",
      "pay your bill soon\n"
     ]
    },
    {
     "name": "stdout",
     "output_type": "stream",
     "text": [
      "enter your name rohit\n",
      "enter the unit os electricity you have consumed 250\n"
     ]
    },
    {
     "name": "stdout",
     "output_type": "stream",
     "text": [
      "total amount of bill ypou need to pay is 2500\n",
      "the last date of the payment is on next weak sunday\n",
      "after deadline, you need to pay rs 1000 as a fine\n",
      "pay your bill soon\n"
     ]
    },
    {
     "name": "stdout",
     "output_type": "stream",
     "text": [
      "enter your name subhas\n",
      "enter the unit os electricity you have consumed 650\n"
     ]
    },
    {
     "name": "stdout",
     "output_type": "stream",
     "text": [
      "total amount of bill ypou need to pay is 6500\n",
      "the last date of the payment is on next weak sunday\n",
      "after deadline, you need to pay rs 1000 as a fine\n",
      "pay your bill soon\n"
     ]
    }
   ],
   "source": [
    "for i in range(3):\n",
    "    a = input(\"enter your name\")\n",
    "    b = int(input(\"enter the unit os electricity you have consumed\"))\n",
    "    bill = b * 10\n",
    "    print(\"total amount of bill ypou need to pay is\", bill)\n",
    "    details_bill()"
   ]
  },
  {
   "cell_type": "markdown",
   "id": "626b7236-8046-4f11-b6ab-85b5925aaf73",
   "metadata": {},
   "source": [
    "# Arguments"
   ]
  },
  {
   "cell_type": "markdown",
   "id": "da81a68c-be94-491a-98b1-1b8bccc4e3a2",
   "metadata": {},
   "source": [
    "# Create a function, which checks the number is even or odd"
   ]
  },
  {
   "cell_type": "markdown",
   "id": "3e45dff3-6bca-488c-ac16-615cc81850f7",
   "metadata": {},
   "source": [
    "def check_even_odd(number):\n",
    "    if number%2==0:\n",
    "        print(\"the number is even\")\n",
    "    else:\n",
    "        print(\"the number is odd\")"
   ]
  },
  {
   "cell_type": "code",
   "execution_count": 76,
   "id": "be594944-f11f-40e7-93d7-bb7781e0fb25",
   "metadata": {},
   "outputs": [
    {
     "name": "stdout",
     "output_type": "stream",
     "text": [
      "the number is even\n"
     ]
    }
   ],
   "source": [
    "check_even_odd(26)"
   ]
  },
  {
   "cell_type": "code",
   "execution_count": 77,
   "id": "87a7984f-90be-4b06-82b5-49eee4bf1d26",
   "metadata": {},
   "outputs": [
    {
     "name": "stdout",
     "output_type": "stream",
     "text": [
      "the number is odd\n"
     ]
    }
   ],
   "source": [
    "check_even_odd(39)"
   ]
  },
  {
   "cell_type": "markdown",
   "id": "77b9421a-2b88-4e2c-8385-abf4d5ac615e",
   "metadata": {},
   "source": [
    "# Two Arguments"
   ]
  },
  {
   "cell_type": "code",
   "execution_count": 78,
   "id": "96e8a39c-a644-4517-a455-21b891a5d2b0",
   "metadata": {},
   "outputs": [],
   "source": [
    "def my_name(fname, lname):\n",
    "    print(fname + \" \" + lname)"
   ]
  },
  {
   "cell_type": "code",
   "execution_count": 79,
   "id": "81c216a2-2b34-4dde-a18a-6df98cebf3c1",
   "metadata": {},
   "outputs": [
    {
     "name": "stdout",
     "output_type": "stream",
     "text": [
      "Shubham Kumar\n"
     ]
    }
   ],
   "source": [
    "my_name(\"Shubham\", \"Kumar\")"
   ]
  },
  {
   "cell_type": "code",
   "execution_count": null,
   "id": "6b7a2114-90f9-49bd-bf28-7a408b92f1e8",
   "metadata": {},
   "outputs": [],
   "source": [
    "Write a user-defined function to process the exam scores and calculate the following statistics:\n",
    "\n",
    "The average exam score.\n",
    "The highest exam score.\n",
    "The lowest exam score.\n",
    "The number of students who passed the exam (assuming a passing score is 80 or above).\n",
    "The number of students who failed the exam.\n",
    "\n",
    "eaxm_scores = [ 85, 92, 78, 90, 88, 95, 82, 79, 87, 91]"
   ]
  },
  {
   "cell_type": "markdown",
   "id": "ff4cc8ee-af84-4aeb-9a6d-9131d51cfa9d",
   "metadata": {},
   "source": [
    "def calculate_exam_statistics(exam_scores):\n",
    "\n",
    "    num_students = len(exam_scores)\n",
    "    average_score = sum(exam_scores)/num_students\n",
    "    highest_score = max(exam_scores)\n",
    "    lowest_score = min(exam_scores)\n",
    "\n",
    "    num_passed = 0\n",
    "    for score in exam_scores:\n",
    "        if scroe>=80:\n",
    "        num_passed = num_passed+1\n",
    "        \n",
    "    num_failed = num_students - num_passed\n",
    "    \n",
    "    return average_score, highest_score, lowest_score, num_passed, num_failed"
   ]
  },
  {
   "cell_type": "markdown",
   "id": "dd68e73f-ef9d-48bf-8038-4ef47b3aad9f",
   "metadata": {},
   "source": [
    "eaxm_scores = [ 85, 92, 78, 90, 88, 95, 82, 79, 87, 91]\n",
    "\n",
    "average_score, highest_score, lowest_score, num_passed, num_failed = calculate_exam_statistics(exam_scores)\n",
    "\n",
    "print(\"the average score is\", average_score)\n",
    "print(\"the highest score is\", highest_score)\n",
    "print(\"the lowest score is\", lowest_score)\n",
    "print(\"the number of students passed is\", num_passed)\n",
    "print(\"the number of students failed is\", num_failed)"
   ]
  },
  {
   "cell_type": "markdown",
   "id": "63db8960-0b2d-465a-80a2-adb87a29dc90",
   "metadata": {},
   "source": [
    "# Lecture 9"
   ]
  },
  {
   "cell_type": "markdown",
   "id": "3d4aa261-fb29-462f-8b02-c877f1b362a7",
   "metadata": {},
   "source": [
    "# String in Python - Part 1\n",
    "\n",
    "# Creating strings in Python"
   ]
  },
  {
   "cell_type": "code",
   "execution_count": 36,
   "id": "4b953a89-a136-458e-83a2-36de82e509dd",
   "metadata": {},
   "outputs": [
    {
     "name": "stdout",
     "output_type": "stream",
     "text": [
      "learners\n",
      "<class 'str'>\n"
     ]
    }
   ],
   "source": [
    "a = 'learners'\n",
    "print(a)\n",
    "print(type(a))"
   ]
  },
  {
   "cell_type": "code",
   "execution_count": 37,
   "id": "f41d0701-8ac1-4f2a-962d-cda153706211",
   "metadata": {},
   "outputs": [
    {
     "name": "stdout",
     "output_type": "stream",
     "text": [
      "students\n",
      "<class 'str'>\n"
     ]
    }
   ],
   "source": [
    "b = \"students\"\n",
    "print(b)\n",
    "print(type(b))"
   ]
  },
  {
   "cell_type": "code",
   "execution_count": 38,
   "id": "e6f29620-a2ab-493d-9966-ec7384eaec2a",
   "metadata": {},
   "outputs": [
    {
     "name": "stdout",
     "output_type": "stream",
     "text": [
      "I am Shubham Kumar \n",
      "This is my first class\n"
     ]
    }
   ],
   "source": [
    "str = \"I am Shubham Kumar \\nThis is my first class\"\n",
    "print(str)"
   ]
  },
  {
   "cell_type": "markdown",
   "id": "68f24df5-d446-4001-ba5b-34e138fab37a",
   "metadata": {},
   "source": [
    "# Multiline strings"
   ]
  },
  {
   "cell_type": "code",
   "execution_count": 39,
   "id": "c6b60aad-d9ac-44fc-aae3-98c018f1a3db",
   "metadata": {},
   "outputs": [
    {
     "name": "stdout",
     "output_type": "stream",
     "text": [
      "Jupyter Notebook is an open-source web application that allows you to create and share\n",
      "documents that contain live code, equations, visualizations, and narrative text.\n",
      "It's commonly used for data cleaning and transformation, numerical simulation, statistical\n",
      "modeling, data visualization, machine learning, and much more.\n",
      "One of the key features of Jupyter Notebook is its interactivity, which allows you to run\n",
      "code in a step-by-step manner, making it excellent for exploratory data analysis and\n",
      "interactive computing\n"
     ]
    }
   ],
   "source": [
    "a = \"\"\"Jupyter Notebook is an open-source web application that allows you to create and share\n",
    "documents that contain live code, equations, visualizations, and narrative text.\n",
    "It's commonly used for data cleaning and transformation, numerical simulation, statistical\n",
    "modeling, data visualization, machine learning, and much more.\n",
    "One of the key features of Jupyter Notebook is its interactivity, which allows you to run\n",
    "code in a step-by-step manner, making it excellent for exploratory data analysis and\n",
    "interactive computing\"\"\"\n",
    "print(a)"
   ]
  },
  {
   "cell_type": "markdown",
   "id": "2f3b184e-3df4-4fb8-b5a9-9771a84ec363",
   "metadata": {},
   "source": [
    "# Indexing of strings"
   ]
  },
  {
   "cell_type": "code",
   "execution_count": 42,
   "id": "465d2e60-2726-4e52-b7bd-24c62a0f0c44",
   "metadata": {},
   "outputs": [
    {
     "name": "stdout",
     "output_type": "stream",
     "text": [
      "H\n",
      "e\n",
      "l\n",
      "l\n",
      "o\n",
      " \n",
      "d\n"
     ]
    }
   ],
   "source": [
    "a = \"Hello dear learners\"\n",
    "print(a[0])\n",
    "print(a[1])\n",
    "print(a[2])\n",
    "print(a[3])\n",
    "print(a[4])\n",
    "print(a[5])\n",
    "print(a[6])"
   ]
  },
  {
   "cell_type": "code",
   "execution_count": 44,
   "id": "853f0c6e-90ef-43e2-98d6-16ffe26ad971",
   "metadata": {},
   "outputs": [
    {
     "name": "stdout",
     "output_type": "stream",
     "text": [
      "s\n",
      "r\n",
      "e\n",
      "n\n",
      "r\n"
     ]
    }
   ],
   "source": [
    "a = \"Hello dear learners\"\n",
    "print(a[-1])\n",
    "print(a[-2])\n",
    "print(a[-3])\n",
    "print(a[-4])\n",
    "print(a[-5])"
   ]
  },
  {
   "cell_type": "code",
   "execution_count": 45,
   "id": "a5d6a984-c981-4c71-80fd-0a6f80740768",
   "metadata": {},
   "outputs": [
    {
     "name": "stdout",
     "output_type": "stream",
     "text": [
      "d e l i\n"
     ]
    }
   ],
   "source": [
    "b = \"data science is the growing filed\"\n",
    "print(b[-1],b[-2],b[-3],b[-4])"
   ]
  },
  {
   "cell_type": "markdown",
   "id": "a1aa619a-cc5c-4ab3-9e23-ce1531e9b57a",
   "metadata": {},
   "source": [
    "# Slicing"
   ]
  },
  {
   "cell_type": "code",
   "execution_count": 49,
   "id": "e7ceaa11-1265-460c-9d87-51729ec4aaf5",
   "metadata": {},
   "outputs": [
    {
     "name": "stdout",
     "output_type": "stream",
     "text": [
      "i am\n"
     ]
    }
   ],
   "source": [
    "a = \"i am learning datascience\"\n",
    "print(a[0:4])"
   ]
  },
  {
   "cell_type": "code",
   "execution_count": 50,
   "id": "0c5486d9-8127-4b21-b0ae-1a11c5d73ed5",
   "metadata": {},
   "outputs": [
    {
     "name": "stdout",
     "output_type": "stream",
     "text": [
      "i am lea\n"
     ]
    }
   ],
   "source": [
    "a = \"i am learning datascience\"\n",
    "print(a[0:8])"
   ]
  },
  {
   "cell_type": "code",
   "execution_count": 51,
   "id": "6c7a9b76-3343-47ed-8a01-996bd6187cd4",
   "metadata": {},
   "outputs": [
    {
     "name": "stdout",
     "output_type": "stream",
     "text": [
      "i am learning datascience\n"
     ]
    }
   ],
   "source": [
    "a = \"i am learning datascience\"\n",
    "print(a[:])"
   ]
  },
  {
   "cell_type": "markdown",
   "id": "9d7c8e5a-45c4-4f82-b1b7-0d6888ec34b0",
   "metadata": {},
   "source": [
    "# Slicing with jump"
   ]
  },
  {
   "cell_type": "code",
   "execution_count": 52,
   "id": "38e0b4c1-72c2-41ea-be78-5c0b72613810",
   "metadata": {},
   "outputs": [
    {
     "name": "stdout",
     "output_type": "stream",
     "text": [
      "ia er\n"
     ]
    }
   ],
   "source": [
    "a = \"i am learning datascience\"\n",
    "print(a[0:10:2])"
   ]
  },
  {
   "cell_type": "code",
   "execution_count": 53,
   "id": "0acb8c78-87aa-4830-8bd0-a195e186ed39",
   "metadata": {},
   "outputs": [
    {
     "name": "stdout",
     "output_type": "stream",
     "text": [
      "imen\n"
     ]
    }
   ],
   "source": [
    "a = \"i am learning datascience\"\n",
    "print(a[0:10:3])"
   ]
  },
  {
   "cell_type": "code",
   "execution_count": 56,
   "id": "c75f7d53-7162-4906-a8a6-22af1ca9eb00",
   "metadata": {},
   "outputs": [
    {
     "name": "stdout",
     "output_type": "stream",
     "text": [
      "ia erigdtsine\n"
     ]
    }
   ],
   "source": [
    "a = \"i am learning datascience\"\n",
    "print(a[::2])"
   ]
  },
  {
   "cell_type": "markdown",
   "id": "1fef1fcf-675a-42e4-ab43-6278f2b7b114",
   "metadata": {},
   "source": [
    "# Negative Slicing"
   ]
  },
  {
   "cell_type": "code",
   "execution_count": 57,
   "id": "442182cd-5fe2-482a-8d6d-fc00c3688481",
   "metadata": {},
   "outputs": [
    {
     "name": "stdout",
     "output_type": "stream",
     "text": [
      "n\n"
     ]
    }
   ],
   "source": [
    "a = \"i am learning datascience\"\n",
    "print(a[-16])"
   ]
  },
  {
   "cell_type": "code",
   "execution_count": 58,
   "id": "1d1a8481-9169-4883-95b3-2046598f67ac",
   "metadata": {},
   "outputs": [
    {
     "name": "stdout",
     "output_type": "stream",
     "text": [
      "cienc\n"
     ]
    }
   ],
   "source": [
    "a = \"i am learning datascience\"\n",
    "print(a[-6:-1])"
   ]
  },
  {
   "cell_type": "code",
   "execution_count": 59,
   "id": "bbd23045-1d0d-400e-9c8d-795e5eca8f32",
   "metadata": {},
   "outputs": [
    {
     "name": "stdout",
     "output_type": "stream",
     "text": [
      "ann aacec\n"
     ]
    }
   ],
   "source": [
    "a = \"i am learning datascience\"\n",
    "print(a[-18:-1:2])"
   ]
  },
  {
   "cell_type": "markdown",
   "id": "cdc2343f-fdfe-42d8-8ace-432b2bf3f09d",
   "metadata": {},
   "source": [
    "# Lecture 10"
   ]
  },
  {
   "cell_type": "markdown",
   "id": "56f8eb85-60d7-4c90-a957-4096f238adc9",
   "metadata": {},
   "source": [
    "# Strings - part 2"
   ]
  },
  {
   "cell_type": "markdown",
   "id": "89cb7744-960a-46cc-a0e5-da2aef906ed9",
   "metadata": {},
   "source": [
    "# length - method"
   ]
  },
  {
   "cell_type": "code",
   "execution_count": 1,
   "id": "0f59fc9c-a8a8-4a02-83d9-6fa6f627a08a",
   "metadata": {},
   "outputs": [
    {
     "name": "stdout",
     "output_type": "stream",
     "text": [
      "15\n"
     ]
    }
   ],
   "source": [
    "s = \"themathemathics\"\n",
    "print(len(s))"
   ]
  },
  {
   "cell_type": "code",
   "execution_count": 2,
   "id": "4ee5a541-06cd-4fec-87b2-00917a1d5676",
   "metadata": {},
   "outputs": [
    {
     "name": "stdout",
     "output_type": "stream",
     "text": [
      "16\n"
     ]
    }
   ],
   "source": [
    "s = \"the mathemathics\"\n",
    "print(len(s))"
   ]
  },
  {
   "cell_type": "code",
   "execution_count": 3,
   "id": "522da0c9-edbb-4092-84c5-844bbd7bcc85",
   "metadata": {},
   "outputs": [
    {
     "name": "stdout",
     "output_type": "stream",
     "text": [
      "0\n"
     ]
    }
   ],
   "source": [
    "s = \"\"\n",
    "print(len(s))"
   ]
  },
  {
   "cell_type": "code",
   "execution_count": 4,
   "id": "dcdd7b3a-ab25-4874-8381-5f07c6bb9958",
   "metadata": {},
   "outputs": [
    {
     "name": "stdout",
     "output_type": "stream",
     "text": [
      "1\n"
     ]
    }
   ],
   "source": [
    "s = \" \"\n",
    "print(len(s))"
   ]
  },
  {
   "cell_type": "code",
   "execution_count": 5,
   "id": "04659aa1-5770-490d-be95-0c0338cb923b",
   "metadata": {},
   "outputs": [
    {
     "name": "stdout",
     "output_type": "stream",
     "text": [
      "2\n"
     ]
    }
   ],
   "source": [
    "s = \"  \"\n",
    "print(len(s))"
   ]
  },
  {
   "cell_type": "markdown",
   "id": "16e6b874-3ec8-45c4-bfd3-d95963347f03",
   "metadata": {},
   "source": [
    "string with spacial symbol"
   ]
  },
  {
   "cell_type": "code",
   "execution_count": 6,
   "id": "e3ed025a-0889-4e46-a59f-50ae579f6fb6",
   "metadata": {},
   "outputs": [
    {
     "name": "stdout",
     "output_type": "stream",
     "text": [
      "hello\n",
      "world\n",
      "11\n"
     ]
    }
   ],
   "source": [
    "s = \"hello\\nworld\"\n",
    "print(s)\n",
    "print(len(s))"
   ]
  },
  {
   "cell_type": "code",
   "execution_count": 7,
   "id": "34b85210-71d2-4960-b616-416b182ef8af",
   "metadata": {},
   "outputs": [
    {
     "name": "stdout",
     "output_type": "stream",
     "text": [
      "hello@world\n",
      "11\n"
     ]
    }
   ],
   "source": [
    "s = \"hello@world\"\n",
    "print(s)\n",
    "print(len(s))"
   ]
  },
  {
   "cell_type": "code",
   "execution_count": 8,
   "id": "2f399b6c-8b83-4481-a988-6192ce0ff37b",
   "metadata": {},
   "outputs": [
    {
     "name": "stdout",
     "output_type": "stream",
     "text": [
      "hello\n",
      "world\n",
      "11\n"
     ]
    }
   ],
   "source": [
    "s = \"\"\"hello\n",
    "world\"\"\"\n",
    "print(s)\n",
    "print(len(s))"
   ]
  },
  {
   "cell_type": "code",
   "execution_count": 9,
   "id": "9ddcda95-4ad8-4f5b-be53-7ca92b5b2464",
   "metadata": {},
   "outputs": [
    {
     "name": "stdout",
     "output_type": "stream",
     "text": [
      "85\n"
     ]
    }
   ],
   "source": [
    "a = \"Data science also intergrates domain knowledge from the underlying application domain\"\n",
    "print(len(a))"
   ]
  },
  {
   "cell_type": "markdown",
   "id": "580dd229-7dc7-4bbc-b722-8a8262be3326",
   "metadata": {},
   "source": [
    "# Python - modify strings\n",
    "\n",
    "# upper method"
   ]
  },
  {
   "cell_type": "code",
   "execution_count": 10,
   "id": "e5067c93-4218-4575-aa4d-112150c1ad5e",
   "metadata": {},
   "outputs": [
    {
     "name": "stdout",
     "output_type": "stream",
     "text": [
      "THIS IS THE MATHEMATHICS BOOK\n"
     ]
    }
   ],
   "source": [
    "s = \"this is the mathemathics book\"\n",
    "print(s.upper())"
   ]
  },
  {
   "cell_type": "code",
   "execution_count": 12,
   "id": "d6548a73-c429-465e-8ec0-4634677d2d32",
   "metadata": {},
   "outputs": [
    {
     "name": "stdout",
     "output_type": "stream",
     "text": [
      "THIS IS THE MATHEMATHICS BOOK 1234\n"
     ]
    }
   ],
   "source": [
    "s = \"this IS the mathemathics book 1234\"\n",
    "print(s.upper())"
   ]
  },
  {
   "cell_type": "markdown",
   "id": "99839215-a7e1-4508-9fc5-e5baa09cae62",
   "metadata": {},
   "source": [
    "# Lower method"
   ]
  },
  {
   "cell_type": "code",
   "execution_count": 14,
   "id": "180a0ba7-f7bd-4f99-afd2-81a571039671",
   "metadata": {},
   "outputs": [
    {
     "name": "stdout",
     "output_type": "stream",
     "text": [
      "I AM SHUBHAM KUMAR\n",
      "this is my python class\n"
     ]
    }
   ],
   "source": [
    "a = \"i am shubham kumar\"\n",
    "print(a.upper())\n",
    "\n",
    "b = \"THIS IS MY PYTHON CLASS\"\n",
    "print(b.lower())"
   ]
  },
  {
   "cell_type": "code",
   "execution_count": 15,
   "id": "b4cee073-4a23-4a42-bb04-49d95f9d02ae",
   "metadata": {},
   "outputs": [
    {
     "name": "stdout",
     "output_type": "stream",
     "text": [
      "DATA SCIENCE ALSO INTERGRATES DOMAIN KNOWLEDGE FROM THE UNDERLYING APPLICATION DOMAIN\n"
     ]
    }
   ],
   "source": [
    "b = \"Data science also intergrates domain knowledge from the underlying application domain\"\n",
    "print(b.upper())"
   ]
  },
  {
   "cell_type": "markdown",
   "id": "ef31d526-8f6f-4e08-a3c4-6feba1d89e54",
   "metadata": {},
   "source": [
    "# String concatenation"
   ]
  },
  {
   "cell_type": "code",
   "execution_count": 18,
   "id": "82e5e27e-0c08-4f73-a65c-db5587fad30a",
   "metadata": {},
   "outputs": [
    {
     "name": "stdout",
     "output_type": "stream",
     "text": [
      "hello world\n"
     ]
    }
   ],
   "source": [
    "a = \"hello\"\n",
    "b = \"world\"\n",
    "print(a + \" \" + b)"
   ]
  },
  {
   "cell_type": "code",
   "execution_count": 19,
   "id": "90cd3871-ace0-4b77-ab20-a83f698872fb",
   "metadata": {},
   "outputs": [
    {
     "name": "stdout",
     "output_type": "stream",
     "text": [
      "datadatadata\n"
     ]
    }
   ],
   "source": [
    "a = \"data\"\n",
    "print(a*3)"
   ]
  },
  {
   "cell_type": "markdown",
   "id": "e2bc3b51-e29e-4178-be86-5058e7483203",
   "metadata": {},
   "source": [
    "# replace method"
   ]
  },
  {
   "cell_type": "code",
   "execution_count": 20,
   "id": "e15135c7-2464-4bb9-b3fd-0250319730ea",
   "metadata": {},
   "outputs": [
    {
     "name": "stdout",
     "output_type": "stream",
     "text": [
      "hello world, I am learning data science\n"
     ]
    }
   ],
   "source": [
    "text = \"hello world, I am learning python\"\n",
    "rep = text.replace(\"python\", \"data science\")\n",
    "print(rep)"
   ]
  },
  {
   "cell_type": "code",
   "execution_count": 23,
   "id": "853144aa-6fc2-461b-bb72-7902904060ef",
   "metadata": {},
   "outputs": [
    {
     "name": "stdout",
     "output_type": "stream",
     "text": [
      "A census (from Latin censere, 'to assess') is the procedure of systematically acquiring, recording, and \n",
      "calculating population information about the members of a given population, usually displayed in the form of statistics.\n",
      "This term is used mostly in connection with national\n",
      "population and housing people;\n",
      "other common people include people of agriculture, traditional culture, business, supplies, and traffic people.\n"
     ]
    }
   ],
   "source": [
    "a = \"\"\"A census (from Latin censere, 'to assess') is the procedure of systematically acquiring, recording, and \n",
    "calculating population information about the members of a given population, usually displayed in the form of statistics.\n",
    "This term is used mostly in connection with national\n",
    "population and housing censuses;\n",
    "other common censuses include censuses of agriculture, traditional culture, business, supplies, and traffic censuses.\"\"\"\n",
    "\n",
    "p = a.replace(\"censuses\", \"people\")\n",
    "print(p)"
   ]
  },
  {
   "cell_type": "markdown",
   "id": "7c013cc9-8117-4f9e-87b2-1f776ba1f1ba",
   "metadata": {},
   "source": [
    "# index method"
   ]
  },
  {
   "cell_type": "code",
   "execution_count": 24,
   "id": "c5c93400-853a-46b0-990a-2a6cbb1934de",
   "metadata": {},
   "outputs": [
    {
     "name": "stdout",
     "output_type": "stream",
     "text": [
      "7\n"
     ]
    }
   ],
   "source": [
    "a = \"i want to learn\"\n",
    "print(a.index(\"to\"))"
   ]
  },
  {
   "cell_type": "code",
   "execution_count": 26,
   "id": "2381a25f-c9cc-4b9f-988e-4651a6b641a7",
   "metadata": {},
   "outputs": [
    {
     "name": "stdout",
     "output_type": "stream",
     "text": [
      "30\n"
     ]
    }
   ],
   "source": [
    "b = \"The UN's Food and Agriculture Organization (FAO), in turn, defines the census of agriculture as a statistical\"\n",
    "print(b.index(\"Organization\"))"
   ]
  },
  {
   "cell_type": "markdown",
   "id": "5c2165a3-759a-46e6-b700-8d6ac11f9d82",
   "metadata": {},
   "source": [
    "# find method"
   ]
  },
  {
   "cell_type": "code",
   "execution_count": 27,
   "id": "aae19c69-652e-4693-844c-613b2b0ae299",
   "metadata": {},
   "outputs": [
    {
     "name": "stdout",
     "output_type": "stream",
     "text": [
      "10\n"
     ]
    }
   ],
   "source": [
    "a = \"python is great\"\n",
    "b = a.find(\"g\")\n",
    "print(b)"
   ]
  },
  {
   "cell_type": "markdown",
   "id": "f55c91b7-b3ef-42a5-b12c-334689b097b9",
   "metadata": {},
   "source": [
    "# Lecture 11"
   ]
  },
  {
   "cell_type": "markdown",
   "id": "d91e0dc0-a1d1-4a93-9cac-854b139389ea",
   "metadata": {},
   "source": [
    "# list part 1"
   ]
  },
  {
   "cell_type": "markdown",
   "id": "79758db1-39c1-4f34-baa8-a53e42ffc08b",
   "metadata": {},
   "source": [
    "# Creating a list"
   ]
  },
  {
   "cell_type": "code",
   "execution_count": null,
   "id": "1806c2d1-d2e0-4bbd-bfc0-989c09d0aaad",
   "metadata": {},
   "outputs": [
    {
     "name": "stdout",
     "output_type": "stream",
     "text": [
      "['a', 'b', 'c']\n",
      "<class 'list'>\n"
     ]
    }
   ],
   "source": [
    "mylist = [\"a\",\"b\",\"c\"]\n",
    "print(mylist)\n",
    "print(type(mylist))"
   ]
  },
  {
   "cell_type": "markdown",
   "id": "ad17a2a5-524d-471f-814b-3e530e719205",
   "metadata": {},
   "source": [
    "# properties of list"
   ]
  },
  {
   "cell_type": "markdown",
   "id": "baa734fb-d988-4443-b4fa-acbe59a76279",
   "metadata": {},
   "source": [
    "# 1. Ordered"
   ]
  },
  {
   "cell_type": "code",
   "execution_count": 2,
   "id": "a62c114a-fe45-455b-b7b7-82b2b50dbbbd",
   "metadata": {},
   "outputs": [
    {
     "name": "stdout",
     "output_type": "stream",
     "text": [
      "mango\n"
     ]
    }
   ],
   "source": [
    "fruits = [\"mango\", \"orange\", \"cherry\"]\n",
    "print(fruits[0]) # type: ignore"
   ]
  },
  {
   "cell_type": "code",
   "execution_count": null,
   "id": "c60e640e-5fc3-4503-9b88-01644e6c30a4",
   "metadata": {},
   "outputs": [
    {
     "name": "stdout",
     "output_type": "stream",
     "text": [
      "orange\n"
     ]
    }
   ],
   "source": [
    "fruits = [\"orange\", \"cherry\", \"mango\"]\n",
    "print(fruits[1])"
   ]
  },
  {
   "cell_type": "code",
   "execution_count": null,
   "id": "f073e19d-b818-4e1a-9db7-1fc77011f16c",
   "metadata": {},
   "outputs": [
    {
     "name": "stdout",
     "output_type": "stream",
     "text": [
      "cherry\n"
     ]
    }
   ],
   "source": [
    "fruits = [\"mango\", \"orange\", \"cherry\"]\n",
    "print(fruits[2])"
   ]
  },
  {
   "cell_type": "markdown",
   "id": "192ae90d-3bd4-4e43-98e1-ba4d41b45e64",
   "metadata": {},
   "source": [
    "# 2. Hetrogenous"
   ]
  },
  {
   "cell_type": "code",
   "execution_count": 44,
   "id": "e7ed0eb4-f451-48bf-8f13-dfc1013e99b3",
   "metadata": {},
   "outputs": [
    {
     "name": "stdout",
     "output_type": "stream",
     "text": [
      "3.14\n"
     ]
    }
   ],
   "source": [
    "mixed_list = [1, \"hello\", 3.14, [1,2,3]]\n",
    "print(mixed_list[2])"
   ]
  },
  {
   "cell_type": "markdown",
   "id": "9fa12dfa-2a72-4d1f-943d-c8866f5e212c",
   "metadata": {},
   "source": [
    "# list items - data types"
   ]
  },
  {
   "cell_type": "code",
   "execution_count": 48,
   "id": "c6b42a84-9ddf-46ab-af89-fe0a79e8e20a",
   "metadata": {},
   "outputs": [
    {
     "name": "stdout",
     "output_type": "stream",
     "text": [
      "['apple', 'banana']\n"
     ]
    }
   ],
   "source": [
    "list1 = [\"apple\", \"banana\"]\n",
    "list2 = [3,2,2.5,4]\n",
    "list3 = [True, False]\n",
    "print(list1)"
   ]
  },
  {
   "cell_type": "markdown",
   "id": "0a2b456f-109c-495d-afcb-d2596e920ce9",
   "metadata": {},
   "source": [
    "# 3. Indexed"
   ]
  },
  {
   "cell_type": "code",
   "execution_count": 49,
   "id": "3f5bdab8-5588-42b2-aedd-67ec40fc3af6",
   "metadata": {},
   "outputs": [
    {
     "name": "stdout",
     "output_type": "stream",
     "text": [
      "cat\n"
     ]
    }
   ],
   "source": [
    "animals = ['cat', 'dog', 'bird', 'fish']\n",
    "print(animals[0])"
   ]
  },
  {
   "cell_type": "code",
   "execution_count": 50,
   "id": "3991bcd6-7019-4d42-af6b-c3283ac3c97d",
   "metadata": {},
   "outputs": [
    {
     "name": "stdout",
     "output_type": "stream",
     "text": [
      "bird\n"
     ]
    }
   ],
   "source": [
    "print(animals[-2])"
   ]
  },
  {
   "cell_type": "markdown",
   "id": "2b4de2c1-272a-4600-a7a9-280a8813312d",
   "metadata": {},
   "source": [
    "# slicing"
   ]
  },
  {
   "cell_type": "markdown",
   "id": "a55bc8e6-0182-4dcc-8bdf-b037107ac592",
   "metadata": {},
   "source": [
    "# basic slicing"
   ]
  },
  {
   "cell_type": "code",
   "execution_count": 52,
   "id": "a3811e7e-e4b2-4d6a-8afb-124a7ff92ba7",
   "metadata": {},
   "outputs": [
    {
     "name": "stdout",
     "output_type": "stream",
     "text": [
      "[10, 11, 12, 13, 14]\n"
     ]
    }
   ],
   "source": [
    "numbers = [10, 11, 12, 13, 14, 15, 16]\n",
    "print(numbers[0:5])"
   ]
  },
  {
   "cell_type": "markdown",
   "id": "2d5094c7-066e-4d90-b5a6-140e236051f3",
   "metadata": {},
   "source": [
    "# omiting slicing"
   ]
  },
  {
   "cell_type": "code",
   "execution_count": 58,
   "id": "36ad18cd-2f2a-4889-a839-752483ffd90c",
   "metadata": {},
   "outputs": [
    {
     "name": "stdout",
     "output_type": "stream",
     "text": [
      "[10, 11, 12, 13, 14]\n"
     ]
    }
   ],
   "source": [
    "numbers = [10, 11, 12, 13, 14, 15, 16]\n",
    "print(numbers[:5])"
   ]
  },
  {
   "cell_type": "code",
   "execution_count": 54,
   "id": "2959f590-e27b-4b88-9dde-7bb47afe1dcc",
   "metadata": {},
   "outputs": [
    {
     "name": "stdout",
     "output_type": "stream",
     "text": [
      "[10, 11, 12, 13, 14, 15, 16]\n"
     ]
    }
   ],
   "source": [
    "numbers = [10, 11, 12, 13, 14, 15, 16]\n",
    "print(numbers[:])"
   ]
  },
  {
   "cell_type": "markdown",
   "id": "2df9d5fc-3545-4448-b34d-bba539282fd8",
   "metadata": {},
   "source": [
    "# negative indexing"
   ]
  },
  {
   "cell_type": "code",
   "execution_count": 55,
   "id": "3194ab9a-7ee3-45f8-ad26-5e83a3d4cf90",
   "metadata": {},
   "outputs": [
    {
     "name": "stdout",
     "output_type": "stream",
     "text": [
      "[12, 13, 14, 15, 16]\n"
     ]
    }
   ],
   "source": [
    "numbers = [10, 11, 12, 13, 14, 15, 16]\n",
    "print(numbers[-5:])"
   ]
  },
  {
   "cell_type": "markdown",
   "id": "92f98823-b370-4fad-a00f-8f0dbd02731f",
   "metadata": {},
   "source": [
    "# indexing with step"
   ]
  },
  {
   "cell_type": "code",
   "execution_count": 56,
   "id": "c55a5de1-f320-4166-835a-c05b54b0fe67",
   "metadata": {},
   "outputs": [
    {
     "name": "stdout",
     "output_type": "stream",
     "text": [
      "[10, 12, 14, 16]\n"
     ]
    }
   ],
   "source": [
    "numbers = [10, 11, 12, 13, 14, 15, 16]\n",
    "print(numbers[::2])"
   ]
  },
  {
   "cell_type": "code",
   "execution_count": 57,
   "id": "059e701d-2232-437d-9657-96a2cc47deea",
   "metadata": {},
   "outputs": [
    {
     "name": "stdout",
     "output_type": "stream",
     "text": [
      "[10, 13, 16]\n"
     ]
    }
   ],
   "source": [
    "numbers = [10, 11, 12, 13, 14, 15, 16]\n",
    "print(numbers[::3])"
   ]
  },
  {
   "cell_type": "markdown",
   "id": "a53b5556-2c2b-492d-90a3-4202c85be72b",
   "metadata": {},
   "source": [
    "# practice question"
   ]
  },
  {
   "cell_type": "code",
   "execution_count": null,
   "id": "624dbc62-2493-4e94-91e3-dd2570cf5353",
   "metadata": {},
   "outputs": [],
   "source": [
    "Given the list scores = [55, 89, 76, 65, 93, 50, 72]\n",
    "write a python expression to create a\n",
    "new list that contains only the scores that are above 70."
   ]
  },
  {
   "cell_type": "code",
   "execution_count": 59,
   "id": "13d1b5a1-da55-4ad8-a310-1981f220f040",
   "metadata": {},
   "outputs": [
    {
     "name": "stdout",
     "output_type": "stream",
     "text": [
      "[89, 76, 93, 72]\n"
     ]
    }
   ],
   "source": [
    "scores = [55, 89, 76, 65, 93, 50, 72]\n",
    "high_score = []\n",
    "\n",
    "for score in scores:\n",
    "    if score>70:\n",
    "        high_score.append(score)\n",
    "    else:\n",
    "        pass\n",
    "print(high_score)"
   ]
  },
  {
   "cell_type": "code",
   "execution_count": null,
   "id": "0ec6a459-b8d1-48c3-bcb9-1d83ef0a9ecd",
   "metadata": {},
   "outputs": [],
   "source": [
    "Give the list data = [1, 2, 3, 4, 5, 6, 7, 8, 9, 10],\n",
    "write a python expression to get the sum\n",
    "of the first five elements and another\n",
    "expression to reverse the entire list"
   ]
  },
  {
   "cell_type": "code",
   "execution_count": 5,
   "id": "ed55777d-f5ce-4656-a06a-39e9bb7d0730",
   "metadata": {},
   "outputs": [
    {
     "name": "stdout",
     "output_type": "stream",
     "text": [
      "the sum of first five item is 15\n",
      "the reverse string is [10, 9, 8, 7, 6, 5, 4, 3, 2, 1]\n"
     ]
    }
   ],
   "source": [
    "data = [1, 2, 3, 4, 5, 6, 7, 8, 9, 10]\n",
    "\n",
    "sum_first_five = sum(data[:5])\n",
    "print(\"the sum of first five item is\", sum_first_five)\n",
    "\n",
    "reverse = data[::-1]\n",
    "print(\"the reverse string is\", reverse)"
   ]
  },
  {
   "cell_type": "code",
   "execution_count": null,
   "id": "101cfb18-b707-48d6-b84a-ff2cf8f2c62c",
   "metadata": {},
   "outputs": [],
   "source": [
    "Question: Given the list numbers = [1, 2, 3, 4, 5, 6, 7, 8, 9, 10],\n",
    "write python expressions to:\n",
    "Create a new list with the first half and the second half swapped\n",
    "print the sum of the last three elements\n",
    "\n",
    "input - numbers = [1, 2, 3, 4, 5 ,6 7, 8, 9, 10]\n",
    "output -\n",
    "[6, 7, 8, 9, 10, 1, 2, 3, 4, 5]\n",
    "27"
   ]
  },
  {
   "cell_type": "code",
   "execution_count": 6,
   "id": "27bdde74-ef42-460c-95b3-ade890035892",
   "metadata": {},
   "outputs": [
    {
     "name": "stdout",
     "output_type": "stream",
     "text": [
      "[6, 7, 8, 9, 10, 1, 2, 3, 4, 5]\n",
      "27\n"
     ]
    }
   ],
   "source": [
    "numbers = [1, 2, 3, 4, 5, 6, 7, 8, 9, 10]\n",
    "\n",
    "# Swapping the first half with the second half\n",
    "swapped_list = numbers[len(numbers)//2:] + numbers[:len(numbers)//2]\n",
    "print(swapped_list)  # Output: [6, 7, 8, 9, 10, 1, 2, 3, 4, 5]\n",
    "\n",
    "# Sum of the last three elements\n",
    "sum_last_three = sum(numbers[-3:])\n",
    "print(sum_last_three)  # Output: 27"
   ]
  },
  {
   "cell_type": "markdown",
   "id": "17671ccf-dba8-4c02-a3a6-aab405a499d6",
   "metadata": {},
   "source": [
    "# Lecture 12"
   ]
  },
  {
   "cell_type": "markdown",
   "id": "e4ed30b3-0cfa-4be3-a2cd-a1270c451961",
   "metadata": {},
   "source": [
    "list-part 2"
   ]
  },
  {
   "cell_type": "markdown",
   "id": "6d0fd1a0-3c5f-408c-87cf-bcf269b656bf",
   "metadata": {},
   "source": [
    "# lenght method"
   ]
  },
  {
   "cell_type": "code",
   "execution_count": 7,
   "id": "95220227-35a4-4f24-9006-b104ddc1d85c",
   "metadata": {},
   "outputs": [
    {
     "name": "stdout",
     "output_type": "stream",
     "text": [
      "16\n"
     ]
    }
   ],
   "source": [
    "a = [1,5,6,7,8,2,6,89,1,6,8,621,\"hello\",8,5,9.6]\n",
    "print(len(a))"
   ]
  },
  {
   "cell_type": "markdown",
   "id": "78df79c1-9521-4e9e-a9e5-8d42d02a499e",
   "metadata": {},
   "source": [
    "# mutablility property of list\n",
    "\n",
    "# changing elements"
   ]
  },
  {
   "cell_type": "code",
   "execution_count": 3,
   "id": "dd8ac1e2-1275-4e09-b7e0-dec81cad157c",
   "metadata": {},
   "outputs": [],
   "source": [
    "a = [12,13,14,15,16,17,18,19,20,21]\n",
    "a[2:4] = [\"book\",\"pen\",\"paper\"]"
   ]
  },
  {
   "cell_type": "code",
   "execution_count": 4,
   "id": "7211f2b7-c80c-44f7-8598-6cd31b83b3e9",
   "metadata": {},
   "outputs": [
    {
     "name": "stdout",
     "output_type": "stream",
     "text": [
      "[12, 13, 'book', 'pen', 'paper', 16, 17, 18, 19, 20, 21]\n"
     ]
    }
   ],
   "source": [
    "print(a)"
   ]
  },
  {
   "cell_type": "markdown",
   "id": "d79de313-e59c-45b0-a2da-23ce256df1dd",
   "metadata": {},
   "source": [
    "# Add list items"
   ]
  },
  {
   "cell_type": "code",
   "execution_count": 5,
   "id": "e4cc1ea8-763e-4e63-87c8-e1a6a831cdfe",
   "metadata": {},
   "outputs": [
    {
     "name": "stdout",
     "output_type": "stream",
     "text": [
      "['apple', 'banana', 'cherry', 'orange']\n"
     ]
    }
   ],
   "source": [
    "thislist = [\"apple\",\"banana\",\"cherry\"]\n",
    "thislist.append(\"orange\")\n",
    "print(thislist)"
   ]
  },
  {
   "cell_type": "code",
   "execution_count": 6,
   "id": "34fa9fb7-f37f-4544-a258-bf95ab32f44a",
   "metadata": {},
   "outputs": [
    {
     "name": "stdout",
     "output_type": "stream",
     "text": [
      "[14, 15, 12, 16, 17, 89, 45, -20]\n"
     ]
    }
   ],
   "source": [
    "a = [14,15,12,16,17,89,45]\n",
    "a.append(-20)\n",
    "print(a)"
   ]
  },
  {
   "cell_type": "markdown",
   "id": "fcbfd56e-ce65-42a3-bcce-9e6bdb5a3eb3",
   "metadata": {},
   "source": [
    "# remove the items"
   ]
  },
  {
   "cell_type": "code",
   "execution_count": 7,
   "id": "109625ee-b3f6-4118-9a17-f0acfb60ee11",
   "metadata": {},
   "outputs": [
    {
     "name": "stdout",
     "output_type": "stream",
     "text": [
      "[4, 8, 94, 89, 4, 84, 894, 9, 4, 9, 49, 459]\n"
     ]
    }
   ],
   "source": [
    "a = [4,8,21,94,89,4,84,894,9,4,9,49,459]\n",
    "a.remove(21)\n",
    "print(a)"
   ]
  },
  {
   "cell_type": "markdown",
   "id": "5690113d-4b8a-4e49-8c4b-c320dc69471e",
   "metadata": {},
   "source": [
    "# join the list"
   ]
  },
  {
   "cell_type": "code",
   "execution_count": 8,
   "id": "c8ceedb6-f16b-4998-b31e-0ac9f6fa7756",
   "metadata": {},
   "outputs": [
    {
     "name": "stdout",
     "output_type": "stream",
     "text": [
      "[1, 2, 3, 14, 15, 16, 'hello', 'world']\n"
     ]
    }
   ],
   "source": [
    "list1 = [1,2,3]\n",
    "list2 = [14,15,16]\n",
    "list3 = [\"hello\", \"world\"]\n",
    "print(list1 + list2 + list3)"
   ]
  },
  {
   "cell_type": "markdown",
   "id": "79cc49d9-aa34-4c0e-a970-188f9872ff4d",
   "metadata": {},
   "source": [
    "# check is a list contains an element"
   ]
  },
  {
   "cell_type": "code",
   "execution_count": 10,
   "id": "22778e0e-b834-40b8-8aaa-d9081fd82891",
   "metadata": {},
   "outputs": [
    {
     "data": {
      "text/plain": [
       "True"
      ]
     },
     "execution_count": 10,
     "metadata": {},
     "output_type": "execute_result"
    }
   ],
   "source": [
    "a = [25,24,89,6,3,5,8,\"hello\",\"python\",5.6]\n",
    "3 in a"
   ]
  },
  {
   "cell_type": "code",
   "execution_count": 11,
   "id": "a2d3982e-eef9-49c1-b726-94623f4eff2c",
   "metadata": {},
   "outputs": [
    {
     "data": {
      "text/plain": [
       "False"
      ]
     },
     "execution_count": 11,
     "metadata": {},
     "output_type": "execute_result"
    }
   ],
   "source": [
    "a = [25,24,89,6,3,5,8,\"hello\",\"python\",5.6]\n",
    "3.5 in a"
   ]
  },
  {
   "cell_type": "markdown",
   "id": "03272a83-3f0e-4b4c-8bc4-47621a983016",
   "metadata": {},
   "source": [
    "# reversing a list"
   ]
  },
  {
   "cell_type": "code",
   "execution_count": 12,
   "id": "954adf87-e11c-4783-b673-9cf2d23c7fd2",
   "metadata": {},
   "outputs": [
    {
     "name": "stdout",
     "output_type": "stream",
     "text": [
      "[45, 34, 59, 98, 25, 86, 76, 67, 35, 24, 23, 1]\n"
     ]
    }
   ],
   "source": [
    "a = [1,23,24,35,67,76,86,25,98,59,34,45]\n",
    "a.reverse()\n",
    "print(a)"
   ]
  },
  {
   "cell_type": "markdown",
   "id": "ec4407fb-aadd-4b1d-ad3c-f3165d930cf5",
   "metadata": {},
   "source": [
    "# Lecture 13"
   ]
  },
  {
   "cell_type": "markdown",
   "id": "4e11026a-17fd-401d-b5e5-009b113cc317",
   "metadata": {},
   "source": [
    "# Tuples in python part 1"
   ]
  },
  {
   "cell_type": "markdown",
   "id": "964a942e-e116-459b-a618-41b2e3dacdf5",
   "metadata": {},
   "source": [
    "# Creating Tuples"
   ]
  },
  {
   "cell_type": "code",
   "execution_count": 2,
   "id": "0df761ee-44c7-4ada-ac91-44c46a763507",
   "metadata": {},
   "outputs": [
    {
     "name": "stdout",
     "output_type": "stream",
     "text": [
      "(10, 20, 30)\n",
      "<class 'tuple'>\n"
     ]
    }
   ],
   "source": [
    "a = (10,20,30)\n",
    "print(a)\n",
    "print(type(a))"
   ]
  },
  {
   "cell_type": "markdown",
   "id": "1517f6b9-00fd-4a66-a05d-6a2c3b2620b3",
   "metadata": {},
   "source": [
    "# Empty tuple"
   ]
  },
  {
   "cell_type": "code",
   "execution_count": 3,
   "id": "d702f253-7740-44ac-b507-c77b6b2cb49d",
   "metadata": {},
   "outputs": [
    {
     "name": "stdout",
     "output_type": "stream",
     "text": [
      "()\n",
      "<class 'tuple'>\n"
     ]
    }
   ],
   "source": [
    "tup = ()\n",
    "print(tup)\n",
    "print(type(tup))"
   ]
  },
  {
   "cell_type": "markdown",
   "id": "74785d87-9e06-4d9a-bed0-65fa0a1dd46d",
   "metadata": {},
   "source": [
    "# Single element"
   ]
  },
  {
   "cell_type": "code",
   "execution_count": 4,
   "id": "b3bce5a6-e132-4b6b-8416-bf736463de7f",
   "metadata": {},
   "outputs": [
    {
     "name": "stdout",
     "output_type": "stream",
     "text": [
      "5\n",
      "<class 'int'>\n"
     ]
    }
   ],
   "source": [
    "b = (5)\n",
    "print(b)\n",
    "print(type(b))"
   ]
  },
  {
   "cell_type": "code",
   "execution_count": 5,
   "id": "4beb3038-35f0-4b86-89bf-eb799b3e5eff",
   "metadata": {},
   "outputs": [
    {
     "name": "stdout",
     "output_type": "stream",
     "text": [
      "(5,)\n",
      "<class 'tuple'>\n"
     ]
    }
   ],
   "source": [
    "b = (5,)\n",
    "print(b)\n",
    "print(type(b))"
   ]
  },
  {
   "cell_type": "markdown",
   "id": "66750c2e-cda3-4786-97f9-fcaca146d6b9",
   "metadata": {},
   "source": [
    "# a tuple with mixed data types"
   ]
  },
  {
   "cell_type": "code",
   "execution_count": 2,
   "id": "716afa60-e9b7-43c6-a2e4-76779ab76fbc",
   "metadata": {},
   "outputs": [
    {
     "name": "stdout",
     "output_type": "stream",
     "text": [
      "(1, 3.5, 'Shubham', 'nishant', True)\n",
      "<class 'tuple'>\n"
     ]
    }
   ],
   "source": [
    "b = (1,3.5, \"Shubham\", \"nishant\", True)\n",
    "print(b)\n",
    "print(type(b))"
   ]
  },
  {
   "cell_type": "markdown",
   "id": "be6e57c4-da5f-4b2a-8e8c-6c44c22b6dcd",
   "metadata": {},
   "source": [
    "# nested tuples"
   ]
  },
  {
   "cell_type": "code",
   "execution_count": 3,
   "id": "4234941c-abf5-4949-ae14-1c4bddd8478d",
   "metadata": {},
   "outputs": [
    {
     "name": "stdout",
     "output_type": "stream",
     "text": [
      "('mouse', 2.5, (10, 20, 30))\n",
      "<class 'tuple'>\n"
     ]
    }
   ],
   "source": [
    "a = (\"mouse\",2.5, (10,20,30))\n",
    "print(a)\n",
    "print(type(a))"
   ]
  },
  {
   "cell_type": "code",
   "execution_count": 4,
   "id": "30c3c5bf-42fc-4aaf-84a1-954f8689adc2",
   "metadata": {},
   "outputs": [
    {
     "name": "stdout",
     "output_type": "stream",
     "text": [
      "([12, 13, 15], [17, 20, 29], [18, 19, 21])\n",
      "<class 'tuple'>\n"
     ]
    }
   ],
   "source": [
    "num = ([12,13,15],[17,20,29],[18,19,21])\n",
    "print(num)\n",
    "print(type(num))"
   ]
  },
  {
   "cell_type": "markdown",
   "id": "ca26da48-e382-498c-8c51-bad06b248f5f",
   "metadata": {},
   "source": [
    "# Tuple Constructor"
   ]
  },
  {
   "cell_type": "code",
   "execution_count": 5,
   "id": "6b8ce850-2567-4c87-9993-f141558eaf2e",
   "metadata": {},
   "outputs": [
    {
     "name": "stdout",
     "output_type": "stream",
     "text": [
      "()\n",
      "<class 'tuple'>\n"
     ]
    }
   ],
   "source": [
    "empty = tuple()\n",
    "print(empty)\n",
    "print(type(empty))"
   ]
  },
  {
   "cell_type": "markdown",
   "id": "90fef289-f975-4dfd-82b9-2001ad97301d",
   "metadata": {},
   "source": [
    "# Converting list into tuple"
   ]
  },
  {
   "cell_type": "code",
   "execution_count": 9,
   "id": "5f3d3598-4694-4ab8-87a0-aee263ab960e",
   "metadata": {},
   "outputs": [
    {
     "name": "stdout",
     "output_type": "stream",
     "text": [
      "[1, 2, 3, 4, 5]\n",
      "<class 'list'>\n",
      "(1, 2, 3, 4, 5)\n",
      "<class 'tuple'>\n"
     ]
    }
   ],
   "source": [
    "list = [1,2,3,4,5]\n",
    "number = tuple(list)\n",
    "print(list)\n",
    "print(type(list))\n",
    "print(number)\n",
    "print(type(number))"
   ]
  },
  {
   "cell_type": "markdown",
   "id": "16c9f29e-3b5e-4621-b85e-8f1fba9bfb06",
   "metadata": {},
   "source": [
    "# Converting string into a tuple"
   ]
  },
  {
   "cell_type": "code",
   "execution_count": 12,
   "id": "4e02006e-4626-46db-9ce8-16f8ffcbf0f8",
   "metadata": {},
   "outputs": [
    {
     "name": "stdout",
     "output_type": "stream",
     "text": [
      "hello\n",
      "<class 'str'>\n",
      "('h', 'e', 'l', 'l', 'o')\n",
      "<class 'tuple'>\n"
     ]
    }
   ],
   "source": [
    "string_example = \"hello\"\n",
    "print(string_example)\n",
    "print(type(string_example))\n",
    "tuple1 = tuple(string_example)\n",
    "print(tuple1)\n",
    "print(type(tuple1))"
   ]
  },
  {
   "cell_type": "markdown",
   "id": "68e631b5-6718-48ae-9edd-29e0e82ca665",
   "metadata": {},
   "source": [
    "#  Converting dictionary into a tuple"
   ]
  },
  {
   "cell_type": "code",
   "execution_count": 13,
   "id": "92c1f261-5237-4e68-babf-b4b8ce4a8d9b",
   "metadata": {},
   "outputs": [
    {
     "name": "stdout",
     "output_type": "stream",
     "text": [
      "{'a': 1, 'b': 2, 'c': 3}\n",
      "<class 'dict'>\n",
      "('a', 'b', 'c')\n",
      "<class 'tuple'>\n"
     ]
    }
   ],
   "source": [
    "dict_example = {'a':1, 'b':2, 'c':3}\n",
    "print(dict_example)\n",
    "print(type(dict_example))\n",
    "\n",
    "tup = tuple(dict_example)\n",
    "print(tup)\n",
    "print(type(tup))      "
   ]
  },
  {
   "cell_type": "markdown",
   "id": "a176316a-519b-4117-b022-9be8e4d34ca8",
   "metadata": {},
   "source": [
    "# Converting a set into a tuple"
   ]
  },
  {
   "cell_type": "code",
   "execution_count": 15,
   "id": "72673b77-68e9-4257-80a3-13f9b65261c0",
   "metadata": {},
   "outputs": [
    {
     "name": "stdout",
     "output_type": "stream",
     "text": [
      "{1, 2, 3, 4, 5}\n",
      "<class 'set'>\n",
      "(1, 2, 3, 4, 5)\n",
      "<class 'tuple'>\n"
     ]
    }
   ],
   "source": [
    "set_example = {1,2,3,4,5}\n",
    "print(set_example)\n",
    "print(type(set_example))\n",
    "\n",
    "tup2 = tuple(set_example)\n",
    "print(tup2)\n",
    "print(type(tup2))"
   ]
  },
  {
   "cell_type": "markdown",
   "id": "5df66a8e-491f-4e93-971b-a522f73c0a1b",
   "metadata": {},
   "source": [
    "# Lecture 14"
   ]
  },
  {
   "cell_type": "markdown",
   "id": "46f39372-6c24-47bb-b3b6-d483825b6eb1",
   "metadata": {},
   "source": [
    "# Tuple in Python part 2"
   ]
  },
  {
   "cell_type": "markdown",
   "id": "669ab86c-5455-4741-b3d7-ec01f6e0e84a",
   "metadata": {},
   "source": [
    "# Indexing"
   ]
  },
  {
   "cell_type": "code",
   "execution_count": 16,
   "id": "ccace498-6652-427e-a1d9-9ee394032522",
   "metadata": {},
   "outputs": [
    {
     "name": "stdout",
     "output_type": "stream",
     "text": [
      "apple\n",
      "cherry\n"
     ]
    }
   ],
   "source": [
    "my_tuple = ('apple', 'banana', 'cherry', 'date')\n",
    "print(my_tuple[0])\n",
    "print(my_tuple[2])"
   ]
  },
  {
   "cell_type": "markdown",
   "id": "679ba6fa-e2dc-45f1-b37e-c86f34f84660",
   "metadata": {},
   "source": [
    "# Negative indexing"
   ]
  },
  {
   "cell_type": "code",
   "execution_count": 17,
   "id": "1d484407-c5ea-4409-91db-04eef85524fd",
   "metadata": {},
   "outputs": [
    {
     "name": "stdout",
     "output_type": "stream",
     "text": [
      "date\n",
      "banana\n"
     ]
    }
   ],
   "source": [
    "my_tuple = ('apple', 'banana', 'cherry', 'date')\n",
    "print(my_tuple[-1])\n",
    "print(my_tuple[-3])"
   ]
  },
  {
   "cell_type": "markdown",
   "id": "2bcc9cbe-948b-4e1a-8c99-fc901d6ab4e2",
   "metadata": {},
   "source": [
    "# Slicing in tuple"
   ]
  },
  {
   "cell_type": "code",
   "execution_count": 18,
   "id": "60eb7943-8648-4445-8e5a-e002a9bf585d",
   "metadata": {},
   "outputs": [
    {
     "name": "stdout",
     "output_type": "stream",
     "text": [
      "('a', 'b', 'c', 'd')\n"
     ]
    }
   ],
   "source": [
    "my_tup = ('a', 'b', 'c', 'd', 'e')\n",
    "\n",
    "print(my_tup[:4])"
   ]
  },
  {
   "cell_type": "code",
   "execution_count": 19,
   "id": "46ac24f2-6160-4f41-ad26-21a5a4c14461",
   "metadata": {},
   "outputs": [
    {
     "name": "stdout",
     "output_type": "stream",
     "text": [
      "('b', 'c', 'd')\n"
     ]
    }
   ],
   "source": [
    "my_tup = ('a', 'b', 'c', 'd', 'e')\n",
    "\n",
    "print(my_tup[1:4])"
   ]
  },
  {
   "cell_type": "code",
   "execution_count": 20,
   "id": "1ae6571f-77b5-468d-9bf3-bb7669d378a7",
   "metadata": {},
   "outputs": [
    {
     "name": "stdout",
     "output_type": "stream",
     "text": [
      "('a', 'b', 'c', 'd', 'e')\n"
     ]
    }
   ],
   "source": [
    "my_tup = ('a', 'b', 'c', 'd', 'e')\n",
    "\n",
    "print(my_tup[:])"
   ]
  },
  {
   "cell_type": "code",
   "execution_count": 21,
   "id": "3bf2cbbf-d9d6-4f76-9658-dbc73d2c75d4",
   "metadata": {},
   "outputs": [
    {
     "name": "stdout",
     "output_type": "stream",
     "text": [
      "('a', 'c', 'e')\n"
     ]
    }
   ],
   "source": [
    "my_tup = ('a', 'b', 'c', 'd', 'e')\n",
    "\n",
    "print(my_tup[::2])"
   ]
  },
  {
   "cell_type": "markdown",
   "id": "e86677b3-553c-44af-b4c9-35e05301d6f7",
   "metadata": {},
   "source": [
    "# Slicing - negative indexing"
   ]
  },
  {
   "cell_type": "code",
   "execution_count": 22,
   "id": "099bc9dc-c4c7-4d79-814c-0f02ecd727e4",
   "metadata": {},
   "outputs": [
    {
     "name": "stdout",
     "output_type": "stream",
     "text": [
      "('apple',)\n",
      "('banana', 'cherry', 'date')\n"
     ]
    }
   ],
   "source": [
    "tup2 = ('apple', 'banana', 'cherry', 'date')\n",
    "print(tup2[:-3])\n",
    "\n",
    "print(tup2[-3:])"
   ]
  },
  {
   "cell_type": "markdown",
   "id": "0c2d775f-4be9-4920-88f0-83091085fe19",
   "metadata": {},
   "source": [
    "# Reversing the tuple"
   ]
  },
  {
   "cell_type": "code",
   "execution_count": 23,
   "id": "cbf703ad-c367-4811-bee5-01f80c616593",
   "metadata": {},
   "outputs": [
    {
     "name": "stdout",
     "output_type": "stream",
     "text": [
      "(69, 97, 28, 16, 14, 31, 21, 45)\n"
     ]
    }
   ],
   "source": [
    "a = (45,21,31,14,16,28,97,69)\n",
    "print(a[::-1])"
   ]
  },
  {
   "cell_type": "code",
   "execution_count": 24,
   "id": "e9d12ace-bf2a-44be-aba2-e4253d17ee03",
   "metadata": {},
   "outputs": [
    {
     "name": "stdout",
     "output_type": "stream",
     "text": [
      "(1, 2, 3, 4, 5, 6, 7, 8)\n",
      "(4, 5, 6, 7, 8)\n",
      "(1, 2, 3, 4)\n",
      "()\n"
     ]
    }
   ],
   "source": [
    "T = (1,2,3,4,5,6,7,8,)\n",
    "\n",
    "print(T[::])\n",
    "print(T[3:])\n",
    "print(T[:4])\n",
    "print(T[-2:-5])"
   ]
  },
  {
   "cell_type": "markdown",
   "id": "f7f2f39c-af8b-41d5-b696-b9bb4f7116f6",
   "metadata": {},
   "source": [
    "# Duplicates are allowed in tuple"
   ]
  },
  {
   "cell_type": "code",
   "execution_count": 25,
   "id": "944f362b-d300-4be7-91f1-d88de7d237d1",
   "metadata": {},
   "outputs": [
    {
     "name": "stdout",
     "output_type": "stream",
     "text": [
      "(12, 14, 15, 16, 17, 13, 12, 15, 53, 78, 89)\n"
     ]
    }
   ],
   "source": [
    "a = (12,14,15,16,17,13,12,15,53,78,89)\n",
    "print(a)"
   ]
  },
  {
   "cell_type": "markdown",
   "id": "f5e1fb9c-52f1-48af-808a-4d68096ee77f",
   "metadata": {},
   "source": [
    "# Methods of tuples\n",
    "\n",
    "# count method"
   ]
  },
  {
   "cell_type": "code",
   "execution_count": 26,
   "id": "c7aeebad-5cd1-473e-b7e9-651b7d97f9f2",
   "metadata": {},
   "outputs": [
    {
     "name": "stdout",
     "output_type": "stream",
     "text": [
      "3\n"
     ]
    }
   ],
   "source": [
    "a = (12,14,15,16,17,13,12,15,53,12,78,89)\n",
    "print(a.count(12))"
   ]
  },
  {
   "cell_type": "code",
   "execution_count": 27,
   "id": "8ed6d57e-a670-4eda-af56-a018746c6681",
   "metadata": {},
   "outputs": [
    {
     "name": "stdout",
     "output_type": "stream",
     "text": [
      "3\n",
      "2\n"
     ]
    }
   ],
   "source": [
    "b = ('shubham', 'nishant', 'ayush', 'bhawesh', 'shubham', 'ayush', 'shubham')\n",
    "print(b.count('shubham'))\n",
    "print(b.count('ayush'))"
   ]
  },
  {
   "cell_type": "markdown",
   "id": "5ef7681d-d0a1-4d58-8c16-2dd86595fe5e",
   "metadata": {},
   "source": [
    "# index method"
   ]
  },
  {
   "cell_type": "code",
   "execution_count": 3,
   "id": "961b0319-0b87-451b-8499-d83c3d77cdf8",
   "metadata": {},
   "outputs": [
    {
     "name": "stdout",
     "output_type": "stream",
     "text": [
      "0\n",
      "2\n"
     ]
    }
   ],
   "source": [
    "b = ('shubham', 'nishant', 'ayush', 'bhawesh', 'shubham', 'ayush', 'shubham')\n",
    "print(b.index('shubham'))\n",
    "print(b.index('ayush'))"
   ]
  },
  {
   "cell_type": "code",
   "execution_count": null,
   "id": "1d4d276b-9f75-4e06-a310-7cbf998810a6",
   "metadata": {},
   "outputs": [],
   "source": []
  },
  {
   "cell_type": "code",
   "execution_count": null,
   "id": "25079669-0577-4d91-8c3b-22b1c8890987",
   "metadata": {},
   "outputs": [],
   "source": []
  },
  {
   "cell_type": "code",
   "execution_count": null,
   "id": "c70e6f5b-c7ca-4996-b36c-5c721aac9cef",
   "metadata": {},
   "outputs": [],
   "source": []
  }
 ],
 "metadata": {
  "kernelspec": {
   "display_name": "base",
   "language": "python",
   "name": "python3"
  },
  "language_info": {
   "codemirror_mode": {
    "name": "ipython",
    "version": 3
   },
   "file_extension": ".py",
   "mimetype": "text/x-python",
   "name": "python",
   "nbconvert_exporter": "python",
   "pygments_lexer": "ipython3",
   "version": "3.12.7"
  },
  "panel-cell-order": [
   "a677a458-a448-497c-9bd9-359b6b0a1ab4",
   "ad74eb62-07bf-45a9-b3a9-10cbd7f9267d",
   "ae2fcba7-0d91-468b-865b-e04853e3e82e",
   "dca8610d-c0e8-4296-aed7-1871f1b5ba62",
   "1d004af6-71e2-462e-ae78-a5ae56aa0a02"
  ]
 },
 "nbformat": 4,
 "nbformat_minor": 5
}
